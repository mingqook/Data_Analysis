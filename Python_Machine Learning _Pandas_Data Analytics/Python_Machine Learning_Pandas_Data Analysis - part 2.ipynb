{
 "cells": [
  {
   "cell_type": "markdown",
   "id": "speaking-humanitarian",
   "metadata": {},
   "source": [
    "# Python_Machine Learning_Pandas_Data Analysis - part 1"
   ]
  },
  {
   "cell_type": "markdown",
   "id": "incoming-video",
   "metadata": {},
   "source": [
    "##### 데이터 분석 관련 내용을 정리 하였으며, 파이썬 머신러닝 판다스 데이터분석(오승환 지음)을 참고하여 작성하였습니다.\n",
    "##### 해당 자료는 python 3.7 기반으로 작성되었습니다."
   ]
  },
  {
   "cell_type": "markdown",
   "id": "hourly-haiti",
   "metadata": {},
   "source": [
    "## 2. 데이터 입출력\n",
    "### 2.1 외부 파일 읽어오기\n",
    "#### - 판다스를 통해 csv, json, pickle 등의 파일을 불러와 데이터프레임으로 작업할 수 있다."
   ]
  },
  {
   "cell_type": "code",
   "execution_count": 1,
   "id": "infrared-excuse",
   "metadata": {},
   "outputs": [],
   "source": [
    "# pandas.read_csv(경로) - csv 파일을 불러옴\n",
    "## header 옵션 - 열 이름으로 사용할 행을 지정 / default = 0 / None 입력 시 열 이름으로 행을 지정하지 않는다.\n",
    "## index_col 옵션 - 행 인덱스로 사용할 열을 지정 / False 입력 시 인덱스를 지정하지 않는다. \n",
    "## sep - 구분자 지정 / csv 파일을 불러오기때문에 default = , / 탭(\\t), 공백('')도 사용 가능\n",
    "## names - 열 이름으로 사용할 문자열의 리스트\n",
    "## skiprows - 처음 몇 줄을 skip 할 것인지 설정 / skip 하려는 행 번호 리스트로도 가능\n",
    "## parse_dates - 날짜 텍스트를 datetime64로 변환할 것인지 설정 / default = False\n",
    "## skip_footer - 마지막 몇 줄을 skip 할 것인지 설정\n",
    "## encoding - 텍스트 인코딩 종류를 설정 - UTF-8, CP949"
   ]
  },
  {
   "cell_type": "code",
   "execution_count": 2,
   "id": "royal-treat",
   "metadata": {},
   "outputs": [],
   "source": [
    "# pandas.read_excel(경로) - excel 파일을 불러옴 - read_csv()와 거의 유사\n",
    "## header 옵션 - 열 이름으로 사용할 행을 지정 / 옵션을 지정하지 않으면 첫 행이 열 이름이 됨 / None 옵션 시 정수형 인덱스 할당"
   ]
  },
  {
   "cell_type": "code",
   "execution_count": 3,
   "id": "still-country",
   "metadata": {},
   "outputs": [],
   "source": [
    "# pandas.read_json(경로) - json 파일을 불러옴"
   ]
  },
  {
   "cell_type": "markdown",
   "id": "desperate-debate",
   "metadata": {},
   "source": [
    "### 2.2 웹에서 가져오기"
   ]
  },
  {
   "cell_type": "code",
   "execution_count": 4,
   "id": "underlying-active",
   "metadata": {},
   "outputs": [],
   "source": [
    "# pandas.read_html(경로) - html 웹 페이지에 있는 <table> 태그에서 표 형식의 데이터를 찾아 반환\n",
    "## 표 데이터들은 별도의 데이터프레임으로 변환되기 때문에 여러 개의 데이터프레임을 원소고 갖는 리스트가 반환"
   ]
  },
  {
   "cell_type": "code",
   "execution_count": 5,
   "id": "related-deployment",
   "metadata": {},
   "outputs": [],
   "source": [
    "# 웹 스크래핑 - BeautifulSoup 등을 이용\n",
    "## 크롤링 basic 정리 장료 참고 - 작성 후 basic 크롤링 링크 걸어야 함"
   ]
  },
  {
   "cell_type": "markdown",
   "id": "powerful-zambia",
   "metadata": {},
   "source": [
    "### 2.3 API 활용하여 데이터 수집하기\n",
    "#### - 생략"
   ]
  },
  {
   "cell_type": "markdown",
   "id": "bronze-death",
   "metadata": {},
   "source": [
    "### 2.4 데이터 저장하기"
   ]
  },
  {
   "cell_type": "code",
   "execution_count": 6,
   "id": "beautiful-paint",
   "metadata": {},
   "outputs": [],
   "source": [
    "# df.to_csv(경로) - 데이터프레임을 해당 경로에 csv 파일로 저장한다. \n",
    "# df.to_json(경로) - 데이터프레임을 해당 경로에 json 파일로 저장한다. \n",
    "# df.to_excel(경로) - 데이터프레임을 해당 경로에 excel 파일로 저장한다. \n",
    "## to_excel() 메서드를 사용하기 위해서는 openpyxl 라이브러리를 설치해야 한다. \n",
    "# pandas.ExcelWrite() - Excel 워크북(Excel) 객체를 생성 / to_excel은 하나의 시트를 만들고 ExcelWriter()는 시트를 모아줌 "
   ]
  },
  {
   "cell_type": "code",
   "execution_count": null,
   "id": "minor-christmas",
   "metadata": {},
   "outputs": [],
   "source": []
  }
 ],
 "metadata": {
  "kernelspec": {
   "display_name": "Python 3",
   "language": "python",
   "name": "python3"
  },
  "language_info": {
   "codemirror_mode": {
    "name": "ipython",
    "version": 3
   },
   "file_extension": ".py",
   "mimetype": "text/x-python",
   "name": "python",
   "nbconvert_exporter": "python",
   "pygments_lexer": "ipython3",
   "version": "3.7.3"
  }
 },
 "nbformat": 4,
 "nbformat_minor": 5
}
