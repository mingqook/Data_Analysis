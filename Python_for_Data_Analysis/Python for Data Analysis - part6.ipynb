{
 "cells": [
  {
   "cell_type": "markdown",
   "id": "centered-lawrence",
   "metadata": {},
   "source": [
    "# Python for Data Analysis - part6"
   ]
  },
  {
   "cell_type": "markdown",
   "id": "innovative-rebecca",
   "metadata": {},
   "source": [
    "##### Python의 numpy, pandas 등을 정리하였으며 파이썬 라이브러리를 활용한 데이터분석(2판)을 참고하여 작성하였습니다.\n",
    "##### 해당 자료는 python 3.6 기반으로 작성되었습니다."
   ]
  },
  {
   "cell_type": "markdown",
   "id": "comic-motion",
   "metadata": {},
   "source": [
    "## 6. 데이터 로딩과 저장, 파일 형식\n",
    "### 6.1 텍스트 파일에서 데이터를 읽고 쓰는 법"
   ]
  },
  {
   "cell_type": "code",
   "execution_count": 9,
   "id": "legendary-surgery",
   "metadata": {},
   "outputs": [
    {
     "name": "stdout",
     "output_type": "stream",
     "text": [
      "   a   b   c   d message\n",
      "0  1   2   3   4   hello\n",
      "1  5   6   7   8   world\n",
      "2  9  10  11  12     foo\n",
      "-------------------------------------------\n",
      "   a   b   c   d message\n",
      "0  1   2   3   4   hello\n",
      "1  5   6   7   8   world\n",
      "2  9  10  11  12     foo\n",
      "-------------------------------------------\n",
      "   0   1   2   3      4\n",
      "0  1   2   3   4  hello\n",
      "1  5   6   7   8  world\n",
      "2  9  10  11  12    foo\n",
      "-------------------------------------------\n",
      "   a   b   c   d message\n",
      "0  1   2   3   4   hello\n",
      "1  5   6   7   8   world\n",
      "2  9  10  11  12     foo\n",
      "-------------------------------------------\n",
      "         a   b   c   d\n",
      "message               \n",
      "hello    1   2   3   4\n",
      "world    5   6   7   8\n",
      "foo      9  10  11  12\n",
      "-------------------------------------------\n",
      "           value1  value2\n",
      "key1 key2                \n",
      "one  a          1       2\n",
      "     b          3       4\n",
      "     c          5       6\n",
      "     d          7       8\n",
      "two  a          9      10\n",
      "     b         11      12\n",
      "     c         13      14\n",
      "     d         15      16\n",
      "-------------------------------------------\n",
      "            A         B         C\n",
      "aaa -0.264438 -1.026059 -0.619500\n",
      "bbb  0.927272  0.302904 -0.032399\n",
      "ccc -0.264273 -0.386314 -0.217601\n",
      "ddd -0.871858 -0.348382  1.100491\n",
      "-------------------------------------------\n"
     ]
    }
   ],
   "source": [
    "import pandas as pd\n",
    "\n",
    "df = pd.read_csv('examples/ex1.csv')\n",
    "print(df)\n",
    "print('-------------------------------------------')\n",
    "\n",
    "# Read_table 구분자 추가\n",
    "print(pd.read_table('examples/ex1.csv', sep = ','))\n",
    "print('-------------------------------------------')\n",
    "\n",
    "print(pd.read_csv('examples/ex2.csv', header = None))\n",
    "print('-------------------------------------------')\n",
    "\n",
    "print(pd.read_csv('examples/ex2.csv', names = ['a', 'b', 'c', 'd', 'message']))\n",
    "print('-------------------------------------------')\n",
    "\n",
    "# index가 될 col 지정\n",
    "names = ['a', 'b', 'c', 'd', 'message']\n",
    "print(pd.read_csv('examples/ex2.csv', names = names, index_col = 'message'))\n",
    "print('-------------------------------------------')\n",
    "\n",
    "parsed = pd.read_csv('examples/csv_mindex.csv', index_col = ['key1', 'key2'])\n",
    "print(parsed)\n",
    "print('-------------------------------------------')\n",
    "\n",
    "# 구분자가 없는 경우 - 정규표현식 사용(여러 개의 공백 문자)\n",
    "result = pd.read_table('examples/ex3.txt', sep='\\s+')\n",
    "print(result)\n",
    "print('-------------------------------------------')"
   ]
  },
  {
   "cell_type": "code",
   "execution_count": 13,
   "id": "express-karma",
   "metadata": {},
   "outputs": [
    {
     "name": "stdout",
     "output_type": "stream",
     "text": [
      "   a   b   c   d message\n",
      "0  1   2   3   4   hello\n",
      "1  5   6   7   8   world\n",
      "2  9  10  11  12     foo\n",
      "-------------------------------------------\n",
      "  something  a   b     c   d message\n",
      "0       one  1   2   3.0   4     NaN\n",
      "1       two  5   6   NaN   8   world\n",
      "2     three  9  10  11.0  12     foo\n",
      "-------------------------------------------\n",
      "   something      a      b      c      d  message\n",
      "0      False  False  False  False  False     True\n",
      "1      False  False  False   True  False    False\n",
      "2      False  False  False  False  False    False\n",
      "-------------------------------------------\n",
      "  something  a   b     c   d message\n",
      "0       one  1   2   3.0   4     NaN\n",
      "1       two  5   6   NaN   8   world\n",
      "2     three  9  10  11.0  12     foo\n",
      "-------------------------------------------\n",
      "  something  a   b     c   d message\n",
      "0       one  1   2   3.0   4     NaN\n",
      "1       NaN  5   6   NaN   8   world\n",
      "2     three  9  10  11.0  12     NaN\n",
      "-------------------------------------------\n"
     ]
    }
   ],
   "source": [
    "# skiprow - 건너 뛸 row 선택\n",
    "print(pd.read_csv('examples/ex4.csv', skiprows = [0,2,3]))\n",
    "print('-------------------------------------------')\n",
    "\n",
    "result = pd.read_csv('examples/ex5.csv')\n",
    "print(result)\n",
    "print('-------------------------------------------')\n",
    "print(pd.isnull(result))\n",
    "print('-------------------------------------------')\n",
    "\n",
    "# na_values - 누락된 값을 처리\n",
    "result = pd.read_csv('examples/ex5.csv', na_values=['NULL'])\n",
    "print(result)\n",
    "print('-------------------------------------------')\n",
    "\n",
    "sentinels = {'message' : ['foo', 'NA'], 'something' : ['two']}\n",
    "print(pd.read_csv('examples/ex5.csv', na_values=sentinels))\n",
    "print('-------------------------------------------')"
   ]
  },
  {
   "cell_type": "markdown",
   "id": "funky-warrior",
   "metadata": {},
   "source": [
    "#### - read_csv와 read_table 인자 : path(경로), sep(구분자), delimiter(구분자), header(컬럼으로 사용할 로우 번호), index_col(index로 사용할 컬럼 번호나 이름), names(컬럼 이름으로 사용할 리스트, header = None과 사용), skiprows(무시할 행의 수, 로우 번호가 담긴 리스트), na_values(na값으로 처리할 값들의 목록), parse_dates(datetime 변환 여부), keep_date_col(datetime 변환 시 원래 컬럼 남겨둘 지 여부), nrows(불러올 row 수), encoding(유니코드 인코딩 종류), squeeze(컬럼이 1개면 series 반환) "
   ]
  },
  {
   "cell_type": "markdown",
   "id": "grand-tactics",
   "metadata": {},
   "source": [
    "#### 6.1.1 텍스트 파일 조금씩 읽어오기"
   ]
  },
  {
   "cell_type": "code",
   "execution_count": 14,
   "id": "seven-party",
   "metadata": {},
   "outputs": [],
   "source": [
    "# pandas 출력 설정 변경 - 최대 10개 출력\n",
    "pd.options.display.max_rows = 10"
   ]
  },
  {
   "cell_type": "code",
   "execution_count": 19,
   "id": "operational-marsh",
   "metadata": {},
   "outputs": [
    {
     "name": "stdout",
     "output_type": "stream",
     "text": [
      "           one       two     three      four key\n",
      "0     0.467976 -0.038649 -0.295344 -1.824726   L\n",
      "1    -0.358893  1.404453  0.704965 -0.200638   B\n",
      "2    -0.501840  0.659254 -0.421691 -0.057688   G\n",
      "3     0.204886  1.074134  1.388361 -0.982404   R\n",
      "4     0.354628 -0.133116  0.283763 -0.837063   Q\n",
      "...        ...       ...       ...       ...  ..\n",
      "9995  2.311896 -0.417070 -1.409599 -0.515821   L\n",
      "9996 -0.479893 -0.650419  0.745152 -0.646038   E\n",
      "9997  0.523331  0.787112  0.486066  1.093156   K\n",
      "9998 -0.362559  0.598894 -1.843201  0.887292   G\n",
      "9999 -0.096376 -1.012999 -0.657431 -0.573315   0\n",
      "\n",
      "[10000 rows x 5 columns]\n",
      "-------------------------------------------\n",
      "        one       two     three      four key\n",
      "0  0.467976 -0.038649 -0.295344 -1.824726   L\n",
      "1 -0.358893  1.404453  0.704965 -0.200638   B\n",
      "2 -0.501840  0.659254 -0.421691 -0.057688   G\n",
      "3  0.204886  1.074134  1.388361 -0.982404   R\n",
      "4  0.354628 -0.133116  0.283763 -0.837063   Q\n",
      "-------------------------------------------\n",
      "<pandas.io.parsers.TextFileReader object at 0x7fa35db47f28>\n",
      "-------------------------------------------\n",
      "E    368.0\n",
      "X    364.0\n",
      "L    346.0\n",
      "O    343.0\n",
      "Q    340.0\n",
      "M    338.0\n",
      "J    337.0\n",
      "F    335.0\n",
      "K    334.0\n",
      "H    330.0\n",
      "dtype: float64\n",
      "-------------------------------------------\n"
     ]
    },
    {
     "name": "stderr",
     "output_type": "stream",
     "text": [
      "/Users/qook/Python/3.6/venv/lib/python3.6/site-packages/ipykernel_launcher.py:14: DeprecationWarning: The default dtype for empty Series will be 'object' instead of 'float64' in a future version. Specify a dtype explicitly to silence this warning.\n",
      "  \n"
     ]
    }
   ],
   "source": [
    "result = pd.read_csv('examples/ex6.csv')\n",
    "print(result)\n",
    "print('-------------------------------------------')\n",
    "\n",
    "# nrows = 처음 n 줄만 읽기를 원할 때 \n",
    "print(pd.read_csv('examples/ex6.csv', nrows = 5))\n",
    "print('-------------------------------------------')\n",
    "\n",
    "# chunksize - 파일을 여러 조각 나누어서 읽을 때 \n",
    "chunker = pd.read_csv('examples/ex6.csv', chunksize = 1000)\n",
    "print(chunker)\n",
    "print('-------------------------------------------')\n",
    "\n",
    "tot = pd.Series([])\n",
    "for piece in chunker:\n",
    "    tot = tot.add(piece['key'].value_counts(), fill_value =0)\n",
    "tot = tot.sort_values(ascending = False)\n",
    "\n",
    "print(tot[:10])\n",
    "print('-------------------------------------------')"
   ]
  },
  {
   "cell_type": "markdown",
   "id": "expanded-product",
   "metadata": {},
   "source": [
    "#### 6.1.2 데이터를 텍스트 형식으로 기록하기"
   ]
  },
  {
   "cell_type": "code",
   "execution_count": 23,
   "id": "sustainable-error",
   "metadata": {},
   "outputs": [
    {
     "name": "stdout",
     "output_type": "stream",
     "text": [
      "  something  a   b     c   d message\n",
      "0       one  1   2   3.0   4     NaN\n",
      "1       two  5   6   NaN   8   world\n",
      "2     three  9  10  11.0  12     foo\n",
      "-------------------------------------------\n",
      "|something|a|b|c|d|message\n",
      "0|one|1|2|3.0|4|\n",
      "1|two|5|6||8|world\n",
      "2|three|9|10|11.0|12|foo\n",
      "None\n",
      "-------------------------------------------\n",
      ",something,a,b,c,d,message\n",
      "0,one,1,2,3.0,4,NULL\n",
      "1,two,5,6,NULL,8,world\n",
      "2,three,9,10,11.0,12,foo\n",
      "None\n",
      "-------------------------------------------\n",
      "one,1,2,3.0,4,\n",
      "two,5,6,,8,world\n",
      "three,9,10,11.0,12,foo\n",
      "None\n",
      "-------------------------------------------\n",
      "a,b,c\n",
      "1,2,3.0\n",
      "5,6,\n",
      "9,10,11.0\n",
      "None\n",
      "-------------------------------------------\n"
     ]
    }
   ],
   "source": [
    "data = pd.read_csv('examples/ex5.csv')\n",
    "print(data)\n",
    "print('-------------------------------------------')\n",
    "\n",
    "# to_csv() - csv로 저장\n",
    "#  data.to_csv('examples/out.csv')\n",
    "\n",
    "# sys.stdout() - 실제 파일에 기록하지 않은 채 콘솔에서 확인\n",
    "import sys\n",
    "\n",
    "# 저장 구분자 변경\n",
    "print(data.to_csv(sys.stdout, sep='|'))\n",
    "print('-------------------------------------------')\n",
    "\n",
    "# 누락된 값을 원하는 값으로 변경\n",
    "print(data.to_csv(sys.stdout, na_rep='NULL'))\n",
    "print('-------------------------------------------')\n",
    "\n",
    "# 행, 열이름 포함 안함\n",
    "print(data.to_csv(sys.stdout, index = False, header=False))\n",
    "print('-------------------------------------------')\n",
    "\n",
    "# 일부 컬럼만 저장, 순서도 직접 지정\n",
    "print(data.to_csv(sys.stdout, index = False, columns = ['a', 'b', 'c']))\n",
    "print('-------------------------------------------')"
   ]
  },
  {
   "cell_type": "markdown",
   "id": "prompt-broadcasting",
   "metadata": {},
   "source": [
    "#### 6.1.3 구분자 형식 다루기"
   ]
  },
  {
   "cell_type": "code",
   "execution_count": 24,
   "id": "electric-rates",
   "metadata": {},
   "outputs": [
    {
     "name": "stdout",
     "output_type": "stream",
     "text": [
      "['a', 'b', 'c']\n",
      "['1', '2', '3']\n",
      "['1', '2', '3']\n"
     ]
    }
   ],
   "source": [
    "import csv\n",
    "f = open('examples/ex7.csv')\n",
    "reader = csv.reader(f)\n",
    "\n",
    "for line in reader:\n",
    "    print(line)"
   ]
  },
  {
   "cell_type": "code",
   "execution_count": 26,
   "id": "miniature-private",
   "metadata": {},
   "outputs": [
    {
     "name": "stdout",
     "output_type": "stream",
     "text": [
      "{'a': ('1', '1'), 'b': ('2', '2'), 'c': ('3', '3')}\n",
      "-------------------------------------------\n"
     ]
    }
   ],
   "source": [
    "with open('examples/ex7.csv') as f:\n",
    "    lines = list(csv.reader(f))\n",
    "    \n",
    "header, values = lines[0], lines[1:]\n",
    "\n",
    "data_dict = {h:v for h, v in zip(header, zip(*values))}\n",
    "print(data_dict)\n",
    "print('-------------------------------------------')"
   ]
  },
  {
   "cell_type": "markdown",
   "id": "thousand-richardson",
   "metadata": {},
   "source": [
    "#### csv 관련 옵션 - delimiter(필드 구분자, 기본은 ',') , lineterminator(파일 저장 시 사용할 개행 문자), quotechar(필드에서 값을 둘러싸고 있는 문자), quoting(값을 읽거나 쓸 때 둘러쌀 문자 컨벤션), skipinitialspace(구분자 뒤 공백문자 무시 여부), doublequote(값을 둘러싸는 문자가 필드 내 존재할 경우 처리 여부)"
   ]
  },
  {
   "cell_type": "markdown",
   "id": "asian-withdrawal",
   "metadata": {},
   "source": [
    "#### 6.1.4 JSON 데이터"
   ]
  },
  {
   "cell_type": "code",
   "execution_count": 28,
   "id": "solved-place",
   "metadata": {},
   "outputs": [],
   "source": [
    "import json\n",
    "\n",
    "# json.loads() / json.dumps() - json 문자열을 파이썬 형태로 변환 / 파이썬 객체를 json으로 변환\n",
    "# result = json.loads(obj)\n",
    "# print(result)\n",
    "# print('-------------------------------------------')"
   ]
  },
  {
   "cell_type": "markdown",
   "id": "polish-tyler",
   "metadata": {},
   "source": [
    "#### 6.1.5 XML과 HTML: 웹 스크래핑 - 생략\n",
    "#### - lxml 사용"
   ]
  },
  {
   "cell_type": "markdown",
   "id": "decreased-cherry",
   "metadata": {},
   "source": [
    "### 6.2 이진 데이터 형식 - 생략\n",
    "#### - pickle 파일 그냥 쓰자...."
   ]
  },
  {
   "cell_type": "markdown",
   "id": "romance-livestock",
   "metadata": {},
   "source": [
    "### 6.3 웹 API와 함께 사용하기 - 생략\n",
    "#### - requests 패키지 활용"
   ]
  },
  {
   "cell_type": "markdown",
   "id": "afraid-curve",
   "metadata": {},
   "source": [
    "### 6.4 데이터베이스와 함께 사용하기 - 생략\n",
    "#### - sqlite3 사용"
   ]
  }
 ],
 "metadata": {
  "kernelspec": {
   "display_name": "Python 3",
   "language": "python",
   "name": "python3"
  },
  "language_info": {
   "codemirror_mode": {
    "name": "ipython",
    "version": 3
   },
   "file_extension": ".py",
   "mimetype": "text/x-python",
   "name": "python",
   "nbconvert_exporter": "python",
   "pygments_lexer": "ipython3",
   "version": "3.6.8"
  }
 },
 "nbformat": 4,
 "nbformat_minor": 5
}
