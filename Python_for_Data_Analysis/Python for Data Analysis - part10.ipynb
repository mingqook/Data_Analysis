{
 "cells": [
  {
   "cell_type": "markdown",
   "id": "spoken-tunisia",
   "metadata": {},
   "source": [
    "# Python for Data Analysis - part10"
   ]
  },
  {
   "cell_type": "markdown",
   "id": "architectural-pontiac",
   "metadata": {},
   "source": [
    "##### Python의 numpy, pandas 등을 정리하였으며 파이썬 라이브러리를 활용한 데이터분석(2판)을 참고하여 작성하였습니다.\n",
    "##### 해당 자료는 python 3.6 기반으로 작성되었습니다."
   ]
  },
  {
   "cell_type": "markdown",
   "id": "knowing-motivation",
   "metadata": {},
   "source": [
    "## 10. 데이터 집계와 그룹 연산"
   ]
  },
  {
   "cell_type": "markdown",
   "id": "eastern-theory",
   "metadata": {},
   "source": [
    "### 10.1 GroupBy 메카닉\n",
    "#### - 그룹 연산의 첫 번째 단계 : 데이터를 하나 이상의 키를 기준으로 분리\n",
    "#### - 그룹 연산의 두 번째 단계 : 함수를 각 그룹에 적용\n",
    "#### - 그룹 연산의 세 번째 단계 : 함수를 적용한 결과를 하나의 객체로 결합"
   ]
  },
  {
   "cell_type": "code",
   "execution_count": 5,
   "id": "miniature-worthy",
   "metadata": {},
   "outputs": [
    {
     "name": "stdout",
     "output_type": "stream",
     "text": [
      "  key1 key2     data1     data2\n",
      "0    a  one -0.078761 -0.003874\n",
      "1    a  two -0.240141 -0.430620\n",
      "2    b  one -0.894730  0.685737\n",
      "3    b  two -0.521760  0.948024\n",
      "4    a  one  1.360494 -0.347543\n",
      "-------------------------------------\n",
      "<pandas.core.groupby.generic.SeriesGroupBy object at 0x7f882d58c6a0>\n",
      "-------------------------------------\n",
      "key1\n",
      "a    0.347197\n",
      "b   -0.708245\n",
      "Name: data1, dtype: float64\n",
      "-------------------------------------\n",
      "key1  key2\n",
      "a     one     0.640867\n",
      "      two    -0.240141\n",
      "b     one    -0.894730\n",
      "      two    -0.521760\n",
      "Name: data1, dtype: float64\n",
      "-------------------------------------\n",
      "key2       one       two\n",
      "key1                    \n",
      "a     0.640867 -0.240141\n",
      "b    -0.894730 -0.521760\n",
      "-------------------------------------\n"
     ]
    }
   ],
   "source": [
    "import pandas as pd\n",
    "import numpy as np\n",
    "\n",
    "df = pd.DataFrame({'key1' : ['a', 'a', 'b', 'b', 'a'],\n",
    "                   'key2' : ['one', 'two', 'one', 'two', 'one'],\n",
    "                   'data1' : np.random.randn(5),\n",
    "                   'data2' : np.random.randn(5)\n",
    "                  })\n",
    "print(df)\n",
    "print('-------------------------------------')\n",
    "\n",
    "# key1으로 묶은 후 각 그룹에서 data1의 평균\n",
    "grouped = df['data1'].groupby(df['key1'])\n",
    "print(grouped)\n",
    "print('-------------------------------------')\n",
    "print(grouped.mean())\n",
    "print('-------------------------------------')\n",
    "\n",
    "means = df['data1'].groupby([df['key1'], df['key2']]).mean()\n",
    "print(means)\n",
    "print('-------------------------------------')\n",
    "\n",
    "print(means.unstack())\n",
    "print('-------------------------------------')"
   ]
  },
  {
   "cell_type": "code",
   "execution_count": 10,
   "id": "artistic-crystal",
   "metadata": {},
   "outputs": [
    {
     "name": "stdout",
     "output_type": "stream",
     "text": [
      "california  2005   -0.240141\n",
      "            2006   -0.894730\n",
      "ohio        2005   -0.300261\n",
      "            2006    1.360494\n",
      "Name: data1, dtype: float64\n",
      "-------------------------------------\n",
      "         data1     data2\n",
      "key1                    \n",
      "a     0.347197 -0.260679\n",
      "b    -0.708245  0.816881\n",
      "-------------------------------------\n",
      "              data1     data2\n",
      "key1 key2                    \n",
      "a    one   0.640867 -0.175709\n",
      "     two  -0.240141 -0.430620\n",
      "b    one  -0.894730  0.685737\n",
      "     two  -0.521760  0.948024\n",
      "-------------------------------------\n"
     ]
    }
   ],
   "source": [
    "states = np.array(['ohio', 'california', 'california', 'ohio', 'ohio'])\n",
    "years = np.array([2005, 2005, 2006, 2005, 2006])\n",
    "\n",
    "print(df['data1'].groupby([states, years]).mean())\n",
    "print('-------------------------------------')\n",
    "\n",
    "print(df.groupby('key1').mean())\n",
    "print('-------------------------------------')\n",
    "\n",
    "print(df.groupby(['key1', 'key2']).mean())\n",
    "print('-------------------------------------')"
   ]
  },
  {
   "cell_type": "code",
   "execution_count": 11,
   "id": "emotional-integration",
   "metadata": {},
   "outputs": [
    {
     "name": "stdout",
     "output_type": "stream",
     "text": [
      "key1  key2\n",
      "a     one     2\n",
      "      two     1\n",
      "b     one     1\n",
      "      two     1\n",
      "dtype: int64\n",
      "-------------------------------------\n"
     ]
    }
   ],
   "source": [
    "print(df.groupby(['key1', 'key2']).size())\n",
    "print('-------------------------------------')"
   ]
  },
  {
   "cell_type": "markdown",
   "id": "built-accuracy",
   "metadata": {},
   "source": [
    "#### 10.1.1 그룹 간 순회하기\n",
    "#### - Groupby 객체는 이터레이션을 지원"
   ]
  },
  {
   "cell_type": "code",
   "execution_count": 13,
   "id": "electoral-satin",
   "metadata": {},
   "outputs": [
    {
     "name": "stdout",
     "output_type": "stream",
     "text": [
      "a\n",
      "-------------------------------------\n",
      "  key1 key2     data1     data2\n",
      "0    a  one -0.078761 -0.003874\n",
      "1    a  two -0.240141 -0.430620\n",
      "4    a  one  1.360494 -0.347543\n",
      "-------------------------------------\n",
      "b\n",
      "-------------------------------------\n",
      "  key1 key2    data1     data2\n",
      "2    b  one -0.89473  0.685737\n",
      "3    b  two -0.52176  0.948024\n",
      "-------------------------------------\n"
     ]
    }
   ],
   "source": [
    "for name, group in df.groupby('key1'):\n",
    "    print(name)\n",
    "    print('-------------------------------------')\n",
    "    print(group)\n",
    "    print('-------------------------------------')"
   ]
  },
  {
   "cell_type": "code",
   "execution_count": 15,
   "id": "behavioral-riding",
   "metadata": {},
   "outputs": [
    {
     "name": "stdout",
     "output_type": "stream",
     "text": [
      "('a', 'one')\n",
      "-------------------------------------\n",
      "  key1 key2     data1     data2\n",
      "0    a  one -0.078761 -0.003874\n",
      "4    a  one  1.360494 -0.347543\n",
      "-------------------------------------\n",
      "('a', 'two')\n",
      "-------------------------------------\n",
      "  key1 key2     data1    data2\n",
      "1    a  two -0.240141 -0.43062\n",
      "-------------------------------------\n",
      "('b', 'one')\n",
      "-------------------------------------\n",
      "  key1 key2    data1     data2\n",
      "2    b  one -0.89473  0.685737\n",
      "-------------------------------------\n",
      "('b', 'two')\n",
      "-------------------------------------\n",
      "  key1 key2    data1     data2\n",
      "3    b  two -0.52176  0.948024\n",
      "-------------------------------------\n"
     ]
    }
   ],
   "source": [
    "for (k1, k2), group in df.groupby(['key1', 'key2']):\n",
    "    print((k1, k2))\n",
    "    print('-------------------------------------')\n",
    "    print(group)\n",
    "    print('-------------------------------------')"
   ]
  },
  {
   "cell_type": "code",
   "execution_count": 16,
   "id": "supreme-omega",
   "metadata": {},
   "outputs": [
    {
     "name": "stdout",
     "output_type": "stream",
     "text": [
      "  key1 key2    data1     data2\n",
      "2    b  one -0.89473  0.685737\n",
      "3    b  two -0.52176  0.948024\n",
      "-------------------------------------\n"
     ]
    }
   ],
   "source": [
    "pieces = dict(list(df.groupby('key1')))\n",
    "print(pieces['b'])\n",
    "print('-------------------------------------')"
   ]
  },
  {
   "cell_type": "code",
   "execution_count": 17,
   "id": "unable-first",
   "metadata": {},
   "outputs": [
    {
     "name": "stdout",
     "output_type": "stream",
     "text": [
      "key1      object\n",
      "key2      object\n",
      "data1    float64\n",
      "data2    float64\n",
      "dtype: object\n",
      "-------------------------------------\n",
      "float64\n",
      "-------------------------------------\n",
      "      data1     data2\n",
      "0 -0.078761 -0.003874\n",
      "1 -0.240141 -0.430620\n",
      "2 -0.894730  0.685737\n",
      "3 -0.521760  0.948024\n",
      "4  1.360494 -0.347543\n",
      "-------------------------------------\n",
      "object\n",
      "-------------------------------------\n",
      "  key1 key2\n",
      "0    a  one\n",
      "1    a  two\n",
      "2    b  one\n",
      "3    b  two\n",
      "4    a  one\n",
      "-------------------------------------\n"
     ]
    }
   ],
   "source": [
    "print(df.dtypes)\n",
    "print('-------------------------------------')\n",
    "\n",
    "grouped = df.groupby(df.dtypes, axis = 1)\n",
    "\n",
    "for dtype, group in grouped:\n",
    "    print(dtype)\n",
    "    print('-------------------------------------')\n",
    "    print(group)\n",
    "    print('-------------------------------------')"
   ]
  },
  {
   "cell_type": "markdown",
   "id": "developmental-louisiana",
   "metadata": {},
   "source": [
    "#### 10.1.2 컬럼이나 컬럼의 일부만 선택하기"
   ]
  },
  {
   "cell_type": "code",
   "execution_count": 20,
   "id": "lyric-nicholas",
   "metadata": {},
   "outputs": [
    {
     "name": "stdout",
     "output_type": "stream",
     "text": [
      "              data2\n",
      "key1 key2          \n",
      "a    one  -0.175709\n",
      "     two  -0.430620\n",
      "b    one   0.685737\n",
      "     two   0.948024\n",
      "-------------------------------------\n",
      "<pandas.core.groupby.generic.SeriesGroupBy object at 0x7f882d6a2630>\n",
      "-------------------------------------\n",
      "key1  key2\n",
      "a     one    -0.175709\n",
      "      two    -0.430620\n",
      "b     one     0.685737\n",
      "      two     0.948024\n",
      "Name: data2, dtype: float64\n",
      "-------------------------------------\n"
     ]
    }
   ],
   "source": [
    "print(df.groupby(['key1', 'key2'])[['data2']].mean())\n",
    "print('-------------------------------------')\n",
    "\n",
    "s_grouped = df.groupby(['key1', 'key2'])['data2']\n",
    "print(s_grouped)\n",
    "print('-------------------------------------')\n",
    "\n",
    "print(s_grouped.mean())\n",
    "print('-------------------------------------')"
   ]
  },
  {
   "cell_type": "markdown",
   "id": "rough-services",
   "metadata": {},
   "source": [
    "#### 10.1.3 사전과 Series에서 그룹핑하기"
   ]
  },
  {
   "cell_type": "code",
   "execution_count": 24,
   "id": "joint-pasta",
   "metadata": {},
   "outputs": [
    {
     "name": "stdout",
     "output_type": "stream",
     "text": [
      "               a         b         c         d         e\n",
      "joe     0.133591  0.735015 -0.129321  0.138044 -0.699964\n",
      "steve   0.131249 -1.848734 -1.701246  0.293312 -1.925685\n",
      "wes    -0.951409       NaN       NaN -0.791518 -0.014104\n",
      "jim     1.382289 -1.327844  0.360400 -1.883552  0.557909\n",
      "travis  0.188583 -0.962323  0.796998  1.046392  1.534129\n",
      "-------------------------------------\n",
      "            blue       red\n",
      "joe     0.008723  0.168642\n",
      "steve  -1.407934 -3.643170\n",
      "wes    -0.791518 -0.965513\n",
      "jim    -1.523152  0.612355\n",
      "travis  1.843389  0.760389\n",
      "-------------------------------------\n",
      "a       red\n",
      "b       red\n",
      "c      blue\n",
      "d      blue\n",
      "e       red\n",
      "f    orange\n",
      "dtype: object\n",
      "-------------------------------------\n",
      "        blue  red\n",
      "joe        2    3\n",
      "steve      2    3\n",
      "wes        1    2\n",
      "jim        2    3\n",
      "travis     2    3\n",
      "-------------------------------------\n"
     ]
    }
   ],
   "source": [
    "people = pd.DataFrame(np.random.randn(5,5),\n",
    "                     columns = ['a', 'b', 'c', 'd','e'],\n",
    "                     index = ['joe', 'steve', 'wes', 'jim', 'travis'])\n",
    "people.iloc[2:3, [1,2]] = np.nan\n",
    "print(people)\n",
    "print('-------------------------------------')\n",
    "\n",
    "mapping = {'a':'red', 'b' : 'red', 'c':'blue', 'd' : 'blue', 'e' : 'red', 'f' : 'orange'}\n",
    "by_columns = people.groupby(mapping, axis = 1)\n",
    "print(by_columns.sum())\n",
    "print('-------------------------------------')\n",
    "\n",
    "map_series = pd.Series(mapping)\n",
    "print(map_series)\n",
    "print('-------------------------------------')\n",
    "\n",
    "print(people.groupby(map_series, axis = 1).count())\n",
    "print('-------------------------------------')"
   ]
  },
  {
   "cell_type": "markdown",
   "id": "empty-tuition",
   "metadata": {},
   "source": [
    "#### 10.1.4 함수로 그룹핑하기"
   ]
  },
  {
   "cell_type": "code",
   "execution_count": 26,
   "id": "greenhouse-westminster",
   "metadata": {},
   "outputs": [
    {
     "name": "stdout",
     "output_type": "stream",
     "text": [
      "          a         b         c         d         e\n",
      "3  0.564471 -0.592829  0.231079 -2.537026 -0.156159\n",
      "5  0.131249 -1.848734 -1.701246  0.293312 -1.925685\n",
      "6  0.188583 -0.962323  0.796998  1.046392  1.534129\n",
      "-------------------------------------\n",
      "              a         b         c         d         e\n",
      "3 one -0.951409  0.735015 -0.129321 -0.791518 -0.699964\n",
      "  two  1.382289 -1.327844  0.360400 -1.883552  0.557909\n",
      "5 one  0.131249 -1.848734 -1.701246  0.293312 -1.925685\n",
      "6 two  0.188583 -0.962323  0.796998  1.046392  1.534129\n",
      "-------------------------------------\n"
     ]
    }
   ],
   "source": [
    "print(people.groupby(len).sum())\n",
    "print('-------------------------------------')\n",
    "\n",
    "key_list = ['one', 'one', 'one', 'two', 'two']\n",
    "print(people.groupby([len, key_list]).min())\n",
    "print('-------------------------------------')"
   ]
  },
  {
   "cell_type": "markdown",
   "id": "bulgarian-certificate",
   "metadata": {},
   "source": [
    "#### 10.1.5 색인 단계로 그룹핑하기"
   ]
  },
  {
   "cell_type": "code",
   "execution_count": 27,
   "id": "addressed-heritage",
   "metadata": {},
   "outputs": [
    {
     "name": "stdout",
     "output_type": "stream",
     "text": [
      "city         us                            jp          \n",
      "tenor         1         3         5         1         3\n",
      "0      0.525508 -1.243551 -0.637519  0.655180 -0.114387\n",
      "1      0.613396  2.447245 -0.703147 -1.570929  0.004479\n",
      "2      0.553388 -1.722337 -0.277877  0.743540  0.466060\n",
      "3      1.136550  2.239681 -0.184182  0.288257 -0.376747\n",
      "-------------------------------------\n",
      "city  jp  us\n",
      "0      2   3\n",
      "1      2   3\n",
      "2      2   3\n",
      "3      2   3\n",
      "-------------------------------------\n"
     ]
    }
   ],
   "source": [
    "columns = pd.MultiIndex.from_arrays([['us', 'us', 'us', 'jp', 'jp'], \n",
    "                                    [1,3,5,1,3]], names = ['city', 'tenor'])\n",
    "hier_df = pd.DataFrame(np.random.randn(4,5), columns=columns)\n",
    "print(hier_df)\n",
    "print('-------------------------------------')\n",
    "\n",
    "print(hier_df.groupby(level = 'city', axis = 1).count())\n",
    "print('-------------------------------------')"
   ]
  },
  {
   "cell_type": "markdown",
   "id": "supreme-karma",
   "metadata": {},
   "source": [
    "### 10.2 데이터 집계\n",
    "#### - groupby 기본 제공 : count, sum, mean, median, std, var, min, max, prod, first, last"
   ]
  },
  {
   "cell_type": "code",
   "execution_count": 31,
   "id": "young-guess",
   "metadata": {},
   "outputs": [
    {
     "name": "stdout",
     "output_type": "stream",
     "text": [
      "  key1 key2     data1     data2\n",
      "0    a  one -0.078761 -0.003874\n",
      "1    a  two -0.240141 -0.430620\n",
      "2    b  one -0.894730  0.685737\n",
      "3    b  two -0.521760  0.948024\n",
      "4    a  one  1.360494 -0.347543\n",
      "-------------------------------------\n",
      "key1\n",
      "a    1.072643\n",
      "b   -0.559057\n",
      "Name: data1, dtype: float64\n",
      "-------------------------------------\n",
      "         data1     data2\n",
      "key1                    \n",
      "a     1.600635  0.426746\n",
      "b     0.372970  0.262287\n",
      "-------------------------------------\n",
      "     data1                                                              \\\n",
      "     count      mean       std       min       25%       50%       75%   \n",
      "key1                                                                     \n",
      "a      3.0  0.347197  0.881243 -0.240141 -0.159451 -0.078761  0.640867   \n",
      "b      2.0 -0.708245  0.263730 -0.894730 -0.801488 -0.708245 -0.615003   \n",
      "\n",
      "               data2                                                    \\\n",
      "           max count      mean       std       min       25%       50%   \n",
      "key1                                                                     \n",
      "a     1.360494   3.0 -0.260679  0.226245 -0.430620 -0.389082 -0.347543   \n",
      "b    -0.521760   2.0  0.816881  0.185465  0.685737  0.751309  0.816881   \n",
      "\n",
      "                          \n",
      "           75%       max  \n",
      "key1                      \n",
      "a    -0.175709 -0.003874  \n",
      "b     0.882453  0.948024  \n",
      "-------------------------------------\n"
     ]
    }
   ],
   "source": [
    "print(df)\n",
    "print('-------------------------------------')\n",
    "\n",
    "grouped = df.groupby('key1')\n",
    "print(grouped['data1'].quantile(0.9))\n",
    "print('-------------------------------------')\n",
    "\n",
    "def peak_to_peak(arr):\n",
    "    return arr.max() - arr.min()\n",
    "\n",
    "print(grouped.agg(peak_to_peak))\n",
    "print('-------------------------------------')\n",
    "\n",
    "print(grouped.describe())\n",
    "print('-------------------------------------')"
   ]
  },
  {
   "cell_type": "markdown",
   "id": "anticipated-brave",
   "metadata": {},
   "source": [
    "#### 10.2.1 컬럼에 여러가지 함수 적용하기"
   ]
  },
  {
   "cell_type": "code",
   "execution_count": 40,
   "id": "proud-wages",
   "metadata": {},
   "outputs": [
    {
     "name": "stdout",
     "output_type": "stream",
     "text": [
      "   total_bill   tip smoker  day    time  size   tip_pct\n",
      "0       16.99  1.01     No  Sun  Dinner     2  0.059447\n",
      "1       10.34  1.66     No  Sun  Dinner     3  0.160542\n",
      "2       21.01  3.50     No  Sun  Dinner     3  0.166587\n",
      "3       23.68  3.31     No  Sun  Dinner     2  0.139780\n",
      "4       24.59  3.61     No  Sun  Dinner     4  0.146808\n",
      "5       25.29  4.71     No  Sun  Dinner     4  0.186240\n",
      "-------------------------------------\n",
      "day   smoker\n",
      "Fri   No        0.151650\n",
      "      Yes       0.174783\n",
      "Sat   No        0.158048\n",
      "      Yes       0.147906\n",
      "Sun   No        0.160113\n",
      "      Yes       0.187250\n",
      "Thur  No        0.160298\n",
      "      Yes       0.163863\n",
      "Name: tip_pct, dtype: float64\n",
      "-------------------------------------\n",
      "                 mean       std  peak_to_peak\n",
      "day  smoker                                  \n",
      "Fri  No      0.151650  0.028123      0.067349\n",
      "     Yes     0.174783  0.051293      0.159925\n",
      "Sat  No      0.158048  0.039767      0.235193\n",
      "     Yes     0.147906  0.061375      0.290095\n",
      "Sun  No      0.160113  0.042347      0.193226\n",
      "     Yes     0.187250  0.154134      0.644685\n",
      "Thur No      0.160298  0.038774      0.193350\n",
      "     Yes     0.163863  0.039389      0.151240\n",
      "-------------------------------------\n",
      "                  foo       bar\n",
      "day  smoker                    \n",
      "Fri  No      0.151650  0.028123\n",
      "     Yes     0.174783  0.051293\n",
      "Sat  No      0.158048  0.039767\n",
      "     Yes     0.147906  0.061375\n",
      "Sun  No      0.160113  0.042347\n",
      "     Yes     0.187250  0.154134\n",
      "Thur No      0.160298  0.038774\n",
      "     Yes     0.163863  0.039389\n",
      "-------------------------------------\n",
      "            tip_pct                     total_bill                  \n",
      "              count      mean       max      count       mean    max\n",
      "day  smoker                                                         \n",
      "Fri  No           4  0.151650  0.187735          4  18.420000  22.75\n",
      "     Yes         15  0.174783  0.263480         15  16.813333  40.17\n",
      "Sat  No          45  0.158048  0.291990         45  19.661778  48.33\n",
      "     Yes         42  0.147906  0.325733         42  21.276667  50.81\n",
      "Sun  No          57  0.160113  0.252672         57  20.506667  48.17\n",
      "     Yes         19  0.187250  0.710345         19  24.120000  45.35\n",
      "Thur No          45  0.160298  0.266312         45  17.113111  41.19\n",
      "     Yes         17  0.163863  0.241255         17  19.190588  43.11\n",
      "-------------------------------------\n",
      "             count      mean       max\n",
      "day  smoker                           \n",
      "Fri  No          4  0.151650  0.187735\n",
      "     Yes        15  0.174783  0.263480\n",
      "Sat  No         45  0.158048  0.291990\n",
      "     Yes        42  0.147906  0.325733\n",
      "Sun  No         57  0.160113  0.252672\n",
      "     Yes        19  0.187250  0.710345\n",
      "Thur No         45  0.160298  0.266312\n",
      "     Yes        17  0.163863  0.241255\n",
      "-------------------------------------\n",
      "               tip  size\n",
      "day  smoker             \n",
      "Fri  No       3.50     9\n",
      "     Yes      4.73    31\n",
      "Sat  No       9.00   115\n",
      "     Yes     10.00   104\n",
      "Sun  No       6.00   167\n",
      "     Yes      6.50    49\n",
      "Thur No       6.70   112\n",
      "     Yes      5.00    40\n",
      "-------------------------------------\n",
      "              tip_pct                               size\n",
      "                  min       max      mean       std  sum\n",
      "day  smoker                                             \n",
      "Fri  No      0.120385  0.187735  0.151650  0.028123    9\n",
      "     Yes     0.103555  0.263480  0.174783  0.051293   31\n",
      "Sat  No      0.056797  0.291990  0.158048  0.039767  115\n",
      "     Yes     0.035638  0.325733  0.147906  0.061375  104\n",
      "Sun  No      0.059447  0.252672  0.160113  0.042347  167\n",
      "     Yes     0.065660  0.710345  0.187250  0.154134   49\n",
      "Thur No      0.072961  0.266312  0.160298  0.038774  112\n",
      "     Yes     0.090014  0.241255  0.163863  0.039389   40\n",
      "-------------------------------------\n"
     ]
    },
    {
     "name": "stderr",
     "output_type": "stream",
     "text": [
      "/Users/qook/Python/3.6/venv/lib/python3.6/site-packages/ipykernel_launcher.py:21: FutureWarning: Indexing with multiple keys (implicitly converted to a tuple of keys) will be deprecated, use a list instead.\n"
     ]
    }
   ],
   "source": [
    "tips = pd.read_csv('examples/tips.csv')\n",
    "\n",
    "tips['tip_pct'] = tips['tip'] / tips['total_bill']\n",
    "\n",
    "print(tips[:6])\n",
    "print('-------------------------------------')\n",
    "\n",
    "grouped = tips.groupby(['day', 'smoker'])\n",
    "grouped_pct = grouped['tip_pct']\n",
    "\n",
    "print(grouped_pct.agg('mean'))\n",
    "print('-------------------------------------')\n",
    "\n",
    "print(grouped_pct.agg(['mean', 'std', peak_to_peak]))\n",
    "print('-------------------------------------')\n",
    "\n",
    "print(grouped_pct.agg([('foo', 'mean'), ('bar', np.std)]))\n",
    "print('-------------------------------------')\n",
    "\n",
    "functions = ['count', 'mean', 'max']\n",
    "result = grouped['tip_pct', 'total_bill'].agg(functions)\n",
    "print(result)\n",
    "print('-------------------------------------')\n",
    "\n",
    "print(result['tip_pct'])\n",
    "print('-------------------------------------')\n",
    "\n",
    "print(grouped.agg({'tip' :np.max, 'size' : 'sum'}))\n",
    "print('-------------------------------------')\n",
    "\n",
    "print(grouped.agg({'tip_pct' : ['min', 'max', 'mean', 'std'], 'size' : 'sum'}))\n",
    "print('-------------------------------------')"
   ]
  },
  {
   "cell_type": "markdown",
   "id": "planned-registration",
   "metadata": {},
   "source": [
    "#### 10.2.2 색인되지 않은 형태로 집계된 데이터 반환하기"
   ]
  },
  {
   "cell_type": "code",
   "execution_count": 41,
   "id": "labeled-launch",
   "metadata": {},
   "outputs": [
    {
     "name": "stdout",
     "output_type": "stream",
     "text": [
      "    day smoker  total_bill       tip      size   tip_pct\n",
      "0   Fri     No   18.420000  2.812500  2.250000  0.151650\n",
      "1   Fri    Yes   16.813333  2.714000  2.066667  0.174783\n",
      "2   Sat     No   19.661778  3.102889  2.555556  0.158048\n",
      "3   Sat    Yes   21.276667  2.875476  2.476190  0.147906\n",
      "4   Sun     No   20.506667  3.167895  2.929825  0.160113\n",
      "5   Sun    Yes   24.120000  3.516842  2.578947  0.187250\n",
      "6  Thur     No   17.113111  2.673778  2.488889  0.160298\n",
      "7  Thur    Yes   19.190588  3.030000  2.352941  0.163863\n",
      "-------------------------------------\n"
     ]
    }
   ],
   "source": [
    "print(tips.groupby(['day', 'smoker'], as_index=False).mean())\n",
    "print('-------------------------------------')"
   ]
  },
  {
   "cell_type": "markdown",
   "id": "piano-hometown",
   "metadata": {},
   "source": [
    "### 10.3 Apply : 일반적인 분리-적용-병합"
   ]
  },
  {
   "cell_type": "code",
   "execution_count": 46,
   "id": "sapphire-north",
   "metadata": {},
   "outputs": [
    {
     "name": "stdout",
     "output_type": "stream",
     "text": [
      "     total_bill   tip smoker  day    time  size   tip_pct\n",
      "109       14.31  4.00    Yes  Sat  Dinner     2  0.279525\n",
      "183       23.17  6.50    Yes  Sun  Dinner     4  0.280535\n",
      "232       11.61  3.39     No  Sat  Dinner     2  0.291990\n",
      "67         3.07  1.00    Yes  Sat  Dinner     1  0.325733\n",
      "178        9.60  4.00    Yes  Sun  Dinner     2  0.416667\n",
      "172        7.25  5.15    Yes  Sun  Dinner     2  0.710345\n",
      "-------------------------------------\n",
      "            total_bill   tip smoker   day    time  size   tip_pct\n",
      "smoker                                                           \n",
      "No     88        24.71  5.85     No  Thur   Lunch     2  0.236746\n",
      "       185       20.69  5.00     No   Sun  Dinner     5  0.241663\n",
      "       51        10.29  2.60     No   Sun  Dinner     2  0.252672\n",
      "       149        7.51  2.00     No  Thur   Lunch     2  0.266312\n",
      "       232       11.61  3.39     No   Sat  Dinner     2  0.291990\n",
      "Yes    109       14.31  4.00    Yes   Sat  Dinner     2  0.279525\n",
      "       183       23.17  6.50    Yes   Sun  Dinner     4  0.280535\n",
      "       67         3.07  1.00    Yes   Sat  Dinner     1  0.325733\n",
      "       178        9.60  4.00    Yes   Sun  Dinner     2  0.416667\n",
      "       172        7.25  5.15    Yes   Sun  Dinner     2  0.710345\n",
      "-------------------------------------\n",
      "                 total_bill    tip smoker   day    time  size   tip_pct\n",
      "smoker day                                                             \n",
      "No     Fri  94        22.75   3.25     No   Fri  Dinner     2  0.142857\n",
      "       Sat  212       48.33   9.00     No   Sat  Dinner     4  0.186220\n",
      "       Sun  156       48.17   5.00     No   Sun  Dinner     6  0.103799\n",
      "       Thur 142       41.19   5.00     No  Thur   Lunch     5  0.121389\n",
      "Yes    Fri  95        40.17   4.73    Yes   Fri  Dinner     4  0.117750\n",
      "       Sat  170       50.81  10.00    Yes   Sat  Dinner     3  0.196812\n",
      "       Sun  182       45.35   3.50    Yes   Sun  Dinner     3  0.077178\n",
      "       Thur 197       43.11   5.00    Yes  Thur   Lunch     4  0.115982\n",
      "-------------------------------------\n"
     ]
    }
   ],
   "source": [
    "def top(df, n = 5, column = 'tip_pct'):\n",
    "    return df.sort_values(by=column)[-n : ]\n",
    "\n",
    "print(top(tips, n = 6))\n",
    "print('-------------------------------------')\n",
    "\n",
    "print(tips.groupby('smoker').apply(top))\n",
    "print('-------------------------------------')\n",
    "\n",
    "print(tips.groupby(['smoker', 'day']).apply(top, n = 1, column = 'total_bill'))\n",
    "print('-------------------------------------')"
   ]
  },
  {
   "cell_type": "code",
   "execution_count": 48,
   "id": "rational-hostel",
   "metadata": {},
   "outputs": [
    {
     "name": "stdout",
     "output_type": "stream",
     "text": [
      "        count      mean       std       min       25%       50%       75%  \\\n",
      "smoker                                                                      \n",
      "No      151.0  0.159328  0.039910  0.056797  0.136906  0.155625  0.185014   \n",
      "Yes      93.0  0.163196  0.085119  0.035638  0.106771  0.153846  0.195059   \n",
      "\n",
      "             max  \n",
      "smoker            \n",
      "No      0.291990  \n",
      "Yes     0.710345  \n",
      "-------------------------------------\n",
      "       smoker\n",
      "count  No        151.000000\n",
      "       Yes        93.000000\n",
      "mean   No          0.159328\n",
      "       Yes         0.163196\n",
      "std    No          0.039910\n",
      "       Yes         0.085119\n",
      "min    No          0.056797\n",
      "       Yes         0.035638\n",
      "25%    No          0.136906\n",
      "       Yes         0.106771\n",
      "50%    No          0.155625\n",
      "       Yes         0.153846\n",
      "75%    No          0.185014\n",
      "       Yes         0.195059\n",
      "max    No          0.291990\n",
      "       Yes         0.710345\n",
      "dtype: float64\n",
      "-------------------------------------\n"
     ]
    }
   ],
   "source": [
    "result = tips.groupby('smoker')['tip_pct'].describe()\n",
    "print(result)\n",
    "print('-------------------------------------')\n",
    "\n",
    "print(result.unstack('smoker'))\n",
    "print('-------------------------------------')"
   ]
  },
  {
   "cell_type": "markdown",
   "id": "beneficial-crossing",
   "metadata": {},
   "source": [
    "#### 10.3.1 그룹 색인 생략하기"
   ]
  },
  {
   "cell_type": "code",
   "execution_count": 49,
   "id": "neutral-blond",
   "metadata": {},
   "outputs": [
    {
     "name": "stdout",
     "output_type": "stream",
     "text": [
      "     total_bill   tip smoker   day    time  size   tip_pct\n",
      "88        24.71  5.85     No  Thur   Lunch     2  0.236746\n",
      "185       20.69  5.00     No   Sun  Dinner     5  0.241663\n",
      "51        10.29  2.60     No   Sun  Dinner     2  0.252672\n",
      "149        7.51  2.00     No  Thur   Lunch     2  0.266312\n",
      "232       11.61  3.39     No   Sat  Dinner     2  0.291990\n",
      "109       14.31  4.00    Yes   Sat  Dinner     2  0.279525\n",
      "183       23.17  6.50    Yes   Sun  Dinner     4  0.280535\n",
      "67         3.07  1.00    Yes   Sat  Dinner     1  0.325733\n",
      "178        9.60  4.00    Yes   Sun  Dinner     2  0.416667\n",
      "172        7.25  5.15    Yes   Sun  Dinner     2  0.710345\n",
      "-------------------------------------\n"
     ]
    }
   ],
   "source": [
    "print(tips.groupby('smoker', group_keys = False).apply(top))\n",
    "print('-------------------------------------')"
   ]
  },
  {
   "cell_type": "markdown",
   "id": "classified-convergence",
   "metadata": {},
   "source": [
    "#### 10.3.2 변위치 분석과 버킷 분석"
   ]
  },
  {
   "cell_type": "code",
   "execution_count": 52,
   "id": "understanding-algebra",
   "metadata": {},
   "outputs": [
    {
     "name": "stdout",
     "output_type": "stream",
     "text": [
      "0    (-1.81, -0.0961]\n",
      "1      (1.618, 3.333]\n",
      "2      (1.618, 3.333]\n",
      "3    (-1.81, -0.0961]\n",
      "4    (-0.0961, 1.618]\n",
      "5    (-1.81, -0.0961]\n",
      "6    (-0.0961, 1.618]\n",
      "7    (-1.81, -0.0961]\n",
      "8    (-0.0961, 1.618]\n",
      "9    (-1.81, -0.0961]\n",
      "Name: data1, dtype: category\n",
      "Categories (4, interval[float64]): [(-3.532, -1.81] < (-1.81, -0.0961] < (-0.0961, 1.618] < (1.618, 3.333]]\n",
      "-------------------------------------\n",
      "                       min       max  count      mean\n",
      "data1                                                \n",
      "(-3.532, -1.81]  -1.867913  1.705682   44.0 -0.028707\n",
      "(-1.81, -0.0961] -3.245360  3.296108  425.0 -0.021688\n",
      "(-0.0961, 1.618] -3.469427  2.983384  464.0  0.013741\n",
      "(1.618, 3.333]   -1.896815  2.479195   67.0  0.044035\n",
      "-------------------------------------\n",
      "            min       max  count      mean\n",
      "data1                                     \n",
      "0     -2.545151  1.951471  100.0  0.031557\n",
      "1     -3.245360  2.063211  100.0 -0.099684\n",
      "2     -2.462802  2.153482  100.0 -0.088271\n",
      "3     -2.136795  3.296108  100.0 -0.019363\n",
      "4     -2.752138  2.069486  100.0  0.094088\n",
      "5     -2.073949  2.983384  100.0 -0.009773\n",
      "6     -2.160031  2.798054  100.0  0.041002\n",
      "7     -3.469427  2.554305  100.0 -0.000417\n",
      "8     -2.035174  2.737784  100.0  0.043183\n",
      "9     -1.964848  2.479195  100.0 -0.003865\n",
      "-------------------------------------\n"
     ]
    }
   ],
   "source": [
    "frame = pd.DataFrame({'data1' : np.random.randn(1000),\n",
    "                     'data2' : np.random.randn(1000)})\n",
    "quartiles = pd.cut(frame.data1, 4)\n",
    "print(quartiles[:10])\n",
    "print('-------------------------------------')\n",
    "\n",
    "def get_stats(group):\n",
    "    return {'min' : group.min(), 'max' : group.max(), 'count' : group.count(), 'mean' : group.mean()}\n",
    "\n",
    "grouped = frame.data2.groupby(quartiles)\n",
    "print(grouped.apply(get_stats).unstack())\n",
    "print('-------------------------------------')\n",
    "\n",
    "grouping = pd.qcut(frame.data1, 10, labels = False)\n",
    "grouped = frame.data2.groupby(grouping)\n",
    "print(grouped.apply(get_stats).unstack())\n",
    "print('-------------------------------------')"
   ]
  },
  {
   "cell_type": "markdown",
   "id": "brilliant-edgar",
   "metadata": {},
   "source": [
    "#### 10.3.3 예제: 그룹에 따른 값으로 결측치 채우기"
   ]
  },
  {
   "cell_type": "code",
   "execution_count": 54,
   "id": "organized-latin",
   "metadata": {},
   "outputs": [
    {
     "name": "stdout",
     "output_type": "stream",
     "text": [
      "0         NaN\n",
      "1   -0.354571\n",
      "2         NaN\n",
      "3    0.492016\n",
      "4         NaN\n",
      "5   -1.841187\n",
      "dtype: float64\n",
      "-------------------------------------\n",
      "0   -0.567914\n",
      "1   -0.354571\n",
      "2   -0.567914\n",
      "3    0.492016\n",
      "4   -0.567914\n",
      "5   -1.841187\n",
      "dtype: float64\n",
      "-------------------------------------\n"
     ]
    }
   ],
   "source": [
    "s = pd.Series(np.random.randn(6))\n",
    "s[::2] = np.nan\n",
    "print(s)\n",
    "print('-------------------------------------')\n",
    "\n",
    "print(s.fillna(s.mean()))\n",
    "print('-------------------------------------')"
   ]
  },
  {
   "cell_type": "code",
   "execution_count": 57,
   "id": "fatty-animal",
   "metadata": {},
   "outputs": [
    {
     "name": "stdout",
     "output_type": "stream",
     "text": [
      "ohio          1.530559\n",
      "new york     -0.261182\n",
      "vermont       0.914761\n",
      "florida       0.622651\n",
      "oregon       -0.118534\n",
      "nevada        1.611569\n",
      "california    0.171505\n",
      "idaho         1.399320\n",
      "dtype: float64\n",
      "-------------------------------------\n",
      "ohio          1.530559\n",
      "new york     -0.261182\n",
      "vermont            NaN\n",
      "florida       0.622651\n",
      "oregon       -0.118534\n",
      "nevada             NaN\n",
      "california    0.171505\n",
      "idaho              NaN\n",
      "dtype: float64\n",
      "-------------------------------------\n",
      "east    0.630676\n",
      "west    0.026485\n",
      "dtype: float64\n",
      "-------------------------------------\n",
      "ohio          1.530559\n",
      "new york     -0.261182\n",
      "vermont       0.630676\n",
      "florida       0.622651\n",
      "oregon       -0.118534\n",
      "nevada        0.026485\n",
      "california    0.171505\n",
      "idaho         0.026485\n",
      "dtype: float64\n",
      "-------------------------------------\n"
     ]
    }
   ],
   "source": [
    "states = ['ohio', 'new york', 'vermont', 'florida', 'oregon', 'nevada', 'california', 'idaho']\n",
    "group_key = ['east'] * 4 + ['west'] * 4\n",
    "data = pd.Series(np.random.randn(8), index = states)\n",
    "print(data)\n",
    "print('-------------------------------------')\n",
    "\n",
    "data[['vermont', 'nevada', 'idaho']] = np.nan\n",
    "print(data)\n",
    "print('-------------------------------------')\n",
    "\n",
    "print(data.groupby(group_key).mean())\n",
    "print('-------------------------------------')\n",
    "\n",
    "fill_mean = lambda g: g.fillna(g.mean())\n",
    "print(data.groupby(group_key).apply(fill_mean))\n",
    "print('-------------------------------------')"
   ]
  },
  {
   "cell_type": "code",
   "execution_count": 58,
   "id": "intermediate-arrow",
   "metadata": {},
   "outputs": [
    {
     "name": "stdout",
     "output_type": "stream",
     "text": [
      "ohio          1.530559\n",
      "new york     -0.261182\n",
      "vermont       0.500000\n",
      "florida       0.622651\n",
      "oregon       -0.118534\n",
      "nevada       -1.000000\n",
      "california    0.171505\n",
      "idaho        -1.000000\n",
      "dtype: float64\n",
      "-------------------------------------\n"
     ]
    }
   ],
   "source": [
    "fill_values = {'east' : 0.5, 'west' : -1}\n",
    "fill_func = lambda g: g.fillna(fill_values[g.name])\n",
    "print(data.groupby(group_key).apply(fill_func))\n",
    "print('-------------------------------------')"
   ]
  },
  {
   "cell_type": "markdown",
   "id": "chinese-grass",
   "metadata": {},
   "source": [
    "#### 10.3.4 예제: 랜덤 표본과 순열"
   ]
  },
  {
   "cell_type": "code",
   "execution_count": 61,
   "id": "failing-onion",
   "metadata": {},
   "outputs": [
    {
     "name": "stdout",
     "output_type": "stream",
     "text": [
      "ah      1\n",
      "2h      2\n",
      "3h      3\n",
      "4h      4\n",
      "5h      5\n",
      "6h      6\n",
      "7h      7\n",
      "8h      8\n",
      "9h      9\n",
      "10h    10\n",
      "jh     10\n",
      "kh     10\n",
      "qh     10\n",
      "dtype: int64\n",
      "-------------------------------------\n"
     ]
    }
   ],
   "source": [
    "suits = ['h', 's', 'c', 'd']\n",
    "card_val = (list(range(1, 11)) + [10] * 3) * 4\n",
    "base_names = ['a'] + list(range(2,11)) + ['j', 'k', 'q']\n",
    "cards = []\n",
    "for suit in suits:\n",
    "    cards.extend(str(num) + suit for num in base_names)\n",
    "\n",
    "deck = pd.Series(card_val, index = cards)\n",
    "\n",
    "print(deck[:13])\n",
    "print('-------------------------------------')"
   ]
  },
  {
   "cell_type": "code",
   "execution_count": 63,
   "id": "possible-respect",
   "metadata": {},
   "outputs": [
    {
     "name": "stdout",
     "output_type": "stream",
     "text": [
      "7c     7\n",
      "9d     9\n",
      "ks    10\n",
      "9h     9\n",
      "qc    10\n",
      "dtype: int64\n",
      "-------------------------------------\n",
      "c  5c     5\n",
      "   7c     7\n",
      "d  6d     6\n",
      "   jd    10\n",
      "h  jh    10\n",
      "   7h     7\n",
      "s  5s     5\n",
      "   qs    10\n",
      "dtype: int64\n",
      "-------------------------------------\n"
     ]
    }
   ],
   "source": [
    "def draw(deck, n = 5):\n",
    "    return deck.sample(n)\n",
    "\n",
    "print(draw(deck))\n",
    "print('-------------------------------------')\n",
    "\n",
    "get_suit = lambda card: card[-1]\n",
    "print(deck.groupby(get_suit).apply(draw, n = 2))\n",
    "print('-------------------------------------')"
   ]
  },
  {
   "cell_type": "markdown",
   "id": "registered-northern",
   "metadata": {},
   "source": [
    "#### 10.3.5 예제: 그룹 가중 평균과 상관관계"
   ]
  },
  {
   "cell_type": "code",
   "execution_count": 64,
   "id": "animated-graham",
   "metadata": {},
   "outputs": [
    {
     "name": "stdout",
     "output_type": "stream",
     "text": [
      "  category      data   weights\n",
      "0        a  0.797453  0.694606\n",
      "1        a -0.003940  0.737888\n",
      "2        a -1.136972  0.542489\n",
      "3        a -0.264107  0.312756\n",
      "4        b -0.768656  0.075730\n",
      "5        b  0.282733  0.408644\n",
      "6        b -0.258672  0.842891\n",
      "7        b  1.002879  0.648635\n",
      "-------------------------------------\n",
      "category\n",
      "a   -0.064862\n",
      "b    0.247886\n",
      "dtype: float64\n",
      "-------------------------------------\n"
     ]
    }
   ],
   "source": [
    "df = pd.DataFrame({'category' : ['a', 'a', 'a', 'a', 'b', 'b', 'b', 'b'],\n",
    "                  'data' : np.random.randn(8), \n",
    "                  'weights' : np.random.rand(8)})\n",
    "\n",
    "print(df)\n",
    "print('-------------------------------------')\n",
    "\n",
    "grouped = df.groupby('category')\n",
    "get_wavg = lambda g: np.average(g['data'], weights = g['weights'])\n",
    "print(grouped.apply(get_wavg))\n",
    "print('-------------------------------------')"
   ]
  },
  {
   "cell_type": "code",
   "execution_count": 67,
   "id": "awful-devon",
   "metadata": {},
   "outputs": [
    {
     "name": "stdout",
     "output_type": "stream",
     "text": [
      "<class 'pandas.core.frame.DataFrame'>\n",
      "DatetimeIndex: 2214 entries, 2003-01-02 to 2011-10-14\n",
      "Data columns (total 4 columns):\n",
      " #   Column  Non-Null Count  Dtype  \n",
      "---  ------  --------------  -----  \n",
      " 0   AAPL    2214 non-null   float64\n",
      " 1   MSFT    2214 non-null   float64\n",
      " 2   XOM     2214 non-null   float64\n",
      " 3   SPX     2214 non-null   float64\n",
      "dtypes: float64(4)\n",
      "memory usage: 86.5 KB\n",
      "None\n",
      "-------------------------------------\n",
      "              AAPL   MSFT    XOM      SPX\n",
      "2011-10-11  400.29  27.00  76.27  1195.54\n",
      "2011-10-12  402.19  26.96  77.16  1207.25\n",
      "2011-10-13  408.43  27.18  76.37  1203.66\n",
      "2011-10-14  422.00  27.27  78.11  1224.58\n",
      "-------------------------------------\n",
      "          AAPL      MSFT       XOM  SPX\n",
      "2003  0.541124  0.745174  0.661265  1.0\n",
      "2004  0.374283  0.588531  0.557742  1.0\n",
      "2005  0.467540  0.562374  0.631010  1.0\n",
      "2006  0.428267  0.406126  0.518514  1.0\n",
      "2007  0.508118  0.658770  0.786264  1.0\n",
      "2008  0.681434  0.804626  0.828303  1.0\n",
      "2009  0.707103  0.654902  0.797921  1.0\n",
      "2010  0.710105  0.730118  0.839057  1.0\n",
      "2011  0.691931  0.800996  0.859975  1.0\n",
      "-------------------------------------\n",
      "2003    0.480868\n",
      "2004    0.259024\n",
      "2005    0.300093\n",
      "2006    0.161735\n",
      "2007    0.417738\n",
      "2008    0.611901\n",
      "2009    0.432738\n",
      "2010    0.571946\n",
      "2011    0.581987\n",
      "dtype: float64\n",
      "-------------------------------------\n"
     ]
    }
   ],
   "source": [
    "close_px = pd.read_csv('examples/stock_px_2.csv', parse_dates=True, index_col=0)\n",
    "print(close_px.info())\n",
    "print('-------------------------------------')\n",
    "\n",
    "print(close_px[-4:])\n",
    "print('-------------------------------------')\n",
    "\n",
    "spx_corr = lambda x: x.corrwith(x['SPX'])\n",
    "rets = close_px.pct_change().dropna()\n",
    "get_year = lambda x: x.year\n",
    "by_year = rets.groupby(get_year)\n",
    "print(by_year.apply(spx_corr))\n",
    "print('-------------------------------------')\n",
    "\n",
    "print(by_year.apply(lambda g: g['AAPL'].corr(g['MSFT'])))\n",
    "print('-------------------------------------')"
   ]
  },
  {
   "cell_type": "markdown",
   "id": "lasting-circus",
   "metadata": {},
   "source": [
    "#### 예제: 그룹상의 선형회귀"
   ]
  },
  {
   "cell_type": "code",
   "execution_count": 73,
   "id": "gorgeous-indie",
   "metadata": {},
   "outputs": [
    {
     "name": "stdout",
     "output_type": "stream",
     "text": [
      "           SPX  intercept\n",
      "2003  1.195406   0.000710\n",
      "2004  1.363463   0.004201\n",
      "2005  1.766415   0.003246\n",
      "2006  1.645496   0.000080\n",
      "2007  1.198761   0.003438\n",
      "2008  0.968016  -0.001110\n",
      "2009  0.879103   0.002954\n",
      "2010  1.052608   0.001261\n",
      "2011  0.806605   0.001514\n",
      "-------------------------------------\n"
     ]
    }
   ],
   "source": [
    "import statsmodels.api as sm\n",
    "def regress(data, yvar, xvars):\n",
    "    Y = data[yvar]\n",
    "    X = data[xvars]\n",
    "    X['intercept'] = 1.\n",
    "    result = sm.OLS(Y, X).fit()\n",
    "    return result.params\n",
    "\n",
    "print(by_year.apply(regress, 'AAPL', ['SPX']))\n",
    "print('-------------------------------------')"
   ]
  },
  {
   "cell_type": "markdown",
   "id": "monthly-filter",
   "metadata": {},
   "source": [
    "### 10.4 피벗테이블과 교차일람표 "
   ]
  },
  {
   "cell_type": "code",
   "execution_count": 76,
   "id": "annoying-compensation",
   "metadata": {},
   "outputs": [
    {
     "name": "stdout",
     "output_type": "stream",
     "text": [
      "                 size       tip   tip_pct  total_bill\n",
      "day  smoker                                          \n",
      "Fri  No      2.250000  2.812500  0.151650   18.420000\n",
      "     Yes     2.066667  2.714000  0.174783   16.813333\n",
      "Sat  No      2.555556  3.102889  0.158048   19.661778\n",
      "     Yes     2.476190  2.875476  0.147906   21.276667\n",
      "Sun  No      2.929825  3.167895  0.160113   20.506667\n",
      "     Yes     2.578947  3.516842  0.187250   24.120000\n",
      "Thur No      2.488889  2.673778  0.160298   17.113111\n",
      "     Yes     2.352941  3.030000  0.163863   19.190588\n",
      "-------------------------------------\n",
      "                 size             tip_pct          \n",
      "smoker             No       Yes        No       Yes\n",
      "time   day                                         \n",
      "Dinner Fri   2.000000  2.222222  0.139622  0.165347\n",
      "       Sat   2.555556  2.476190  0.158048  0.147906\n",
      "       Sun   2.929825  2.578947  0.160113  0.187250\n",
      "       Thur  2.000000       NaN  0.159744       NaN\n",
      "Lunch  Fri   3.000000  1.833333  0.187735  0.188937\n",
      "       Thur  2.500000  2.352941  0.160311  0.163863\n",
      "-------------------------------------\n",
      "                 size                       tip_pct                    \n",
      "smoker             No       Yes       All        No       Yes       All\n",
      "time   day                                                             \n",
      "Dinner Fri   2.000000  2.222222  2.166667  0.139622  0.165347  0.158916\n",
      "       Sat   2.555556  2.476190  2.517241  0.158048  0.147906  0.153152\n",
      "       Sun   2.929825  2.578947  2.842105  0.160113  0.187250  0.166897\n",
      "       Thur  2.000000       NaN  2.000000  0.159744       NaN  0.159744\n",
      "Lunch  Fri   3.000000  1.833333  2.000000  0.187735  0.188937  0.188765\n",
      "       Thur  2.500000  2.352941  2.459016  0.160311  0.163863  0.161301\n",
      "All          2.668874  2.408602  2.569672  0.159328  0.163196  0.160803\n",
      "-------------------------------------\n"
     ]
    }
   ],
   "source": [
    "# pivot_table의 기본 연산 - 평균\n",
    "print(tips.pivot_table(index = ['day', 'smoker']))\n",
    "print('-------------------------------------')\n",
    "\n",
    "print(tips.pivot_table(['tip_pct', 'size'], index = ['time', 'day'], columns = 'smoker'))\n",
    "print('-------------------------------------')\n",
    "\n",
    "# margin - 부분합을 포함\n",
    "print(tips.pivot_table(['tip_pct', 'size'], index = ['time', 'day'], columns = 'smoker', margins = True))\n",
    "print('-------------------------------------')"
   ]
  },
  {
   "cell_type": "code",
   "execution_count": 79,
   "id": "played-plumbing",
   "metadata": {},
   "outputs": [
    {
     "name": "stdout",
     "output_type": "stream",
     "text": [
      "day             Fri   Sat   Sun  Thur    All\n",
      "time   smoker                               \n",
      "Dinner No       3.0  45.0  57.0   1.0  106.0\n",
      "       Yes      9.0  42.0  19.0   NaN   70.0\n",
      "Lunch  No       1.0   NaN   NaN  44.0   45.0\n",
      "       Yes      6.0   NaN   NaN  17.0   23.0\n",
      "All            19.0  87.0  76.0  62.0  244.0\n",
      "-------------------------------------\n"
     ]
    }
   ],
   "source": [
    "# 평균이 아닌 다른 함수를 사용하기 위해서는 aggfunc을 활용\n",
    "print(tips.pivot_table('tip_pct', index = ['time', 'smoker'], columns = 'day', aggfunc=len, margins= True))\n",
    "print('-------------------------------------')"
   ]
  },
  {
   "cell_type": "code",
   "execution_count": 80,
   "id": "passing-madonna",
   "metadata": {},
   "outputs": [
    {
     "name": "stdout",
     "output_type": "stream",
     "text": [
      "day                      Fri       Sat       Sun      Thur\n",
      "time   size smoker                                        \n",
      "Dinner 1    No      0.000000  0.137931  0.000000  0.000000\n",
      "            Yes     0.000000  0.325733  0.000000  0.000000\n",
      "       2    No      0.139622  0.162705  0.168859  0.159744\n",
      "            Yes     0.171297  0.148668  0.207893  0.000000\n",
      "       3    No      0.000000  0.154661  0.152663  0.000000\n",
      "            Yes     0.000000  0.144995  0.152660  0.000000\n",
      "       4    No      0.000000  0.150096  0.148143  0.000000\n",
      "            Yes     0.117750  0.124515  0.193370  0.000000\n",
      "       5    No      0.000000  0.000000  0.206928  0.000000\n",
      "            Yes     0.000000  0.106572  0.065660  0.000000\n",
      "       6    No      0.000000  0.000000  0.103799  0.000000\n",
      "Lunch  1    No      0.000000  0.000000  0.000000  0.181728\n",
      "            Yes     0.223776  0.000000  0.000000  0.000000\n",
      "       2    No      0.000000  0.000000  0.000000  0.166005\n",
      "            Yes     0.181969  0.000000  0.000000  0.158843\n",
      "       3    No      0.187735  0.000000  0.000000  0.084246\n",
      "            Yes     0.000000  0.000000  0.000000  0.204952\n",
      "       4    No      0.000000  0.000000  0.000000  0.138919\n",
      "            Yes     0.000000  0.000000  0.000000  0.155410\n",
      "       5    No      0.000000  0.000000  0.000000  0.121389\n",
      "       6    No      0.000000  0.000000  0.000000  0.173706\n",
      "-------------------------------------\n"
     ]
    }
   ],
   "source": [
    "print(tips.pivot_table('tip_pct', index = ['time', 'size', 'smoker'], columns = 'day', aggfunc='mean', fill_value=0))\n",
    "print('-------------------------------------')"
   ]
  },
  {
   "cell_type": "markdown",
   "id": "inside-harrison",
   "metadata": {},
   "source": [
    "#### pivot_table 옵션 : values(집계하려는 칼럼이름 혹은 이름 리스트), index(로우를 그룹으로 묶을 컬럼이름이나 키), columns(컬럼을 그룹으로 묶을 컬럼이름이나 키), aggfunc(적용할 함수), fill_value(na 대체 값), dropna(true 시 na가 보이지 않음), margins(부분합이나 총계를 담기위한 로우/컬럼 추가 여부)"
   ]
  },
  {
   "cell_type": "markdown",
   "id": "virtual-leeds",
   "metadata": {},
   "source": [
    "#### 10.4.1 교차일람표\n",
    "#### - 그룹의 빈도를 계산하기 위한 특수한 피벗테이블"
   ]
  },
  {
   "cell_type": "code",
   "execution_count": 82,
   "id": "victorian-mobility",
   "metadata": {},
   "outputs": [
    {
     "name": "stdout",
     "output_type": "stream",
     "text": [
      "smoker        No  Yes  All\n",
      "time   day                \n",
      "Dinner Fri     3    9   12\n",
      "       Sat    45   42   87\n",
      "       Sun    57   19   76\n",
      "       Thur    1    0    1\n",
      "Lunch  Fri     1    6    7\n",
      "       Thur   44   17   61\n",
      "All          151   93  244\n",
      "-------------------------------------\n"
     ]
    }
   ],
   "source": [
    "print(pd.crosstab([tips.time, tips.day], tips.smoker, margins=True))\n",
    "print('-------------------------------------')"
   ]
  }
 ],
 "metadata": {
  "kernelspec": {
   "display_name": "Python 3",
   "language": "python",
   "name": "python3"
  },
  "language_info": {
   "codemirror_mode": {
    "name": "ipython",
    "version": 3
   },
   "file_extension": ".py",
   "mimetype": "text/x-python",
   "name": "python",
   "nbconvert_exporter": "python",
   "pygments_lexer": "ipython3",
   "version": "3.6.8"
  }
 },
 "nbformat": 4,
 "nbformat_minor": 5
}
