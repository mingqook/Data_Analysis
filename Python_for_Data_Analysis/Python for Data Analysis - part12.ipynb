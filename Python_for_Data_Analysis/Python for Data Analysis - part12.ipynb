{
 "cells": [
  {
   "cell_type": "markdown",
   "id": "copyrighted-arabic",
   "metadata": {},
   "source": [
    "# Python for Data Analysis - part12"
   ]
  },
  {
   "cell_type": "markdown",
   "id": "authentic-petersburg",
   "metadata": {},
   "source": [
    "##### Python의 numpy, pandas 등을 정리하였으며 파이썬 라이브러리를 활용한 데이터분석(2판)을 참고하여 작성하였습니다.\n",
    "##### 해당 자료는 python 3.6 기반으로 작성되었습니다."
   ]
  },
  {
   "cell_type": "markdown",
   "id": "ordinary-boundary",
   "metadata": {},
   "source": [
    "## 12.고급 Pandas"
   ]
  },
  {
   "cell_type": "markdown",
   "id": "legal-poultry",
   "metadata": {},
   "source": [
    "### 12.1 Categorical Data"
   ]
  },
  {
   "cell_type": "markdown",
   "id": "liable-apache",
   "metadata": {},
   "source": [
    "#### 12.1 개발 배경과 동기"
   ]
  },
  {
   "cell_type": "code",
   "execution_count": 1,
   "id": "passive-delay",
   "metadata": {},
   "outputs": [
    {
     "name": "stdout",
     "output_type": "stream",
     "text": [
      "0     apple\n",
      "1    orange\n",
      "2     apple\n",
      "3     apple\n",
      "4     apple\n",
      "5    orange\n",
      "6     apple\n",
      "7     apple\n",
      "dtype: object\n",
      "--------------------------------------\n",
      "['apple' 'orange']\n",
      "--------------------------------------\n",
      "apple     6\n",
      "orange    2\n",
      "dtype: int64\n",
      "--------------------------------------\n"
     ]
    }
   ],
   "source": [
    "import pandas as pd\n",
    "import numpy as np\n",
    "\n",
    "values = pd.Series(['apple', 'orange', 'apple', 'apple'] * 2)\n",
    "print(values)\n",
    "print('--------------------------------------')\n",
    "\n",
    "print(pd.unique(values))\n",
    "print('--------------------------------------')\n",
    "\n",
    "print(pd.value_counts(values))\n",
    "print('--------------------------------------')"
   ]
  },
  {
   "cell_type": "markdown",
   "id": "approved-horror",
   "metadata": {},
   "source": [
    "#### - 데이터웨어하우스의 경우 구별되는 값을 담고 있는 차원 테이블과 그 테이블을 참조하는 정수키를 사용하는 것이 일반적"
   ]
  },
  {
   "cell_type": "code",
   "execution_count": 2,
   "id": "cordless-indonesian",
   "metadata": {},
   "outputs": [
    {
     "name": "stdout",
     "output_type": "stream",
     "text": [
      "0    0\n",
      "1    1\n",
      "2    0\n",
      "3    0\n",
      "4    0\n",
      "5    1\n",
      "6    0\n",
      "7    0\n",
      "dtype: int64\n",
      "--------------------------------------\n",
      "0     apple\n",
      "1    orange\n",
      "dtype: object\n",
      "--------------------------------------\n",
      "0     apple\n",
      "1    orange\n",
      "0     apple\n",
      "0     apple\n",
      "0     apple\n",
      "1    orange\n",
      "0     apple\n",
      "0     apple\n",
      "dtype: object\n",
      "--------------------------------------\n"
     ]
    }
   ],
   "source": [
    "values = pd.Series([0,1,0,0] * 2)\n",
    "dim = pd.Series(['apple', 'orange'])\n",
    "\n",
    "print(values)\n",
    "print('--------------------------------------')\n",
    "\n",
    "print(dim)\n",
    "print('--------------------------------------')\n",
    "\n",
    "# take 메서드 - Series 내 저장된 원래 문자열 \n",
    "print(dim.take(values))\n",
    "print('--------------------------------------')"
   ]
  },
  {
   "cell_type": "markdown",
   "id": "modified-marking",
   "metadata": {},
   "source": [
    "#### 12.1.2 Pandas의 Categorical "
   ]
  },
  {
   "cell_type": "code",
   "execution_count": 8,
   "id": "hazardous-drunk",
   "metadata": {},
   "outputs": [
    {
     "name": "stdout",
     "output_type": "stream",
     "text": [
      "   basket_id   fruit  count    weight\n",
      "0          0   apple      7  1.244498\n",
      "1          1  orange     13  3.871715\n",
      "2          2   apple      5  2.784968\n",
      "3          3   apple     12  2.099764\n",
      "4          4   apple     11  1.853214\n",
      "5          5  orange     12  2.202083\n",
      "6          6   apple      3  0.816188\n",
      "7          7   apple     11  1.175845\n",
      "--------------------------------------\n",
      "0     apple\n",
      "1    orange\n",
      "2     apple\n",
      "3     apple\n",
      "4     apple\n",
      "5    orange\n",
      "6     apple\n",
      "7     apple\n",
      "Name: fruit, dtype: category\n",
      "Categories (2, object): ['apple', 'orange']\n",
      "--------------------------------------\n",
      "<class 'pandas.core.arrays.categorical.Categorical'>\n",
      "--------------------------------------\n",
      "Index(['apple', 'orange'], dtype='object')\n",
      "--------------------------------------\n",
      "[0 1 0 0 0 1 0 0]\n",
      "--------------------------------------\n",
      "0     apple\n",
      "1    orange\n",
      "2     apple\n",
      "3     apple\n",
      "4     apple\n",
      "5    orange\n",
      "6     apple\n",
      "7     apple\n",
      "Name: fruit, dtype: category\n",
      "Categories (2, object): ['apple', 'orange']\n",
      "--------------------------------------\n"
     ]
    }
   ],
   "source": [
    "fruits = ['apple', 'orange', 'apple', 'apple'] *2\n",
    "N = len(fruits)\n",
    "df = pd.DataFrame({'fruit' : fruits, \n",
    "                  'basket_id' : np.arange(N), \n",
    "                  'count' : np.random.randint(3, 15, size = N), \n",
    "                  'weight' : np.random.uniform(0,4, size = N)}, \n",
    "                 columns = ['basket_id', 'fruit', 'count', 'weight'])\n",
    "print(df)\n",
    "print('--------------------------------------')\n",
    "\n",
    "fruit_cat = df['fruit'].astype('category')\n",
    "print(fruit_cat)\n",
    "print('--------------------------------------')\n",
    "\n",
    "c = fruit_cat.values\n",
    "print(type(c))\n",
    "print('--------------------------------------')\n",
    "\n",
    "print(c.categories)\n",
    "print('--------------------------------------')\n",
    "\n",
    "print(c.codes)\n",
    "print('--------------------------------------')\n",
    "\n",
    "df['fruit'] = df['fruit'].astype('category')\n",
    "print(df.fruit)\n",
    "print('--------------------------------------')"
   ]
  },
  {
   "cell_type": "code",
   "execution_count": 11,
   "id": "concerned-tobacco",
   "metadata": {},
   "outputs": [
    {
     "name": "stdout",
     "output_type": "stream",
     "text": [
      "['foo', 'bar', 'baz', 'foo', 'bar']\n",
      "Categories (3, object): ['bar', 'baz', 'foo']\n",
      "--------------------------------------\n",
      "['foo', 'bar', 'baz', 'foo', 'foo', 'bar']\n",
      "Categories (3, object): ['foo', 'bar', 'baz']\n",
      "--------------------------------------\n",
      "['foo', 'bar', 'baz', 'foo', 'foo', 'bar']\n",
      "Categories (3, object): ['foo' < 'bar' < 'baz']\n",
      "--------------------------------------\n",
      "['foo', 'bar', 'baz', 'foo', 'foo', 'bar']\n",
      "Categories (3, object): ['foo' < 'bar' < 'baz']\n",
      "--------------------------------------\n"
     ]
    }
   ],
   "source": [
    "my_categories = pd.Categorical(['foo', 'bar', 'baz', 'foo', 'bar'])\n",
    "print(my_categories)\n",
    "print('--------------------------------------')\n",
    "\n",
    "categories = ['foo', 'bar', 'baz']\n",
    "codes = [0,1,2,0,0,1]\n",
    "my_cats_2 = pd.Categorical.from_codes(codes, categories)\n",
    "print(my_cats_2)\n",
    "print('--------------------------------------')\n",
    "\n",
    "ordered_cat = pd.Categorical.from_codes(codes, categories, ordered = True)\n",
    "print(ordered_cat)\n",
    "print('--------------------------------------')\n",
    "\n",
    "print(my_cats_2.as_ordered())\n",
    "print('--------------------------------------')"
   ]
  },
  {
   "cell_type": "markdown",
   "id": "curious-mapping",
   "metadata": {},
   "source": [
    "#### 12.1.3 Catergorical 연산"
   ]
  },
  {
   "cell_type": "code",
   "execution_count": 15,
   "id": "eligible-leonard",
   "metadata": {},
   "outputs": [
    {
     "name": "stdout",
     "output_type": "stream",
     "text": [
      "[-0.20470766  0.47894334 -0.51943872 -0.5557303   1.96578057]\n",
      "--------------------------------------\n",
      "[(-0.684, -0.0101], (-0.0101, 0.63], (-0.684, -0.0101], (-0.684, -0.0101], (0.63, 3.928], ..., (-0.0101, 0.63], (-0.684, -0.0101], (-2.9499999999999997, -0.684], (-0.0101, 0.63], (0.63, 3.928]]\n",
      "Length: 1000\n",
      "Categories (4, interval[float64]): [(-2.9499999999999997, -0.684] < (-0.684, -0.0101] < (-0.0101, 0.63] < (0.63, 3.928]]\n",
      "--------------------------------------\n",
      "['Q2', 'Q3', 'Q2', 'Q2', 'Q4', ..., 'Q3', 'Q2', 'Q1', 'Q3', 'Q4']\n",
      "Length: 1000\n",
      "Categories (4, object): ['Q1' < 'Q2' < 'Q3' < 'Q4']\n",
      "--------------------------------------\n",
      "  quartile  count       min       max\n",
      "0       Q1    250 -2.949343 -0.685484\n",
      "1       Q2    250 -0.683066 -0.010115\n",
      "2       Q3    250 -0.010032  0.628894\n",
      "3       Q4    250  0.634238  3.927528\n",
      "--------------------------------------\n"
     ]
    }
   ],
   "source": [
    "np.random.seed(12345)\n",
    "draws = np.random.randn(1000)\n",
    "print(draws[:5])\n",
    "print('--------------------------------------')\n",
    "\n",
    "# qcut 메서드 - data 분할\n",
    "bins = pd.qcut(draws, 4)\n",
    "print(bins)\n",
    "print('--------------------------------------')\n",
    "\n",
    "bins = pd.qcut(draws, 4, labels=['Q1', 'Q2', 'Q3', 'Q4'])\n",
    "print(bins)\n",
    "print('--------------------------------------')\n",
    "\n",
    "bins = pd.Series(bins, name = 'quartile')\n",
    "results = (pd.Series(draws).groupby(bins).agg(['count', 'min', 'max']).reset_index())\n",
    "print(results)\n",
    "print('--------------------------------------')"
   ]
  },
  {
   "cell_type": "markdown",
   "id": "headed-generic",
   "metadata": {},
   "source": [
    "#### categorical을 이용한 성능 개선"
   ]
  },
  {
   "cell_type": "code",
   "execution_count": 16,
   "id": "continental-infrared",
   "metadata": {},
   "outputs": [
    {
     "name": "stdout",
     "output_type": "stream",
     "text": [
      "80000128\n",
      "--------------------------------------\n",
      "10000320\n",
      "--------------------------------------\n"
     ]
    }
   ],
   "source": [
    "N = 10000000\n",
    "draws = pd.Series(np.random.randn(N))\n",
    "labels = pd.Series(['foo', 'bar', 'baz', 'qux'] * (N//4))\n",
    "categories = labels.astype('category')\n",
    "\n",
    "print(labels.memory_usage())\n",
    "print('--------------------------------------')\n",
    "\n",
    "print(categories.memory_usage())\n",
    "print('--------------------------------------')"
   ]
  },
  {
   "cell_type": "code",
   "execution_count": 17,
   "id": "selected-comparative",
   "metadata": {},
   "outputs": [
    {
     "name": "stdout",
     "output_type": "stream",
     "text": [
      "CPU times: user 302 ms, sys: 5.53 ms, total: 308 ms\n",
      "Wall time: 306 ms\n"
     ]
    }
   ],
   "source": [
    "%time _ = labels.astype('category')"
   ]
  },
  {
   "cell_type": "markdown",
   "id": "limiting-trace",
   "metadata": {},
   "source": [
    "#### 12.1.4 Categorical 메서드"
   ]
  },
  {
   "cell_type": "code",
   "execution_count": 22,
   "id": "opposed-title",
   "metadata": {},
   "outputs": [
    {
     "name": "stdout",
     "output_type": "stream",
     "text": [
      "0    a\n",
      "1    b\n",
      "2    c\n",
      "3    d\n",
      "4    a\n",
      "5    b\n",
      "6    c\n",
      "7    d\n",
      "dtype: category\n",
      "Categories (4, object): ['a', 'b', 'c', 'd']\n",
      "--------------------------------------\n",
      "0    0\n",
      "1    1\n",
      "2    2\n",
      "3    3\n",
      "4    0\n",
      "5    1\n",
      "6    2\n",
      "7    3\n",
      "dtype: int8\n",
      "--------------------------------------\n",
      "Index(['a', 'b', 'c', 'd'], dtype='object')\n",
      "--------------------------------------\n",
      "0    a\n",
      "1    b\n",
      "2    c\n",
      "3    d\n",
      "4    a\n",
      "5    b\n",
      "6    c\n",
      "7    d\n",
      "dtype: category\n",
      "Categories (5, object): ['a', 'b', 'c', 'd', 'e']\n",
      "--------------------------------------\n",
      "d    2\n",
      "c    2\n",
      "b    2\n",
      "a    2\n",
      "dtype: int64\n",
      "--------------------------------------\n",
      "d    2\n",
      "c    2\n",
      "b    2\n",
      "a    2\n",
      "e    0\n",
      "dtype: int64\n",
      "--------------------------------------\n",
      "0    a\n",
      "1    b\n",
      "4    a\n",
      "5    b\n",
      "dtype: category\n",
      "Categories (4, object): ['a', 'b', 'c', 'd']\n",
      "--------------------------------------\n",
      "0    a\n",
      "1    b\n",
      "4    a\n",
      "5    b\n",
      "dtype: category\n",
      "Categories (2, object): ['a', 'b']\n",
      "--------------------------------------\n"
     ]
    }
   ],
   "source": [
    "s = pd.Series(['a','b','c','d'] *2)\n",
    "cat_s = s.astype('category')\n",
    "print(cat_s)\n",
    "print('--------------------------------------')\n",
    "\n",
    "print(cat_s.cat.codes)\n",
    "print('--------------------------------------')\n",
    "\n",
    "print(cat_s.cat.categories)\n",
    "print('--------------------------------------')\n",
    "\n",
    "actual_categories = ['a', 'b', 'c', 'd', 'e']\n",
    "cat_s2 = cat_s.cat.set_categories(actual_categories)\n",
    "print(cat_s2)\n",
    "print('--------------------------------------')\n",
    "\n",
    "print(cat_s.value_counts())\n",
    "print('--------------------------------------')\n",
    "\n",
    "print(cat_s2.value_counts())\n",
    "print('--------------------------------------')\n",
    "\n",
    "cat_s3 = cat_s[cat_s.isin(['a','b'])]\n",
    "print(cat_s3)\n",
    "print('--------------------------------------')\n",
    "\n",
    "print(cat_s3.cat.remove_unused_categories())\n",
    "print('--------------------------------------')"
   ]
  },
  {
   "cell_type": "markdown",
   "id": "blond-classification",
   "metadata": {},
   "source": [
    "#### - categorical 메서드 : add_categories(추가), as_ordered(순서), as_unordered(순서 가지지 않음), remove_categories(제거), remove_unused_categories(없는 카테고리 제거), rename_categories(이름 변경), reorder_categories(새로운 카테고리가 순서), set_categories(새로운 카테고리로 변경)"
   ]
  },
  {
   "cell_type": "markdown",
   "id": "straight-fortune",
   "metadata": {},
   "source": [
    "#### 더미값 생성(one-hot encoding) - get_dummies()"
   ]
  },
  {
   "cell_type": "code",
   "execution_count": 23,
   "id": "copyrighted-section",
   "metadata": {},
   "outputs": [
    {
     "name": "stdout",
     "output_type": "stream",
     "text": [
      "   a  b  c  d\n",
      "0  1  0  0  0\n",
      "1  0  1  0  0\n",
      "2  0  0  1  0\n",
      "3  0  0  0  1\n",
      "4  1  0  0  0\n",
      "5  0  1  0  0\n",
      "6  0  0  1  0\n",
      "7  0  0  0  1\n",
      "--------------------------------------\n"
     ]
    }
   ],
   "source": [
    "cat_s = pd.Series(['a', 'b', 'c', 'd'] * 2, dtype = 'category')\n",
    "print(pd.get_dummies(cat_s))\n",
    "print('--------------------------------------')"
   ]
  },
  {
   "cell_type": "markdown",
   "id": "interested-genesis",
   "metadata": {},
   "source": [
    "### 12.2 고급 GroupBy 사용\n",
    "#### 12.2.1 그룹 변환과 GroupBy 객체 풀어내기"
   ]
  },
  {
   "cell_type": "code",
   "execution_count": 25,
   "id": "armed-forwarding",
   "metadata": {},
   "outputs": [
    {
     "name": "stdout",
     "output_type": "stream",
     "text": [
      "   key  value\n",
      "0    a    0.0\n",
      "1    b    1.0\n",
      "2    c    2.0\n",
      "3    a    3.0\n",
      "4    b    4.0\n",
      "5    c    5.0\n",
      "6    a    6.0\n",
      "7    b    7.0\n",
      "8    c    8.0\n",
      "9    a    9.0\n",
      "10   b   10.0\n",
      "11   c   11.0\n",
      "--------------------------------------\n",
      "key\n",
      "a    4.5\n",
      "b    5.5\n",
      "c    6.5\n",
      "Name: value, dtype: float64\n",
      "--------------------------------------\n",
      "0     4.5\n",
      "1     5.5\n",
      "2     6.5\n",
      "3     4.5\n",
      "4     5.5\n",
      "5     6.5\n",
      "6     4.5\n",
      "7     5.5\n",
      "8     6.5\n",
      "9     4.5\n",
      "10    5.5\n",
      "11    6.5\n",
      "Name: value, dtype: float64\n",
      "--------------------------------------\n",
      "0     4.5\n",
      "1     5.5\n",
      "2     6.5\n",
      "3     4.5\n",
      "4     5.5\n",
      "5     6.5\n",
      "6     4.5\n",
      "7     5.5\n",
      "8     6.5\n",
      "9     4.5\n",
      "10    5.5\n",
      "11    6.5\n",
      "Name: value, dtype: float64\n",
      "--------------------------------------\n",
      "0      0.0\n",
      "1      2.0\n",
      "2      4.0\n",
      "3      6.0\n",
      "4      8.0\n",
      "5     10.0\n",
      "6     12.0\n",
      "7     14.0\n",
      "8     16.0\n",
      "9     18.0\n",
      "10    20.0\n",
      "11    22.0\n",
      "Name: value, dtype: float64\n",
      "--------------------------------------\n",
      "0     4.0\n",
      "1     4.0\n",
      "2     4.0\n",
      "3     3.0\n",
      "4     3.0\n",
      "5     3.0\n",
      "6     2.0\n",
      "7     2.0\n",
      "8     2.0\n",
      "9     1.0\n",
      "10    1.0\n",
      "11    1.0\n",
      "Name: value, dtype: float64\n",
      "--------------------------------------\n"
     ]
    }
   ],
   "source": [
    "df = pd.DataFrame({'key' : ['a', 'b', 'c'] * 4, \n",
    "                  'value' : np.arange(12.)})\n",
    "print(df)\n",
    "print('--------------------------------------')\n",
    "\n",
    "g = df.groupby('key').value\n",
    "print(g.mean())\n",
    "print('--------------------------------------')\n",
    "\n",
    "print(g.transform(lambda x : x.mean()))\n",
    "print('--------------------------------------')\n",
    "\n",
    "print(g.transform('mean'))\n",
    "print('--------------------------------------')\n",
    "\n",
    "print(g.transform(lambda x : x*2))\n",
    "print('--------------------------------------')\n",
    "\n",
    "print(g.transform(lambda x : x.rank(ascending = False)))\n",
    "print('--------------------------------------')"
   ]
  },
  {
   "cell_type": "code",
   "execution_count": 26,
   "id": "included-ethnic",
   "metadata": {},
   "outputs": [
    {
     "name": "stdout",
     "output_type": "stream",
     "text": [
      "0    -1.161895\n",
      "1    -1.161895\n",
      "2    -1.161895\n",
      "3    -0.387298\n",
      "4    -0.387298\n",
      "5    -0.387298\n",
      "6     0.387298\n",
      "7     0.387298\n",
      "8     0.387298\n",
      "9     1.161895\n",
      "10    1.161895\n",
      "11    1.161895\n",
      "Name: value, dtype: float64\n",
      "--------------------------------------\n",
      "0    -1.161895\n",
      "1    -1.161895\n",
      "2    -1.161895\n",
      "3    -0.387298\n",
      "4    -0.387298\n",
      "5    -0.387298\n",
      "6     0.387298\n",
      "7     0.387298\n",
      "8     0.387298\n",
      "9     1.161895\n",
      "10    1.161895\n",
      "11    1.161895\n",
      "Name: value, dtype: float64\n",
      "--------------------------------------\n",
      "0     4.5\n",
      "1     5.5\n",
      "2     6.5\n",
      "3     4.5\n",
      "4     5.5\n",
      "5     6.5\n",
      "6     4.5\n",
      "7     5.5\n",
      "8     6.5\n",
      "9     4.5\n",
      "10    5.5\n",
      "11    6.5\n",
      "Name: value, dtype: float64\n",
      "--------------------------------------\n",
      "0    -1.161895\n",
      "1    -1.161895\n",
      "2    -1.161895\n",
      "3    -0.387298\n",
      "4    -0.387298\n",
      "5    -0.387298\n",
      "6     0.387298\n",
      "7     0.387298\n",
      "8     0.387298\n",
      "9     1.161895\n",
      "10    1.161895\n",
      "11    1.161895\n",
      "Name: value, dtype: float64\n",
      "--------------------------------------\n"
     ]
    }
   ],
   "source": [
    "def normalize(x):\n",
    "    return (x - x.mean()) / x.std()\n",
    "\n",
    "print(g.transform(normalize))\n",
    "print('--------------------------------------')\n",
    "\n",
    "print(g.apply(normalize))\n",
    "print('--------------------------------------')\n",
    "\n",
    "print(g.transform('mean'))\n",
    "print('--------------------------------------')\n",
    "\n",
    "normalized = (df['value'] - g.transform('mean')) / g.transform('std')\n",
    "print(normalized)\n",
    "print('--------------------------------------')"
   ]
  },
  {
   "cell_type": "markdown",
   "id": "residential-graph",
   "metadata": {},
   "source": [
    "#### 12.2.2 시계열 그룹 리샘플링"
   ]
  },
  {
   "cell_type": "code",
   "execution_count": 29,
   "id": "handy-tribute",
   "metadata": {},
   "outputs": [
    {
     "name": "stdout",
     "output_type": "stream",
     "text": [
      "                  time  values\n",
      "0  2017-05-20 00:00:00       0\n",
      "1  2017-05-20 00:01:00       1\n",
      "2  2017-05-20 00:02:00       2\n",
      "3  2017-05-20 00:03:00       3\n",
      "4  2017-05-20 00:04:00       4\n",
      "5  2017-05-20 00:05:00       5\n",
      "6  2017-05-20 00:06:00       6\n",
      "7  2017-05-20 00:07:00       7\n",
      "8  2017-05-20 00:08:00       8\n",
      "9  2017-05-20 00:09:00       9\n",
      "10 2017-05-20 00:10:00      10\n",
      "11 2017-05-20 00:11:00      11\n",
      "12 2017-05-20 00:12:00      12\n",
      "13 2017-05-20 00:13:00      13\n",
      "14 2017-05-20 00:14:00      14\n",
      "--------------------------------------\n",
      "                     values\n",
      "time                       \n",
      "2017-05-20 00:00:00       5\n",
      "2017-05-20 00:05:00       5\n",
      "2017-05-20 00:10:00       5\n",
      "--------------------------------------\n",
      "                 time key  value\n",
      "0 2017-05-20 00:00:00   a      0\n",
      "1 2017-05-20 00:00:00   b      1\n",
      "2 2017-05-20 00:00:00   c      2\n",
      "3 2017-05-20 00:01:00   a      3\n",
      "4 2017-05-20 00:01:00   b      4\n",
      "5 2017-05-20 00:01:00   c      5\n",
      "6 2017-05-20 00:02:00   a      6\n",
      "--------------------------------------\n"
     ]
    }
   ],
   "source": [
    "N = 15 \n",
    "times = pd.date_range('2017-05-20 00:00', freq = '1min', periods=N)\n",
    "df = pd.DataFrame({'time' : times, \n",
    "                  'values' : np.arange(N)})\n",
    "print(df)\n",
    "print('--------------------------------------')\n",
    "\n",
    "print(df.set_index('time').resample('5min').count())\n",
    "print('--------------------------------------')\n",
    "\n",
    "df2 = pd.DataFrame({'time' : times.repeat(3), \n",
    "                   'key' : np.tile(['a', 'b', 'c'], N), \n",
    "                   'value' : np.arange(N * 3)})\n",
    "print(df2[:7])\n",
    "print('--------------------------------------')\n",
    "\n",
    "# time_key = pd.TimeGrouper('5min')\n",
    "# resampled = (df2.set_index('time').groupby(['key', time_key]).sum())\n",
    "# print(resample)\n",
    "# print('--------------------------------------')\n",
    "\n",
    "# print(resampled.reset_index())\n",
    "# print('--------------------------------------')"
   ]
  },
  {
   "cell_type": "markdown",
   "id": "closed-rebecca",
   "metadata": {},
   "source": [
    "### 12.3 메서드 연결 기법"
   ]
  },
  {
   "cell_type": "code",
   "execution_count": 30,
   "id": "abroad-sound",
   "metadata": {},
   "outputs": [],
   "source": [
    "# df.assign() - 컬럼에 값을 대입하는 함수, 객체 변경하는 대신 값 대입이 완료된 새로운 df 반환\n",
    "# df2 = df.copy()\n",
    "# df2['k'] v\n",
    "\n",
    "### 동일\n",
    "\n",
    "# df2 = df.assign(k=v)"
   ]
  },
  {
   "cell_type": "markdown",
   "id": "aggressive-company",
   "metadata": {},
   "source": [
    "#### 12.3.1 pipe 메서드"
   ]
  },
  {
   "cell_type": "code",
   "execution_count": null,
   "id": "future-potato",
   "metadata": {},
   "outputs": [],
   "source": [
    "# a = f(df1, arg1 = v1)\n",
    "# b = g(a, v2, arg3 = v3)\n",
    "# c = h(b, arg4 = v4)\n",
    "\n",
    "### 동일\n",
    "\n",
    "# result = (df.pipe(f, arg1=v1).pipe(g, v2, arg3=v3).pipe(h, arg4=v4))"
   ]
  }
 ],
 "metadata": {
  "kernelspec": {
   "display_name": "Python 3",
   "language": "python",
   "name": "python3"
  },
  "language_info": {
   "codemirror_mode": {
    "name": "ipython",
    "version": 3
   },
   "file_extension": ".py",
   "mimetype": "text/x-python",
   "name": "python",
   "nbconvert_exporter": "python",
   "pygments_lexer": "ipython3",
   "version": "3.6.8"
  }
 },
 "nbformat": 4,
 "nbformat_minor": 5
}
