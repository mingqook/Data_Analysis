{
 "cells": [
  {
   "cell_type": "markdown",
   "id": "under-advice",
   "metadata": {},
   "source": [
    "# Python for Data Analysis - part14"
   ]
  },
  {
   "cell_type": "markdown",
   "id": "vital-hebrew",
   "metadata": {},
   "source": [
    "##### Python의 numpy, pandas 등을 정리하였으며 파이썬 라이브러리를 활용한 데이터분석(2판)을 참고하여 작성하였습니다.\n",
    "##### 해당 자료는 python 3.6 기반으로 작성되었습니다."
   ]
  },
  {
   "cell_type": "markdown",
   "id": "least-gamma",
   "metadata": {},
   "source": [
    "## 14. 고급 Numpy\n",
    "### 14.1 ndarray 객체 구조\n",
    "#### - 데이터 포인터 : ram이나 메모리 맵 파일에서 데이터의 블록\n",
    "#### - dtype은 배열 내에서 값을 담는 고정된 크기를 나타낸다\n",
    "#### - 배열의 모양을 알려주는 튜플\n",
    "#### - 하나의 차원을 따라 다음 원소로 몇 바이트 이동해야 하는지를 나타내는 stride를 담고 있는 튜플"
   ]
  },
  {
   "cell_type": "code",
   "execution_count": 6,
   "id": "cellular-madrid",
   "metadata": {},
   "outputs": [
    {
     "name": "stdout",
     "output_type": "stream",
     "text": [
      "(10, 5)\n",
      "------------------------------------------\n",
      "(160, 40, 8)\n",
      "------------------------------------------\n"
     ]
    }
   ],
   "source": [
    "import numpy as np\n",
    "print(np.ones((10,5)).shape)\n",
    "print(\"------------------------------------------\")\n",
    "\n",
    "print(np.ones((3,4,5), dtype = np.float64).strides)\n",
    "print(\"------------------------------------------\")\n",
    "\n",
    "# stride값은 복사가 이루어지지 않는 배열의 뷰를 생성하는 데 중요한 역할"
   ]
  },
  {
   "cell_type": "markdown",
   "id": "manual-undergraduate",
   "metadata": {},
   "source": [
    "#### 14.1.1 numpy dtype 구조"
   ]
  },
  {
   "cell_type": "code",
   "execution_count": 11,
   "id": "focal-percentage",
   "metadata": {},
   "outputs": [
    {
     "name": "stdout",
     "output_type": "stream",
     "text": [
      "True\n",
      "------------------------------------------\n",
      "True\n",
      "------------------------------------------\n",
      "[<class 'numpy.float64'>, <class 'numpy.floating'>, <class 'numpy.inexact'>, <class 'numpy.number'>, <class 'numpy.generic'>, <class 'float'>, <class 'object'>]\n",
      "------------------------------------------\n",
      "True\n",
      "------------------------------------------\n"
     ]
    }
   ],
   "source": [
    "ints = np.ones(10, dtype=np.int16)\n",
    "floats = np.ones(10, dtype = np.float32)\n",
    "\n",
    "print(np.issubdtype(ints.dtype, np.integer))\n",
    "print(\"------------------------------------------\")\n",
    "\n",
    "print(np.issubdtype(floats.dtype, np.floating))\n",
    "print(\"------------------------------------------\")\n",
    "\n",
    "# mro() - dtype의 모든 부모 클래스 확인\n",
    "print(np.float64.mro())\n",
    "print(\"------------------------------------------\")\n",
    "\n",
    "print(np.issubdtype(ints.dtype, np.number))\n",
    "print(\"------------------------------------------\")"
   ]
  },
  {
   "cell_type": "markdown",
   "id": "embedded-blake",
   "metadata": {},
   "source": [
    "### 14.2 고급 배열 조작 기법\n",
    "#### 14.2.1 배열 재형성하기"
   ]
  },
  {
   "cell_type": "code",
   "execution_count": 14,
   "id": "mounted-nurse",
   "metadata": {},
   "outputs": [
    {
     "name": "stdout",
     "output_type": "stream",
     "text": [
      "[0 1 2 3 4 5 6 7]\n",
      "------------------------------------------\n",
      "[[0 1]\n",
      " [2 3]\n",
      " [4 5]\n",
      " [6 7]]\n",
      "------------------------------------------\n",
      "[[0 1 2 3]\n",
      " [4 5 6 7]]\n",
      "------------------------------------------\n"
     ]
    }
   ],
   "source": [
    "#### reshape - 배열의 모양을 변경\n",
    "arr = np.arange(8)\n",
    "print(arr)\n",
    "print(\"------------------------------------------\")\n",
    "\n",
    "print(arr.reshape((4,2)))\n",
    "print(\"------------------------------------------\")\n",
    "\n",
    "print(arr.reshape((4,2)).reshape((2,4)))\n",
    "print(\"------------------------------------------\")"
   ]
  },
  {
   "cell_type": "code",
   "execution_count": 15,
   "id": "ignored-providence",
   "metadata": {},
   "outputs": [
    {
     "name": "stdout",
     "output_type": "stream",
     "text": [
      "[[ 0  1  2]\n",
      " [ 3  4  5]\n",
      " [ 6  7  8]\n",
      " [ 9 10 11]\n",
      " [12 13 14]]\n",
      "------------------------------------------\n"
     ]
    }
   ],
   "source": [
    "arr = np.arange(15)\n",
    "print(arr.reshape((5, -1)))\n",
    "print(\"------------------------------------------\")"
   ]
  },
  {
   "cell_type": "code",
   "execution_count": 17,
   "id": "recovered-delaware",
   "metadata": {},
   "outputs": [
    {
     "name": "stdout",
     "output_type": "stream",
     "text": [
      "(3, 5)\n",
      "------------------------------------------\n",
      "[[ 0  1  2  3  4]\n",
      " [ 5  6  7  8  9]\n",
      " [10 11 12 13 14]]\n",
      "------------------------------------------\n"
     ]
    }
   ],
   "source": [
    "other_arr = np.ones((3,5))\n",
    "print(other_arr.shape)\n",
    "print(\"------------------------------------------\")\n",
    "\n",
    "print(arr.reshape(other_arr.shape))\n",
    "print(\"------------------------------------------\")"
   ]
  },
  {
   "cell_type": "code",
   "execution_count": 20,
   "id": "starting-montgomery",
   "metadata": {},
   "outputs": [
    {
     "name": "stdout",
     "output_type": "stream",
     "text": [
      "[[ 0  1  2]\n",
      " [ 3  4  5]\n",
      " [ 6  7  8]\n",
      " [ 9 10 11]\n",
      " [12 13 14]]\n",
      "------------------------------------------\n",
      "[ 0  1  2  3  4  5  6  7  8  9 10 11 12 13 14]\n",
      "------------------------------------------\n",
      "[ 0  1  2  3  4  5  6  7  8  9 10 11 12 13 14]\n",
      "------------------------------------------\n"
     ]
    }
   ],
   "source": [
    "# 평탄화 - 다차원 배열을 낮은 차원으로 변환\n",
    "arr = np.arange(15).reshape((5,3))\n",
    "print(arr)\n",
    "print(\"------------------------------------------\")\n",
    "\n",
    "print(arr.ravel())\n",
    "print(\"------------------------------------------\")\n",
    "\n",
    "print(arr.flatten())\n",
    "print(\"------------------------------------------\")\n",
    "\n",
    "# ravel은 원본 데이터의 복사본을 생성하지 않음 / flatten은 데이터의 복사본을 반환"
   ]
  },
  {
   "cell_type": "markdown",
   "id": "verbal-magic",
   "metadata": {},
   "source": [
    "#### 14.2.2 C순서와 포트란 순서\n",
    "#### - numpy는 메모리상의 데이터의 배치에 대한 유연하고 다양한 제어 기능을 제공\n",
    "#### - numpy 배열은 로우 우선 순서로 생성 \n",
    "#### - 2차원 배열이 있다면 배열의 각 로우에 해당하는 데이터들은 공간적으로 인접한 메모리에 적재된다는 뜻 -> c 순서\n",
    "#### - 로우 우선 순서가 아니면 칼럼 우선 순서를 가지게 되는데 이때는 칼럼들이 인접하게 적재 -> 포트란 순서"
   ]
  },
  {
   "cell_type": "code",
   "execution_count": 21,
   "id": "downtown-genius",
   "metadata": {},
   "outputs": [
    {
     "name": "stdout",
     "output_type": "stream",
     "text": [
      "[[ 0  1  2  3]\n",
      " [ 4  5  6  7]\n",
      " [ 8  9 10 11]]\n",
      "------------------------------------------\n",
      "[ 0  1  2  3  4  5  6  7  8  9 10 11]\n",
      "------------------------------------------\n",
      "[ 0  4  8  1  5  9  2  6 10  3  7 11]\n",
      "------------------------------------------\n"
     ]
    }
   ],
   "source": [
    "arr = np.arange(12).reshape((3,4))\n",
    "print(arr)\n",
    "print(\"------------------------------------------\")\n",
    "\n",
    "print(arr.ravel())\n",
    "print(\"------------------------------------------\")\n",
    "\n",
    "print(arr.ravel('F'))\n",
    "print(\"------------------------------------------\")"
   ]
  },
  {
   "cell_type": "markdown",
   "id": "catholic-boxing",
   "metadata": {},
   "source": [
    "#### 14.2.3 배열 이어붙이고 나누기"
   ]
  },
  {
   "cell_type": "code",
   "execution_count": 22,
   "id": "vulnerable-impact",
   "metadata": {},
   "outputs": [
    {
     "name": "stdout",
     "output_type": "stream",
     "text": [
      "[[ 1  2  3]\n",
      " [ 4  5  6]\n",
      " [ 7  8  9]\n",
      " [10 11 12]]\n",
      "------------------------------------------\n",
      "[[ 1  2  3  7  8  9]\n",
      " [ 4  5  6 10 11 12]]\n",
      "------------------------------------------\n"
     ]
    }
   ],
   "source": [
    "# concatenate - 배열의 목록을 받아서 주어진 축에 따라 하나의 배열로 합쳐준다. \n",
    "arr1 = np.array([[1,2,3], [4,5,6]])\n",
    "arr2 = np.array([[7,8,9], [10, 11, 12]])\n",
    "\n",
    "print(np.concatenate([arr1, arr2], axis = 0))\n",
    "print(\"------------------------------------------\")\n",
    "\n",
    "print(np.concatenate([arr1, arr2], axis = 1))\n",
    "print(\"------------------------------------------\")"
   ]
  },
  {
   "cell_type": "code",
   "execution_count": 24,
   "id": "arctic-press",
   "metadata": {},
   "outputs": [
    {
     "name": "stdout",
     "output_type": "stream",
     "text": [
      "[[ 1  2  3]\n",
      " [ 4  5  6]\n",
      " [ 7  8  9]\n",
      " [10 11 12]]\n",
      "------------------------------------------\n",
      "[[ 1  2  3  7  8  9]\n",
      " [ 4  5  6 10 11 12]]\n",
      "------------------------------------------\n"
     ]
    }
   ],
   "source": [
    "# vstack - axis = 0 / hstack - axis = 1\n",
    "print(np.vstack((arr1, arr2)))\n",
    "print(\"------------------------------------------\")\n",
    "\n",
    "print(np.hstack((arr1, arr2)))\n",
    "print(\"------------------------------------------\")"
   ]
  },
  {
   "cell_type": "code",
   "execution_count": 26,
   "id": "referenced-highland",
   "metadata": {},
   "outputs": [
    {
     "name": "stdout",
     "output_type": "stream",
     "text": [
      "[[ 0.00226943  0.15639762]\n",
      " [ 1.06019349  0.45017069]\n",
      " [-0.35142173  0.57941563]\n",
      " [ 0.00482346 -0.28079927]\n",
      " [-0.75722892  1.88987171]]\n",
      "------------------------------------------\n",
      "[[0.00226943 0.15639762]]\n",
      "------------------------------------------\n",
      "[[ 1.06019349  0.45017069]\n",
      " [-0.35142173  0.57941563]]\n",
      "------------------------------------------\n",
      "[[ 0.00482346 -0.28079927]\n",
      " [-0.75722892  1.88987171]]\n",
      "------------------------------------------\n"
     ]
    }
   ],
   "source": [
    "# split - 하나의 배열을 축을 따라 여러 개의 배열로 나눌 수 잇음\n",
    "arr = np.random.randn(5,2)\n",
    "print(arr)\n",
    "print(\"------------------------------------------\")\n",
    "\n",
    "first, second, third = np.split(arr, [1,3]) # 배열을 나눌 때 기준이 되는 위치\n",
    "print(first)\n",
    "print(\"------------------------------------------\")\n",
    "\n",
    "print(second)\n",
    "print(\"------------------------------------------\")\n",
    "\n",
    "print(third)\n",
    "print(\"------------------------------------------\")"
   ]
  },
  {
   "cell_type": "code",
   "execution_count": 28,
   "id": "distinct-ranch",
   "metadata": {},
   "outputs": [
    {
     "name": "stdout",
     "output_type": "stream",
     "text": [
      "[[ 0.          1.        ]\n",
      " [ 2.          3.        ]\n",
      " [ 4.          5.        ]\n",
      " [ 0.98291925  0.84124891]\n",
      " [ 0.00521408  1.31361779]\n",
      " [-0.47621692  0.03722803]]\n",
      "------------------------------------------\n",
      "[[ 0.          1.          0.        ]\n",
      " [ 2.          3.          1.        ]\n",
      " [ 4.          5.          2.        ]\n",
      " [ 0.98291925  0.84124891  3.        ]\n",
      " [ 0.00521408  1.31361779  4.        ]\n",
      " [-0.47621692  0.03722803  5.        ]]\n",
      "------------------------------------------\n",
      "[[  1 -10]\n",
      " [  2  -9]\n",
      " [  3  -8]\n",
      " [  4  -7]\n",
      " [  5  -6]]\n",
      "------------------------------------------\n"
     ]
    }
   ],
   "source": [
    "# r_ / c_ : 배열 쌓기를 좀더 편리하게 해줌\n",
    "arr = np.arange(6)\n",
    "arr1 = arr.reshape((3,2))\n",
    "arr2 = np.random.randn(3,2)\n",
    "\n",
    "print(np.r_[arr1, arr2])\n",
    "print(\"------------------------------------------\")\n",
    "\n",
    "\n",
    "print(np.c_[np.r_[arr1, arr2], arr])\n",
    "print(\"------------------------------------------\")\n",
    "\n",
    "print(np.c_[1:6, -10:-5])\n",
    "print(\"------------------------------------------\")"
   ]
  },
  {
   "cell_type": "markdown",
   "id": "ruled-prince",
   "metadata": {},
   "source": [
    "#### 14.2.4 원소 반복하기 : repeat & tile"
   ]
  },
  {
   "cell_type": "code",
   "execution_count": 30,
   "id": "legal-packet",
   "metadata": {},
   "outputs": [
    {
     "name": "stdout",
     "output_type": "stream",
     "text": [
      "[0 1 2]\n",
      "------------------------------------------\n",
      "[0 0 0 1 1 1 2 2 2]\n",
      "------------------------------------------\n",
      "[0 0 1 1 1 2 2 2 2]\n",
      "------------------------------------------\n"
     ]
    }
   ],
   "source": [
    "# repeat - 한 배열의 각 원소를 원하는 만큼 복제해서 큰 배열을 생성\n",
    "arr = np.arange(3)\n",
    "print(arr)\n",
    "print(\"------------------------------------------\")\n",
    "\n",
    "print(arr.repeat(3))\n",
    "print(\"------------------------------------------\")\n",
    "\n",
    "print(arr.repeat([2,3,4]))\n",
    "print(\"------------------------------------------\")"
   ]
  },
  {
   "cell_type": "code",
   "execution_count": 33,
   "id": "first-handling",
   "metadata": {},
   "outputs": [
    {
     "name": "stdout",
     "output_type": "stream",
     "text": [
      "[[ 1.5942224  -0.30240284]\n",
      " [-0.72286263  0.68809626]]\n",
      "------------------------------------------\n",
      "[[ 1.5942224  -0.30240284]\n",
      " [ 1.5942224  -0.30240284]\n",
      " [-0.72286263  0.68809626]\n",
      " [-0.72286263  0.68809626]]\n",
      "------------------------------------------\n",
      "[[ 1.5942224  -0.30240284]\n",
      " [ 1.5942224  -0.30240284]\n",
      " [-0.72286263  0.68809626]\n",
      " [-0.72286263  0.68809626]\n",
      " [-0.72286263  0.68809626]]\n",
      "------------------------------------------\n",
      "[[ 1.5942224   1.5942224  -0.30240284 -0.30240284 -0.30240284]\n",
      " [-0.72286263 -0.72286263  0.68809626  0.68809626  0.68809626]]\n",
      "------------------------------------------\n"
     ]
    }
   ],
   "source": [
    "arr = np.random.randn(2,2)\n",
    "print(arr)\n",
    "print(\"------------------------------------------\")\n",
    "\n",
    "print(arr.repeat(2, axis = 0))\n",
    "print(\"------------------------------------------\")\n",
    "\n",
    "print(arr.repeat([2,3], axis = 0))\n",
    "print(\"------------------------------------------\")\n",
    "\n",
    "print(arr.repeat([2,3], axis = 1))\n",
    "print(\"------------------------------------------\")"
   ]
  },
  {
   "cell_type": "code",
   "execution_count": 34,
   "id": "lasting-upset",
   "metadata": {},
   "outputs": [
    {
     "name": "stdout",
     "output_type": "stream",
     "text": [
      "[[ 1.5942224  -0.30240284]\n",
      " [-0.72286263  0.68809626]]\n",
      "------------------------------------------\n",
      "[[ 1.5942224  -0.30240284  1.5942224  -0.30240284]\n",
      " [-0.72286263  0.68809626 -0.72286263  0.68809626]]\n",
      "------------------------------------------\n",
      "[[ 1.5942224  -0.30240284]\n",
      " [-0.72286263  0.68809626]\n",
      " [ 1.5942224  -0.30240284]\n",
      " [-0.72286263  0.68809626]]\n",
      "------------------------------------------\n",
      "[[ 1.5942224  -0.30240284  1.5942224  -0.30240284]\n",
      " [-0.72286263  0.68809626 -0.72286263  0.68809626]\n",
      " [ 1.5942224  -0.30240284  1.5942224  -0.30240284]\n",
      " [-0.72286263  0.68809626 -0.72286263  0.68809626]\n",
      " [ 1.5942224  -0.30240284  1.5942224  -0.30240284]\n",
      " [-0.72286263  0.68809626 -0.72286263  0.68809626]]\n",
      "------------------------------------------\n"
     ]
    }
   ],
   "source": [
    "# tile - 축을 따라 배열을 복사해서 쌓는 함수 \n",
    "print(arr)\n",
    "print(\"------------------------------------------\")\n",
    "\n",
    "print(np.tile(arr, 2))\n",
    "print(\"------------------------------------------\")\n",
    "\n",
    "print(np.tile(arr, (2,1)))\n",
    "print(\"------------------------------------------\")\n",
    "\n",
    "print(np.tile(arr, (3,2)))\n",
    "print(\"------------------------------------------\")"
   ]
  },
  {
   "cell_type": "markdown",
   "id": "ideal-agent",
   "metadata": {},
   "source": [
    "#### 14.2.5 팬시 색인 : take와 put"
   ]
  },
  {
   "cell_type": "code",
   "execution_count": 36,
   "id": "divine-defense",
   "metadata": {},
   "outputs": [
    {
     "name": "stdout",
     "output_type": "stream",
     "text": [
      "[700 100 200 600]\n",
      "------------------------------------------\n",
      "[700 100 200 600]\n",
      "------------------------------------------\n",
      "[  0  42  42 300 400 500  42  42 800 900]\n",
      "------------------------------------------\n",
      "[  0  41  42 300 400 500  43  40 800 900]\n",
      "------------------------------------------\n"
     ]
    }
   ],
   "source": [
    "arr = np.arange(10) * 100 \n",
    "inds = [7,1,2,6]\n",
    "print(arr[inds])\n",
    "print(\"------------------------------------------\")\n",
    "\n",
    "print(arr.take(inds))\n",
    "print(\"------------------------------------------\")\n",
    "\n",
    "arr.put(inds, 42)\n",
    "\n",
    "print(arr)\n",
    "print(\"------------------------------------------\")\n",
    "\n",
    "arr.put(inds, [40, 41, 42, 43])\n",
    "print(arr)\n",
    "print(\"------------------------------------------\")"
   ]
  },
  {
   "cell_type": "code",
   "execution_count": 37,
   "id": "critical-marijuana",
   "metadata": {},
   "outputs": [
    {
     "name": "stdout",
     "output_type": "stream",
     "text": [
      "[[-0.04321937  0.08197603 -0.13384265  0.34275856]\n",
      " [-0.4160439   0.69240365  0.08794637  2.17607621]]\n",
      "------------------------------------------\n",
      "[[-0.13384265 -0.04321937 -0.13384265  0.08197603]\n",
      " [ 0.08794637 -0.4160439   0.08794637  0.69240365]]\n",
      "------------------------------------------\n"
     ]
    }
   ],
   "source": [
    "inds = [2,0,2,1]\n",
    "arr = np.random.randn(2,4)\n",
    "print(arr)\n",
    "print(\"------------------------------------------\")\n",
    "\n",
    "print(arr.take(inds, axis = 1))\n",
    "print(\"------------------------------------------\")"
   ]
  },
  {
   "cell_type": "markdown",
   "id": "accomplished-cocktail",
   "metadata": {},
   "source": [
    "### 14.3 브로드캐스팅\n",
    "#### - 브로드캐스팅은 다른 모양의 배열 간의 산술 연산을 어떻게 수행해야 하는 지 설명"
   ]
  },
  {
   "cell_type": "code",
   "execution_count": 38,
   "id": "rural-galaxy",
   "metadata": {},
   "outputs": [
    {
     "name": "stdout",
     "output_type": "stream",
     "text": [
      "[0 1 2 3 4]\n",
      "------------------------------------------\n",
      "[ 0  4  8 12 16]\n",
      "------------------------------------------\n"
     ]
    }
   ],
   "source": [
    "arr = np.arange(5)\n",
    "print(arr)\n",
    "print(\"------------------------------------------\")\n",
    "\n",
    "print(arr * 4)\n",
    "print(\"------------------------------------------\")"
   ]
  },
  {
   "cell_type": "code",
   "execution_count": 39,
   "id": "external-fourth",
   "metadata": {},
   "outputs": [
    {
     "name": "stdout",
     "output_type": "stream",
     "text": [
      "[ 0.76865906  0.28601897 -0.08802448]\n",
      "------------------------------------------\n",
      "[[ 1.25827914  0.19544167 -0.66405811]\n",
      " [-0.47700695  0.52374461 -0.66725888]\n",
      " [-0.43059834 -0.1475114   0.42496312]\n",
      " [-0.35067384 -0.57167489  0.90635386]]\n",
      "------------------------------------------\n",
      "[2.77555756e-17 0.00000000e+00 0.00000000e+00]\n",
      "------------------------------------------\n"
     ]
    }
   ],
   "source": [
    "arr = np.random.randn(4,3)\n",
    "print(arr.mean(0))\n",
    "print(\"------------------------------------------\")\n",
    "\n",
    "demeaned = arr - arr.mean(0)\n",
    "print(demeaned)\n",
    "print(\"------------------------------------------\")\n",
    "\n",
    "print(demeaned.mean(0))\n",
    "print(\"------------------------------------------\")"
   ]
  },
  {
   "cell_type": "code",
   "execution_count": 41,
   "id": "fifteen-belle",
   "metadata": {},
   "outputs": [
    {
     "name": "stdout",
     "output_type": "stream",
     "text": [
      "[[ 2.0269382   0.48146064 -0.75208259]\n",
      " [ 0.29165211  0.80976358 -0.75528336]\n",
      " [ 0.33806072  0.13850757  0.33693864]\n",
      " [ 0.41798522 -0.28565592  0.81832938]]\n",
      "------------------------------------------\n",
      "(4,)\n",
      "------------------------------------------\n",
      "[[0.58543875]\n",
      " [0.11537744]\n",
      " [0.27116898]\n",
      " [0.31688623]]\n",
      "------------------------------------------\n",
      "[[ 1.44149945 -0.10397811 -1.33752134]\n",
      " [ 0.17627467  0.69438614 -0.8706608 ]\n",
      " [ 0.06689174 -0.13266141  0.06576967]\n",
      " [ 0.10109899 -0.60254215  0.50144315]]\n",
      "------------------------------------------\n"
     ]
    }
   ],
   "source": [
    "print(arr)\n",
    "print(\"------------------------------------------\")\n",
    "\n",
    "row_means = arr.mean(1)\n",
    "print(row_means.shape)\n",
    "print(\"------------------------------------------\")\n",
    "\n",
    "print(row_means.reshape((4,1)))\n",
    "print(\"------------------------------------------\")\n",
    "\n",
    "demeaned = arr - row_means.reshape((4,1))\n",
    "print(demeaned)\n",
    "print(\"------------------------------------------\")"
   ]
  },
  {
   "cell_type": "markdown",
   "id": "pharmaceutical-folder",
   "metadata": {},
   "source": [
    "#### 14.3.1 다른 축에 대해 브로드캐스팅하기 "
   ]
  },
  {
   "cell_type": "code",
   "execution_count": 42,
   "id": "sporting-triumph",
   "metadata": {},
   "outputs": [
    {
     "ename": "ValueError",
     "evalue": "operands could not be broadcast together with shapes (4,3) (4,) ",
     "output_type": "error",
     "traceback": [
      "\u001b[0;31m---------------------------------------------------------------------------\u001b[0m",
      "\u001b[0;31mValueError\u001b[0m                                Traceback (most recent call last)",
      "\u001b[0;32m<ipython-input-42-8b8ada26fac0>\u001b[0m in \u001b[0;36m<module>\u001b[0;34m\u001b[0m\n\u001b[0;32m----> 1\u001b[0;31m \u001b[0marr\u001b[0m \u001b[0;34m-\u001b[0m \u001b[0marr\u001b[0m\u001b[0;34m.\u001b[0m\u001b[0mmean\u001b[0m\u001b[0;34m(\u001b[0m\u001b[0;36m1\u001b[0m\u001b[0;34m)\u001b[0m\u001b[0;34m\u001b[0m\u001b[0;34m\u001b[0m\u001b[0m\n\u001b[0m",
      "\u001b[0;31mValueError\u001b[0m: operands could not be broadcast together with shapes (4,3) (4,) "
     ]
    }
   ],
   "source": [
    "arr - arr.mean(1)"
   ]
  },
  {
   "cell_type": "markdown",
   "id": "caroline-smile",
   "metadata": {},
   "source": [
    "#### - 브로드캐스트 차원은 작은 배열에서는 반드시 1이어야 한다. "
   ]
  },
  {
   "cell_type": "code",
   "execution_count": 43,
   "id": "union-penny",
   "metadata": {},
   "outputs": [
    {
     "name": "stdout",
     "output_type": "stream",
     "text": [
      "[[ 1.44149945 -0.10397811 -1.33752134]\n",
      " [ 0.17627467  0.69438614 -0.8706608 ]\n",
      " [ 0.06689174 -0.13266141  0.06576967]\n",
      " [ 0.10109899 -0.60254215  0.50144315]]\n",
      "------------------------------------------\n"
     ]
    }
   ],
   "source": [
    "print(arr - arr.mean(1).reshape((4,1)))\n",
    "print(\"------------------------------------------\")"
   ]
  },
  {
   "cell_type": "code",
   "execution_count": 46,
   "id": "palestinian-healing",
   "metadata": {},
   "outputs": [
    {
     "name": "stdout",
     "output_type": "stream",
     "text": [
      "(4, 1, 4)\n",
      "------------------------------------------\n",
      "[[-1.4551624 ]\n",
      " [ 0.04917994]\n",
      " [-1.44145102]]\n",
      "------------------------------------------\n",
      "[[-1.4551624   0.04917994 -1.44145102]]\n",
      "------------------------------------------\n"
     ]
    }
   ],
   "source": [
    "# np.newaxis - 새로운 축을 추가\n",
    "arr = np.zeros((4,4))\n",
    "arr_3d = arr[:, np.newaxis, :]\n",
    "print(arr_3d.shape)\n",
    "print(\"------------------------------------------\")\n",
    "arr_1d = np.random.normal(size = 3)\n",
    "print(arr_1d[:, np.newaxis])\n",
    "print(\"------------------------------------------\")\n",
    "\n",
    "print(arr_1d[np.newaxis, :])\n",
    "print(\"------------------------------------------\")"
   ]
  },
  {
   "cell_type": "code",
   "execution_count": 48,
   "id": "hidden-wrestling",
   "metadata": {},
   "outputs": [
    {
     "name": "stdout",
     "output_type": "stream",
     "text": [
      "[[ 0.6466627  -0.17788299 -0.57407968 -0.40658429]\n",
      " [ 0.26899498  0.22437657 -0.05666263  0.90330666]\n",
      " [ 1.21984644  0.1414309  -0.28598893 -0.09529732]]\n",
      "------------------------------------------\n",
      "(3, 4)\n",
      "------------------------------------------\n",
      "[[ 2.22044605e-17  2.49800181e-17 -1.11022302e-17  0.00000000e+00]\n",
      " [-4.44089210e-17 -6.10622664e-17 -2.22044605e-17 -8.88178420e-17]\n",
      " [ 8.88178420e-17  0.00000000e+00  4.44089210e-17  1.66533454e-17]]\n",
      "------------------------------------------\n"
     ]
    }
   ],
   "source": [
    "arr = np.random.randn(3,4,5)\n",
    "depth_means = arr.mean(2)\n",
    "print(depth_means)\n",
    "print(\"------------------------------------------\")\n",
    "\n",
    "print(depth_means.shape)\n",
    "print(\"------------------------------------------\")\n",
    "\n",
    "demeaned = arr - depth_means[:, :, np.newaxis]\n",
    "print(demeaned.mean(2))\n",
    "print(\"------------------------------------------\")"
   ]
  },
  {
   "cell_type": "markdown",
   "id": "academic-proceeding",
   "metadata": {},
   "source": [
    "#### 14.3.2 브로드캐스팅을 이용해서 배열에 값 대입하기"
   ]
  },
  {
   "cell_type": "code",
   "execution_count": 50,
   "id": "healthy-relay",
   "metadata": {},
   "outputs": [
    {
     "name": "stdout",
     "output_type": "stream",
     "text": [
      "[[5. 5. 5.]\n",
      " [5. 5. 5.]\n",
      " [5. 5. 5.]\n",
      " [5. 5. 5.]]\n",
      "------------------------------------------\n"
     ]
    }
   ],
   "source": [
    "arr = np.zeros((4,3))\n",
    "arr[:] = 5\n",
    "print(arr)\n",
    "print(\"------------------------------------------\")"
   ]
  },
  {
   "cell_type": "code",
   "execution_count": 51,
   "id": "dramatic-anthropology",
   "metadata": {},
   "outputs": [
    {
     "name": "stdout",
     "output_type": "stream",
     "text": [
      "[[ 1.28  1.28  1.28]\n",
      " [-0.42 -0.42 -0.42]\n",
      " [ 0.44  0.44  0.44]\n",
      " [ 1.6   1.6   1.6 ]]\n",
      "------------------------------------------\n",
      "[[-1.37  -1.37  -1.37 ]\n",
      " [ 0.509  0.509  0.509]\n",
      " [ 0.44   0.44   0.44 ]\n",
      " [ 1.6    1.6    1.6  ]]\n",
      "------------------------------------------\n"
     ]
    }
   ],
   "source": [
    "col = np.array([1.28, -0.42, 0.44, 1.6])\n",
    "arr[:] = col[:, np.newaxis]\n",
    "print(arr)\n",
    "print(\"------------------------------------------\")\n",
    "arr[:2] = [[-1.37], [0.509]]\n",
    "print(arr)\n",
    "print(\"------------------------------------------\")"
   ]
  },
  {
   "cell_type": "markdown",
   "id": "federal-theater",
   "metadata": {},
   "source": [
    "### 14.4 고급 ufunc 사용법\n",
    "#### 14.4.1 ufunc 인스턴스 메서드"
   ]
  },
  {
   "cell_type": "code",
   "execution_count": 52,
   "id": "accepted-removal",
   "metadata": {},
   "outputs": [
    {
     "name": "stdout",
     "output_type": "stream",
     "text": [
      "45\n",
      "------------------------------------------\n",
      "45\n",
      "------------------------------------------\n"
     ]
    }
   ],
   "source": [
    "# reduce - 하나의 배열을 받아서 순차적인 이항 연산을 통해 축에 따라 그 값을 집계\n",
    "arr = np.arange(10)\n",
    "print(np.add.reduce(arr))\n",
    "print(\"------------------------------------------\")\n",
    "\n",
    "print(arr.sum())\n",
    "print(\"------------------------------------------\")"
   ]
  },
  {
   "cell_type": "code",
   "execution_count": 53,
   "id": "saved-nylon",
   "metadata": {},
   "outputs": [
    {
     "name": "stdout",
     "output_type": "stream",
     "text": [
      "[[ True  True  True  True]\n",
      " [False  True  True  True]\n",
      " [ True  True  True  True]\n",
      " [False  True  True False]\n",
      " [ True  True  True  True]]\n",
      "------------------------------------------\n",
      "[ True False  True False  True]\n",
      "------------------------------------------\n"
     ]
    }
   ],
   "source": [
    "# np.logical_and - 배열의 각 로우에 있는 값이 정렬된 상태인지 검사하는 것을 생각 가능\n",
    "np.random.seed(12345)\n",
    "arr = np.random.randn(5,5)\n",
    "arr[::2].sort(1)\n",
    "\n",
    "print(arr[:, :-1] < arr[:, 1:])\n",
    "print(\"------------------------------------------\")\n",
    "\n",
    "print(np.logical_and.reduce(arr[:, :-1] < arr[:, 1:], axis = 1))\n",
    "print(\"------------------------------------------\")"
   ]
  },
  {
   "cell_type": "code",
   "execution_count": 54,
   "id": "automatic-bench",
   "metadata": {},
   "outputs": [
    {
     "name": "stdout",
     "output_type": "stream",
     "text": [
      "[[ 0  1  3  6 10]\n",
      " [ 5 11 18 26 35]\n",
      " [10 21 33 46 60]]\n",
      "------------------------------------------\n"
     ]
    }
   ],
   "source": [
    "# accumulate - reduce와 관련, 누계를 담고 있는 같은 크기의 배열을 생성\n",
    "arr = np.arange(15).reshape((3,5))\n",
    "print(np.add.accumulate(arr, axis = 1))\n",
    "print(\"------------------------------------------\")"
   ]
  },
  {
   "cell_type": "code",
   "execution_count": 55,
   "id": "legislative-judgment",
   "metadata": {},
   "outputs": [
    {
     "name": "stdout",
     "output_type": "stream",
     "text": [
      "[0 1 1 2 2]\n",
      "------------------------------------------\n",
      "[[0 0 0 0 0]\n",
      " [0 1 2 3 4]\n",
      " [0 1 2 3 4]\n",
      " [0 2 4 6 8]\n",
      " [0 2 4 6 8]]\n",
      "------------------------------------------\n"
     ]
    }
   ],
   "source": [
    "# outer - 두 배열간의 벡터곱(외적)\n",
    "arr = np.arange(3).repeat([1,2,2])\n",
    "print(arr)\n",
    "print(\"------------------------------------------\")\n",
    "\n",
    "print(np.multiply.outer(arr, np.arange(5)))\n",
    "print(\"------------------------------------------\")"
   ]
  },
  {
   "cell_type": "code",
   "execution_count": 57,
   "id": "going-indiana",
   "metadata": {},
   "outputs": [
    {
     "name": "stdout",
     "output_type": "stream",
     "text": [
      "(3, 4, 5)\n",
      "------------------------------------------\n"
     ]
    }
   ],
   "source": [
    "# outer 결과의 차원의 입력한 차원의 합(붙이기)\n",
    "x, y = np.random.randn(3,4), np.random.randn(5)\n",
    "result = np.subtract.outer(x,y)\n",
    "print(result.shape)\n",
    "print(\"------------------------------------------\")"
   ]
  },
  {
   "cell_type": "code",
   "execution_count": 58,
   "id": "sudden-terminal",
   "metadata": {},
   "outputs": [
    {
     "name": "stdout",
     "output_type": "stream",
     "text": [
      "[10 18 17]\n",
      "------------------------------------------\n",
      "[[ 0  0  0  0  0]\n",
      " [ 0  1  2  3  4]\n",
      " [ 0  2  4  6  8]\n",
      " [ 0  3  6  9 12]]\n",
      "------------------------------------------\n",
      "[[ 0  0  0]\n",
      " [ 1  5  4]\n",
      " [ 2 10  8]\n",
      " [ 3 15 12]]\n",
      "------------------------------------------\n"
     ]
    }
   ],
   "source": [
    "# reduceat - 로컬 reduce, 배열의 groupby 연산으로 배열의 슬라이스를 모두 집계\n",
    "arr = np.arange(10)\n",
    "print(np.add.reduceat(arr, [0, 5, 8]))\n",
    "print(\"------------------------------------------\")\n",
    "\n",
    "arr = np.multiply.outer(np.arange(4), np.arange(5))\n",
    "print(arr)\n",
    "print(\"------------------------------------------\")\n",
    "\n",
    "print(np.add.reduceat(arr, [0,2,4], axis = 1))\n",
    "print(\"------------------------------------------\")"
   ]
  },
  {
   "cell_type": "markdown",
   "id": "treated-soldier",
   "metadata": {},
   "source": [
    "#### 14.4.2 파이썬으로 사용자 정의 ufunc 작성하기 "
   ]
  },
  {
   "cell_type": "code",
   "execution_count": 59,
   "id": "illegal-curve",
   "metadata": {},
   "outputs": [
    {
     "name": "stdout",
     "output_type": "stream",
     "text": [
      "[0 2 4 6 8 10 12 14]\n",
      "------------------------------------------\n"
     ]
    }
   ],
   "source": [
    "# np.frompyfunc - 입력과 출력에 대한 표준과 함께 파이썬 함수를 인자로 취함\n",
    "def add_elements(x, y):\n",
    "    return x+y\n",
    "\n",
    "add_them = np.frompyfunc(add_elements, 2,1)\n",
    "print(add_them(np.arange(8), np.arange(8)))\n",
    "print(\"------------------------------------------\")"
   ]
  },
  {
   "cell_type": "code",
   "execution_count": 60,
   "id": "seven-pathology",
   "metadata": {},
   "outputs": [
    {
     "name": "stdout",
     "output_type": "stream",
     "text": [
      "[ 0.  2.  4.  6.  8. 10. 12. 14.]\n",
      "------------------------------------------\n"
     ]
    }
   ],
   "source": [
    "# np.vectorize - 반환 자료형을 지정 가능\n",
    "add_them = np.vectorize(add_elements, otypes=[np.float64])\n",
    "print(add_them(np.arange(8),np.arange(8)))\n",
    "print(\"------------------------------------------\")"
   ]
  },
  {
   "cell_type": "code",
   "execution_count": 62,
   "id": "duplicate-bottom",
   "metadata": {},
   "outputs": [
    {
     "name": "stdout",
     "output_type": "stream",
     "text": [
      "1.61 ms ± 17.1 µs per loop (mean ± std. dev. of 7 runs, 1000 loops each)\n",
      "2.67 µs ± 11 ns per loop (mean ± std. dev. of 7 runs, 100000 loops each)\n"
     ]
    }
   ],
   "source": [
    "arr = np.random.randn(10000)\n",
    "%timeit add_them(arr, arr)\n",
    "%timeit np.add(arr, arr)"
   ]
  },
  {
   "cell_type": "markdown",
   "id": "athletic-polish",
   "metadata": {},
   "source": [
    "### 14.5 구조화된 배열과 레코드 배열"
   ]
  },
  {
   "cell_type": "code",
   "execution_count": 65,
   "id": "composite-breakdown",
   "metadata": {},
   "outputs": [
    {
     "name": "stdout",
     "output_type": "stream",
     "text": [
      "[(1.5       ,  6) (3.14159265, -2)]\n",
      "------------------------------------------\n",
      "(1.5, 6)\n",
      "------------------------------------------\n",
      "6\n",
      "------------------------------------------\n",
      "[1.5        3.14159265]\n",
      "------------------------------------------\n"
     ]
    }
   ],
   "source": [
    "dtype = [('x', np.float64), ('y', np.int32)]\n",
    "sarr = np.array([(1.5, 6) ,(np.pi, -2)], dtype = dtype)\n",
    "print(sarr)\n",
    "print(\"------------------------------------------\")\n",
    "\n",
    "print(sarr[0])\n",
    "print(\"------------------------------------------\")\n",
    "\n",
    "print(sarr[0]['y'])\n",
    "print(\"------------------------------------------\")\n",
    "\n",
    "print(sarr['x'])\n",
    "print(\"------------------------------------------\")"
   ]
  },
  {
   "cell_type": "markdown",
   "id": "academic-necessity",
   "metadata": {},
   "source": [
    "#### 14.5.1 중첩된 dtype과 다차원 필드"
   ]
  },
  {
   "cell_type": "code",
   "execution_count": 67,
   "id": "configured-adjustment",
   "metadata": {},
   "outputs": [
    {
     "name": "stdout",
     "output_type": "stream",
     "text": [
      "[([0, 0, 0], 0) ([0, 0, 0], 0) ([0, 0, 0], 0) ([0, 0, 0], 0)]\n",
      "------------------------------------------\n",
      "[0 0 0]\n",
      "------------------------------------------\n",
      "[[0 0 0]\n",
      " [0 0 0]\n",
      " [0 0 0]\n",
      " [0 0 0]]\n",
      "------------------------------------------\n"
     ]
    }
   ],
   "source": [
    "dtype = [('x', np.int64, 3), ('y', np.int32)]\n",
    "arr = np.zeros(4, dtype = dtype)\n",
    "print(arr)\n",
    "print(\"------------------------------------------\")\n",
    "\n",
    "print(arr[0]['x'])\n",
    "print(\"------------------------------------------\")\n",
    "\n",
    "print(arr['x'])\n",
    "print(\"------------------------------------------\")"
   ]
  },
  {
   "cell_type": "code",
   "execution_count": 69,
   "id": "negative-safety",
   "metadata": {},
   "outputs": [
    {
     "name": "stdout",
     "output_type": "stream",
     "text": [
      "[(1., 2.) (3., 4.)]\n",
      "------------------------------------------\n",
      "[5 6]\n",
      "------------------------------------------\n",
      "[1. 3.]\n",
      "------------------------------------------\n"
     ]
    }
   ],
   "source": [
    "dtype = [('x', [('a', 'f8'), ('b', 'f4')]), ('y', np.int32)]\n",
    "data = np.array([((1,2), 5), ((3,4), 6)], dtype = dtype)\n",
    "print(data['x'])\n",
    "print(\"------------------------------------------\")\n",
    "\n",
    "print(data['y'])\n",
    "print(\"------------------------------------------\")\n",
    "\n",
    "print(data['x']['a'])\n",
    "print(\"------------------------------------------\")"
   ]
  },
  {
   "cell_type": "markdown",
   "id": "acknowledged-chapel",
   "metadata": {},
   "source": [
    "### 14.6 정렬에 관하여"
   ]
  },
  {
   "cell_type": "code",
   "execution_count": 70,
   "id": "aboriginal-incidence",
   "metadata": {},
   "outputs": [
    {
     "name": "stdout",
     "output_type": "stream",
     "text": [
      "[-0.42739443 -0.33745039  0.3929762   0.43289058  1.16020709  1.30886866]\n",
      "------------------------------------------\n"
     ]
    }
   ],
   "source": [
    "arr = np.random.randn(6)\n",
    "arr.sort()\n",
    "print(arr)\n",
    "print(\"------------------------------------------\")"
   ]
  },
  {
   "cell_type": "code",
   "execution_count": 71,
   "id": "mighty-preliminary",
   "metadata": {},
   "outputs": [
    {
     "name": "stdout",
     "output_type": "stream",
     "text": [
      "[[-0.93614605  0.44011242 -0.9454195   1.6319019   1.06345899]\n",
      " [-0.21675907 -0.10466158 -1.66351666  0.44827317  0.01233147]\n",
      " [ 0.68391706  1.2416739   0.87555965 -0.7509476  -0.08045377]]\n",
      "------------------------------------------\n",
      "[[-0.93614605  0.44011242 -0.9454195   1.6319019   1.06345899]\n",
      " [-0.21675907 -0.10466158 -1.66351666  0.44827317  0.01233147]\n",
      " [ 0.68391706  1.2416739   0.87555965 -0.7509476  -0.08045377]]\n",
      "------------------------------------------\n"
     ]
    }
   ],
   "source": [
    "arr = np.random.randn(3,5)\n",
    "print(arr)\n",
    "print(\"------------------------------------------\")\n",
    "\n",
    "arr[:, 0].sort()\n",
    "print(arr)\n",
    "print(\"------------------------------------------\")"
   ]
  },
  {
   "cell_type": "code",
   "execution_count": 74,
   "id": "radio-strand",
   "metadata": {},
   "outputs": [
    {
     "name": "stdout",
     "output_type": "stream",
     "text": [
      "[-2.15053217 -0.08691656 -0.2062042   0.07980982 -0.02580149]\n",
      "------------------------------------------\n",
      "[-2.15053217 -0.2062042  -0.08691656 -0.02580149  0.07980982]\n",
      "------------------------------------------\n",
      "[-2.15053217 -0.08691656 -0.2062042   0.07980982 -0.02580149]\n",
      "------------------------------------------\n"
     ]
    }
   ],
   "source": [
    "arr = np.random.randn(5)\n",
    "print(arr)\n",
    "print(\"------------------------------------------\")\n",
    "\n",
    "print(np.sort(arr))\n",
    "print(\"------------------------------------------\")\n",
    "\n",
    "print(arr)\n",
    "print(\"------------------------------------------\")"
   ]
  },
  {
   "cell_type": "code",
   "execution_count": 75,
   "id": "pacific-republic",
   "metadata": {},
   "outputs": [
    {
     "name": "stdout",
     "output_type": "stream",
     "text": [
      "[[-0.80598649 -0.00724465 -1.34435045 -0.51022464 -0.86415289]\n",
      " [-0.40555763 -0.31348083 -1.09236072 -0.59913543  0.01626134]\n",
      " [ 1.06123553 -0.2498113   0.25531359  0.85416301  0.31809652]]\n",
      "------------------------------------------\n",
      "[[-1.34435045 -0.86415289 -0.80598649 -0.51022464 -0.00724465]\n",
      " [-1.09236072 -0.59913543 -0.40555763 -0.31348083  0.01626134]\n",
      " [-0.2498113   0.25531359  0.31809652  0.85416301  1.06123553]]\n",
      "------------------------------------------\n"
     ]
    }
   ],
   "source": [
    "arr = np.random.randn(3,5)\n",
    "print(arr)\n",
    "print(\"------------------------------------------\")\n",
    "\n",
    "arr.sort(axis = 1)\n",
    "print(arr)\n",
    "print(\"------------------------------------------\")"
   ]
  },
  {
   "cell_type": "code",
   "execution_count": 76,
   "id": "respiratory-charles",
   "metadata": {},
   "outputs": [
    {
     "name": "stdout",
     "output_type": "stream",
     "text": [
      "[[-0.00724465 -0.51022464 -0.80598649 -0.86415289 -1.34435045]\n",
      " [ 0.01626134 -0.31348083 -0.40555763 -0.59913543 -1.09236072]\n",
      " [ 1.06123553  0.85416301  0.31809652  0.25531359 -0.2498113 ]]\n",
      "------------------------------------------\n"
     ]
    }
   ],
   "source": [
    "# 내림차순 정렬을 위한 옵셤이 없음 -> 순서가 뒤집어진 배열을 얻으면 됨\n",
    "print(arr[:, ::-1])\n",
    "print(\"------------------------------------------\")"
   ]
  },
  {
   "cell_type": "markdown",
   "id": "separated-medicare",
   "metadata": {},
   "source": [
    "#### 14.6.1 간접 정렬 : argsort와 lexsort"
   ]
  },
  {
   "cell_type": "code",
   "execution_count": 78,
   "id": "automatic-moral",
   "metadata": {},
   "outputs": [
    {
     "name": "stdout",
     "output_type": "stream",
     "text": [
      "[1 2 4 3 0]\n",
      "------------------------------------------\n",
      "[0 1 2 3 5]\n",
      "------------------------------------------\n"
     ]
    }
   ],
   "source": [
    "# 배열의 순서대로 index를 정렬\n",
    "values = np.array([5, 0, 1, 3, 2])\n",
    "indexer = values.argsort()\n",
    "print(indexer)\n",
    "print(\"------------------------------------------\")\n",
    "\n",
    "print(values[indexer])\n",
    "print(\"------------------------------------------\")"
   ]
  },
  {
   "cell_type": "code",
   "execution_count": 80,
   "id": "maritime-participation",
   "metadata": {},
   "outputs": [
    {
     "name": "stdout",
     "output_type": "stream",
     "text": [
      "[[ 5.          0.          1.          3.          2.        ]\n",
      " [ 1.52540853 -0.80985749 -0.85547052  0.0548877  -0.21025812]\n",
      " [ 0.82520958 -0.88438408  1.88470075  0.06123328  0.8014105 ]]\n",
      "------------------------------------------\n",
      "[[ 0.          1.          2.          3.          5.        ]\n",
      " [-0.80985749 -0.85547052 -0.21025812  0.0548877   1.52540853]\n",
      " [-0.88438408  1.88470075  0.8014105   0.06123328  0.82520958]]\n",
      "------------------------------------------\n"
     ]
    }
   ],
   "source": [
    "arr = np.random.randn(3,5)\n",
    "arr[0] = values\n",
    "print(arr)\n",
    "print(\"------------------------------------------\")\n",
    "\n",
    "print(arr[:, arr[0].argsort()])\n",
    "print(\"------------------------------------------\")"
   ]
  },
  {
   "cell_type": "code",
   "execution_count": 82,
   "id": "fitted-rental",
   "metadata": {},
   "outputs": [
    {
     "name": "stdout",
     "output_type": "stream",
     "text": [
      "[1 2 3 0 4]\n",
      "<zip object at 0x7fb302e6df88>\n",
      "------------------------------------------\n"
     ]
    }
   ],
   "source": [
    "# lexsort - argsort와 유사하지만 다중 키 배열에 대해 간접 사전순 정렬을 수행\n",
    "first_name = np.array(['bob', 'jane', 'steve', 'bill', 'barbara'])\n",
    "last_name = np.array(['jones', 'arnold', 'arnold', 'jones', 'walters'])\n",
    "sorter = np.lexsort((first_name, last_name)) # 나중에 넘저균 배열이 데이털르 정렬하는데 먼저 사용\n",
    "print(sorter)\n",
    "\n",
    "print(zip(last_name[sorter], first_name[sorter]))\n",
    "print(\"------------------------------------------\")"
   ]
  },
  {
   "cell_type": "markdown",
   "id": "higher-oxford",
   "metadata": {},
   "source": [
    "#### 14.6.2 대안 정렬 알고리즘"
   ]
  },
  {
   "cell_type": "code",
   "execution_count": 83,
   "id": "gorgeous-warning",
   "metadata": {},
   "outputs": [
    {
     "name": "stdout",
     "output_type": "stream",
     "text": [
      "[2 3 4 0 1]\n",
      "------------------------------------------\n",
      "['1:first' '1:second' '1:third' '2:fist' '2:second']\n",
      "------------------------------------------\n"
     ]
    }
   ],
   "source": [
    "values = np.array(['2:fist', '2:second', '1:first', '1:second', '1:third'])\n",
    "key = np.array([2,2,1,1,1])\n",
    "indexer = key.argsort(kind = 'mergesort')\n",
    "print(indexer)\n",
    "print(\"------------------------------------------\")\n",
    "\n",
    "print(values.take(indexer))\n",
    "print(\"------------------------------------------\")"
   ]
  },
  {
   "cell_type": "markdown",
   "id": "unlikely-allowance",
   "metadata": {},
   "source": [
    "#### 14.6.3 배열 일부만 정렬하기"
   ]
  },
  {
   "cell_type": "code",
   "execution_count": 85,
   "id": "major-beast",
   "metadata": {},
   "outputs": [
    {
     "name": "stdout",
     "output_type": "stream",
     "text": [
      "[-0.20470766  0.47894334 -0.51943872 -0.5557303   1.96578057  1.39340583\n",
      "  0.09290788  0.28174615  0.76902257  1.24643474  1.00718936 -1.29622111\n",
      "  0.27499163  0.22891288  1.35291684  0.88642934 -2.00163731 -0.37184254\n",
      "  1.66902531 -0.43856974]\n",
      "------------------------------------------\n",
      "[-2.00163731 -1.29622111 -0.5557303  -0.51943872 -0.37184254 -0.43856974\n",
      " -0.20470766  0.28174615  0.76902257  0.47894334  1.00718936  0.09290788\n",
      "  0.27499163  0.22891288  1.35291684  0.88642934  1.39340583  1.96578057\n",
      "  1.66902531  1.24643474]\n",
      "------------------------------------------\n",
      "[16 11  3  2 17 19  0  7  8  1 10  6 12 13 14 15  5  4 18  9]\n",
      "------------------------------------------\n",
      "[-2.00163731 -1.29622111 -0.5557303  -0.51943872 -0.37184254 -0.43856974\n",
      " -0.20470766  0.28174615  0.76902257  0.47894334  1.00718936  0.09290788\n",
      "  0.27499163  0.22891288  1.35291684  0.88642934  1.39340583  1.96578057\n",
      "  1.66902531  1.24643474]\n",
      "------------------------------------------\n"
     ]
    }
   ],
   "source": [
    "# np.partition /. p.argpartition - k번쨰 작은 원소를 기준으로 배열을 나눔\n",
    "np.random.seed(12345)\n",
    "arr = np.random.randn(20)\n",
    "print(arr)\n",
    "print(\"------------------------------------------\")\n",
    "\n",
    "print(np.partition(arr, 3))\n",
    "print(\"------------------------------------------\")\n",
    "\n",
    "indices = np.argpartition(arr,3)\n",
    "print(indices)\n",
    "print(\"------------------------------------------\")\n",
    "\n",
    "print(arr.take(indices))\n",
    "print(\"------------------------------------------\")"
   ]
  },
  {
   "cell_type": "markdown",
   "id": "protecting-albuquerque",
   "metadata": {},
   "source": [
    "#### 14.6.4 np.searchsorted : 정렬된 배열에서 원소 찾기\n",
    "#### - 정렬된 배열에서 이진 탐색을 수행해 새로운 값을 삽입할 때 정렬된 상태를 계속 유지하기 위한 위치를 반환"
   ]
  },
  {
   "cell_type": "code",
   "execution_count": 86,
   "id": "mighty-spray",
   "metadata": {},
   "outputs": [
    {
     "name": "stdout",
     "output_type": "stream",
     "text": [
      "3\n",
      "------------------------------------------\n",
      "[0 3 3 5]\n",
      "------------------------------------------\n",
      "[0 3]\n",
      "------------------------------------------\n",
      "[3 7]\n",
      "------------------------------------------\n"
     ]
    }
   ],
   "source": [
    "arr = np.array([0,1,7,12, 15])\n",
    "print(arr.searchsorted(9))\n",
    "print(\"------------------------------------------\")\n",
    "\n",
    "print(arr.searchsorted([0, 8, 11, 16]))\n",
    "print(\"------------------------------------------\")\n",
    "\n",
    "arr = np.array([0,0,0,1,1,1,1])\n",
    "print(arr.searchsorted([0,1]))\n",
    "print(\"------------------------------------------\")\n",
    "\n",
    "print(arr.searchsorted([0,1], side = 'right'))\n",
    "print(\"------------------------------------------\")"
   ]
  },
  {
   "cell_type": "code",
   "execution_count": 88,
   "id": "eastern-temperature",
   "metadata": {},
   "outputs": [
    {
     "name": "stdout",
     "output_type": "stream",
     "text": [
      "[2449. 7928. 4951. 9150. 9453. 5332. 2524. 7208. 3674. 4986. 2265. 3535.\n",
      " 6508. 3129. 7687. 7818. 8524. 9499. 1073. 9107. 3360. 8263. 8981.  427.\n",
      " 1957. 2945. 6269.  862. 1429. 5158. 6893. 8566. 6473. 5816. 7111. 2524.\n",
      " 9001. 4422.  205. 9596. 6522. 5132. 6823. 4895. 9264. 5158.  721. 5675.\n",
      " 6152. 9415.]\n",
      "------------------------------------------\n",
      "[3 4 3 4 4 4 3 4 3 3 3 3 4 3 4 4 4 4 3 4 3 4 4 2 3 3 4 2 3 4 4 4 4 4 4 3 4\n",
      " 3 2 4 4 4 4 3 4 4 2 4 4 4]\n",
      "------------------------------------------\n",
      "2     553.750000\n",
      "3    3132.375000\n",
      "4    7482.733333\n",
      "dtype: float64\n",
      "------------------------------------------\n"
     ]
    }
   ],
   "source": [
    "data = np.floor(np.random.uniform(0, 10000, size = 50))\n",
    "bins = np.array([0, 100, 1000, 5000 ,10000])\n",
    "print(data)\n",
    "print(\"------------------------------------------\")\n",
    "\n",
    "labels = bins.searchsorted(data)\n",
    "print(labels)\n",
    "print(\"------------------------------------------\")\n",
    "\n",
    "import pandas as pd\n",
    "print(pd.Series(data).groupby(labels).mean())\n",
    "print(\"------------------------------------------\")"
   ]
  },
  {
   "cell_type": "markdown",
   "id": "closing-culture",
   "metadata": {},
   "source": [
    "### 14.7 Numba를 이용하여 빠른 Numpy 함수 작성하기\n",
    "### 14.8 고급 배열 입축력\n",
    "### 14.9 성능 팁\n",
    "#### - 생략"
   ]
  }
 ],
 "metadata": {
  "kernelspec": {
   "display_name": "Python 3",
   "language": "python",
   "name": "python3"
  },
  "language_info": {
   "codemirror_mode": {
    "name": "ipython",
    "version": 3
   },
   "file_extension": ".py",
   "mimetype": "text/x-python",
   "name": "python",
   "nbconvert_exporter": "python",
   "pygments_lexer": "ipython3",
   "version": "3.6.8"
  }
 },
 "nbformat": 4,
 "nbformat_minor": 5
}
