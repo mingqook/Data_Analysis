{
 "cells": [
  {
   "cell_type": "markdown",
   "id": "worst-alert",
   "metadata": {},
   "source": [
    "# Python for Data Analysis - part7"
   ]
  },
  {
   "cell_type": "markdown",
   "id": "connected-century",
   "metadata": {},
   "source": [
    "##### Python의 numpy, pandas 등을 정리하였으며 파이썬 라이브러리를 활용한 데이터분석(2판)을 참고하여 작성하였습니다.\n",
    "##### 해당 자료는 python 3.6 기반으로 작성되었습니다."
   ]
  },
  {
   "cell_type": "markdown",
   "id": "medieval-nudist",
   "metadata": {},
   "source": [
    "## 7. 데이터 정제 및 준비\n",
    "### 7.1 누락된 데이터 처리하기\n",
    "#### - pandas의 모든 기술 통계는 누락된 데이터를 배제하고 처리"
   ]
  },
  {
   "cell_type": "code",
   "execution_count": 2,
   "id": "arabic-mobility",
   "metadata": {},
   "outputs": [
    {
     "name": "stdout",
     "output_type": "stream",
     "text": [
      "0     aardvark\n",
      "1    artichoke\n",
      "2          NaN\n",
      "3      avocado\n",
      "dtype: object\n",
      "---------------------------------\n",
      "0    False\n",
      "1    False\n",
      "2     True\n",
      "3    False\n",
      "dtype: bool\n",
      "---------------------------------\n",
      "0     True\n",
      "1    False\n",
      "2     True\n",
      "3    False\n",
      "dtype: bool\n",
      "---------------------------------\n"
     ]
    }
   ],
   "source": [
    "import pandas as pd\n",
    "import numpy as np\n",
    "\n",
    "string_data = pd.Series(['aardvark', 'artichoke', np.nan, 'avocado'])\n",
    "print(string_data)\n",
    "print('---------------------------------')\n",
    "\n",
    "print(string_data.isnull())\n",
    "print('---------------------------------')\n",
    "\n",
    "# None 역시 NA 값으로 취급\n",
    "string_data[0] = None\n",
    "print(string_data.isnull())\n",
    "print('---------------------------------')"
   ]
  },
  {
   "cell_type": "markdown",
   "id": "dedicated-panama",
   "metadata": {},
   "source": [
    "#### - NA 처리 메서드 : dropna(누락 데이터가 있는 축을 제외), fillna(누락된 데이터를 대신할 값을 채우거나, ffill, bfill같은 보간 메서드 활용), isnull(누락 데이터 여부 확인), notnull(isnull의 반대)"
   ]
  },
  {
   "cell_type": "markdown",
   "id": "mounted-casting",
   "metadata": {},
   "source": [
    "#### 7.1.1 누락된 데이터 골라내기"
   ]
  },
  {
   "cell_type": "code",
   "execution_count": 4,
   "id": "cathedral-literacy",
   "metadata": {},
   "outputs": [
    {
     "name": "stdout",
     "output_type": "stream",
     "text": [
      "0    1.0\n",
      "2    3.5\n",
      "4    7.0\n",
      "dtype: float64\n",
      "---------------------------------\n",
      "0    1.0\n",
      "2    3.5\n",
      "4    7.0\n",
      "dtype: float64\n",
      "---------------------------------\n"
     ]
    }
   ],
   "source": [
    "from numpy import nan as NA\n",
    "data = pd.Series([1, NA, 3.5, NA, 7])\n",
    "\n",
    "print(data.dropna())\n",
    "print('---------------------------------')\n",
    "\n",
    "print(data[data.notnull()])\n",
    "print('---------------------------------')"
   ]
  },
  {
   "cell_type": "code",
   "execution_count": 11,
   "id": "abstract-junior",
   "metadata": {},
   "outputs": [
    {
     "name": "stdout",
     "output_type": "stream",
     "text": [
      "     0    1    2\n",
      "0  1.0  6.5  3.0\n",
      "1  1.0  NaN  NaN\n",
      "2  NaN  NaN  NaN\n",
      "3  NaN  6.5  3.0\n",
      "---------------------------------\n",
      "     0    1    2\n",
      "0  1.0  6.5  3.0\n",
      "---------------------------------\n",
      "     0    1    2\n",
      "0  1.0  6.5  3.0\n",
      "1  1.0  NaN  NaN\n",
      "3  NaN  6.5  3.0\n",
      "---------------------------------\n",
      "     0    1    2   4\n",
      "0  1.0  6.5  3.0 NaN\n",
      "1  1.0  NaN  NaN NaN\n",
      "2  NaN  NaN  NaN NaN\n",
      "3  NaN  6.5  3.0 NaN\n",
      "---------------------------------\n",
      "     0    1    2\n",
      "0  1.0  6.5  3.0\n",
      "1  1.0  NaN  NaN\n",
      "2  NaN  NaN  NaN\n",
      "3  NaN  6.5  3.0\n",
      "---------------------------------\n",
      "          0         1         2\n",
      "0  0.374751       NaN       NaN\n",
      "1  1.151889       NaN       NaN\n",
      "2 -1.086690       NaN -0.147882\n",
      "3  0.430500       NaN -1.389023\n",
      "4  0.415487  1.576219  0.819519\n",
      "5  0.207680 -0.343668  1.200398\n",
      "6  0.190374 -1.010518 -0.123868\n",
      "---------------------------------\n",
      "          0         1         2\n",
      "4  0.415487  1.576219  0.819519\n",
      "5  0.207680 -0.343668  1.200398\n",
      "6  0.190374 -1.010518 -0.123868\n",
      "---------------------------------\n",
      "          0         1         2\n",
      "2 -1.086690       NaN -0.147882\n",
      "3  0.430500       NaN -1.389023\n",
      "4  0.415487  1.576219  0.819519\n",
      "5  0.207680 -0.343668  1.200398\n",
      "6  0.190374 -1.010518 -0.123868\n",
      "---------------------------------\n"
     ]
    }
   ],
   "source": [
    "data = pd.DataFrame([[1., 6.5, 3.], [1., NA, NA], [NA, NA, NA], [NA, 6.5, 3]])\n",
    "cleaned = data.dropna()\n",
    "\n",
    "print(data)\n",
    "print('---------------------------------')\n",
    "\n",
    "print(cleaned)\n",
    "print('---------------------------------')\n",
    "\n",
    "# how = 'all' - 모두 NA인 로우 제거 / axis = 1 주면 컬럼 제거\n",
    "print(data.dropna(how = 'all'))\n",
    "print('---------------------------------')\n",
    "\n",
    "data[4] = NA\n",
    "print(data)\n",
    "print('---------------------------------')\n",
    "\n",
    "print(data.dropna(how = 'all', axis = 1))\n",
    "print('---------------------------------')\n",
    "\n",
    "df = pd.DataFrame(np.random.randn(7,3))\n",
    "df.iloc[:4, 1] = NA\n",
    "df.iloc[:2, 2] = NA\n",
    "\n",
    "print(df)\n",
    "print('---------------------------------')\n",
    "\n",
    "print(df.dropna())\n",
    "print('---------------------------------')\n",
    "\n",
    "# thresh - 일정 개수 이상 누락 데이터 포함 시 제거\n",
    "print(df.dropna(thresh = 2))\n",
    "print('---------------------------------')"
   ]
  },
  {
   "cell_type": "markdown",
   "id": "personalized-restaurant",
   "metadata": {},
   "source": [
    "#### 7.1.2 결측치 채우기"
   ]
  },
  {
   "cell_type": "code",
   "execution_count": 14,
   "id": "first-rider",
   "metadata": {},
   "outputs": [
    {
     "name": "stdout",
     "output_type": "stream",
     "text": [
      "          0         1         2\n",
      "0  0.374751  0.000000  0.000000\n",
      "1  1.151889  0.000000  0.000000\n",
      "2 -1.086690  0.000000 -0.147882\n",
      "3  0.430500  0.000000 -1.389023\n",
      "4  0.415487  1.576219  0.819519\n",
      "5  0.207680 -0.343668  1.200398\n",
      "6  0.190374 -1.010518 -0.123868\n",
      "---------------------------------\n",
      "          0         1         2\n",
      "0  0.374751  0.500000  0.000000\n",
      "1  1.151889  0.500000  0.000000\n",
      "2 -1.086690  0.500000 -0.147882\n",
      "3  0.430500  0.500000 -1.389023\n",
      "4  0.415487  1.576219  0.819519\n",
      "5  0.207680 -0.343668  1.200398\n",
      "6  0.190374 -1.010518 -0.123868\n",
      "---------------------------------\n",
      "          0         1         2\n",
      "0  0.374751  0.000000  0.000000\n",
      "1  1.151889  0.000000  0.000000\n",
      "2 -1.086690  0.000000 -0.147882\n",
      "3  0.430500  0.000000 -1.389023\n",
      "4  0.415487  1.576219  0.819519\n",
      "5  0.207680 -0.343668  1.200398\n",
      "6  0.190374 -1.010518 -0.123868\n",
      "---------------------------------\n"
     ]
    }
   ],
   "source": [
    "# fillna() - 결측치에 원하는 값으로 채워줌\n",
    "print(df.fillna(0))\n",
    "print('---------------------------------')\n",
    "\n",
    "# col마다 다른 값으로 결측치를 채움\n",
    "print(df.fillna({1:0.5, 2:0}))\n",
    "print('---------------------------------')\n",
    "\n",
    "# 기존 객체를 변경\n",
    "_ = df.fillna(0, inplace = True)\n",
    "print(df)\n",
    "print('---------------------------------')"
   ]
  },
  {
   "cell_type": "code",
   "execution_count": 16,
   "id": "spatial-pillow",
   "metadata": {},
   "outputs": [
    {
     "name": "stdout",
     "output_type": "stream",
     "text": [
      "          0         1         2\n",
      "0 -1.157483 -0.407362  0.250195\n",
      "1  0.172116 -1.673093 -0.390411\n",
      "2  0.712485       NaN  0.097377\n",
      "3  0.316185       NaN -0.371901\n",
      "4 -0.233688       NaN       NaN\n",
      "5 -1.658817       NaN       NaN\n",
      "---------------------------------\n",
      "          0         1         2\n",
      "0 -1.157483 -0.407362  0.250195\n",
      "1  0.172116 -1.673093 -0.390411\n",
      "2  0.712485 -1.673093  0.097377\n",
      "3  0.316185 -1.673093 -0.371901\n",
      "4 -0.233688 -1.673093 -0.371901\n",
      "5 -1.658817 -1.673093 -0.371901\n",
      "---------------------------------\n",
      "          0         1         2\n",
      "0 -1.157483 -0.407362  0.250195\n",
      "1  0.172116 -1.673093 -0.390411\n",
      "2  0.712485 -1.673093  0.097377\n",
      "3  0.316185 -1.673093 -0.371901\n",
      "4 -0.233688       NaN -0.371901\n",
      "5 -1.658817       NaN -0.371901\n",
      "---------------------------------\n",
      "0    1.000000\n",
      "1    3.833333\n",
      "2    3.500000\n",
      "3    3.833333\n",
      "4    7.000000\n",
      "dtype: float64\n",
      "---------------------------------\n"
     ]
    }
   ],
   "source": [
    "df = pd.DataFrame(np.random.randn(6,3))\n",
    "df.iloc[2:, 1] = NA\n",
    "df.iloc[4:, 2] = NA\n",
    "\n",
    "print(df)\n",
    "print('---------------------------------')\n",
    "\n",
    "# method = 'ffill' / 'bfill' - 직전 값으로 결측치 채움 / 직후 값으로 결측치 채움\n",
    "print(df.fillna(method = 'ffill'))\n",
    "print('---------------------------------')\n",
    "\n",
    "print(df.fillna(method = 'ffill', limit = 2))\n",
    "print('---------------------------------')\n",
    "\n",
    "# 평균값으로 결측치 처리\n",
    "data = pd.Series([1, NA, 3.5, NA, 7])\n",
    "print(data.fillna(data.mean()))\n",
    "print('---------------------------------')"
   ]
  },
  {
   "cell_type": "markdown",
   "id": "substantial-techno",
   "metadata": {},
   "source": [
    "#### - fillna 인자 : value(비어 있는 값을 채울 스칼라값이나 사전형태 객체), method(보간 방식, 기본적으로 ffill), axis(값을 채워 넣을 축), inplace(복사본을 생성하지 않고 호출한 객체를 변경), limit(값을 앞 혹은 뒤에서부터 몇 개까지 채울 지 지정)"
   ]
  },
  {
   "cell_type": "markdown",
   "id": "analyzed-extension",
   "metadata": {},
   "source": [
    "### 7.2 데이터 변형\n",
    "#### 7.2.1 중복 제거"
   ]
  },
  {
   "cell_type": "code",
   "execution_count": 24,
   "id": "cardiovascular-young",
   "metadata": {},
   "outputs": [
    {
     "name": "stdout",
     "output_type": "stream",
     "text": [
      "    k1  k2\n",
      "0  one   1\n",
      "1  two   1\n",
      "2  one   2\n",
      "3  two   3\n",
      "4  one   3\n",
      "5  two   4\n",
      "6  two   4\n",
      "---------------------------------\n",
      "0    False\n",
      "1    False\n",
      "2    False\n",
      "3    False\n",
      "4    False\n",
      "5    False\n",
      "6     True\n",
      "dtype: bool\n",
      "---------------------------------\n",
      "    k1  k2\n",
      "0  one   1\n",
      "1  two   1\n",
      "2  one   2\n",
      "3  two   3\n",
      "4  one   3\n",
      "5  two   4\n",
      "---------------------------------\n",
      "    k1  k2  v1\n",
      "0  one   1   0\n",
      "1  two   1   1\n",
      "---------------------------------\n",
      "    k1  k2  v1\n",
      "0  one   1   0\n",
      "1  two   1   1\n",
      "2  one   2   2\n",
      "3  two   3   3\n",
      "4  one   3   4\n",
      "6  two   4   6\n",
      "---------------------------------\n"
     ]
    }
   ],
   "source": [
    "data = pd.DataFrame({'k1' : ['one', 'two'] * 3 + ['two'], \n",
    "                    'k2' : [1,1,2,3,3,4,4]})\n",
    "\n",
    "print(data)\n",
    "print('---------------------------------')\n",
    "\n",
    "# duplicated 메서드 - 로우가 중복인지 아닌지 판단\n",
    "print(data.duplicated())\n",
    "print('---------------------------------')\n",
    "\n",
    "# drop_duplicated 메서드 - 중복되지 않은 로우 반환\n",
    "print(data.drop_duplicates())\n",
    "print('---------------------------------')\n",
    "\n",
    "data['v1'] = range(7)\n",
    "print(data.drop_duplicates(['k1']))\n",
    "print('---------------------------------')\n",
    "\n",
    "# keep = 'last' - 마지막으로 발견된 값을 반환\n",
    "print(data.drop_duplicates(['k1', 'k2'], keep = 'last'))\n",
    "print('---------------------------------')"
   ]
  },
  {
   "cell_type": "markdown",
   "id": "negative-robertson",
   "metadata": {},
   "source": [
    "#### 7.2.2 함수나 매핑을 이용해서 데이터 변형하기"
   ]
  },
  {
   "cell_type": "code",
   "execution_count": 30,
   "id": "interim-legend",
   "metadata": {},
   "outputs": [
    {
     "name": "stdout",
     "output_type": "stream",
     "text": [
      "          food  ounces\n",
      "0        bacon     4.0\n",
      "1  pulled pork     3.0\n",
      "2        bacon    12.0\n",
      "3     pastrami     6.0\n",
      "4  corned beef     7.5\n",
      "5        bacon     8.0\n",
      "6     pastrami     3.0\n",
      "7    honey ham     5.0\n",
      "8     nova lox     6.0\n",
      "---------------------------------\n",
      "0          bacon\n",
      "1    pulled pork\n",
      "2          bacon\n",
      "3       pastrami\n",
      "4    corned beef\n",
      "5          bacon\n",
      "6       pastrami\n",
      "7      honey ham\n",
      "8       nova lox\n",
      "Name: food, dtype: object\n",
      "---------------------------------\n",
      "          food  ounces  animal\n",
      "0        bacon     4.0     pig\n",
      "1  pulled pork     3.0     pig\n",
      "2        bacon    12.0     pig\n",
      "3     pastrami     6.0     cow\n",
      "4  corned beef     7.5     cow\n",
      "5        bacon     8.0     pig\n",
      "6     pastrami     3.0     cow\n",
      "7    honey ham     5.0     pig\n",
      "8     nova lox     6.0  salmon\n",
      "---------------------------------\n",
      "0       pig\n",
      "1       pig\n",
      "2       pig\n",
      "3       cow\n",
      "4       cow\n",
      "5       pig\n",
      "6       cow\n",
      "7       pig\n",
      "8    salmon\n",
      "Name: food, dtype: object\n",
      "---------------------------------\n"
     ]
    }
   ],
   "source": [
    "data = pd.DataFrame({'food' : ['bacon', 'pulled pork', 'bacon', 'pastrami', 'corned beef', 'bacon', \n",
    "                              'pastrami', 'honey ham', 'nova lox'], \n",
    "                    'ounces' : [4,3,12,6,7.5,8,3,5,6]})\n",
    "\n",
    "print(data)\n",
    "print('---------------------------------')\n",
    "\n",
    "meat_to_animal = {'bacon' : 'pig', 'pulled pork' : 'pig', 'pastrami' : 'cow', 'corned beef' : 'cow', \n",
    "                  'honey ham' : 'pig', 'nova lox' : 'salmon'}\n",
    "lowercased = data['food'].str.lower()\n",
    "print(lowercased)\n",
    "print('---------------------------------')\n",
    "\n",
    "data['animal'] = lowercased.map(meat_to_animal)\n",
    "print(data)\n",
    "print('---------------------------------')\n",
    "\n",
    "print(data['food'].map(lambda x: meat_to_animal[x.lower()]))\n",
    "print('---------------------------------')"
   ]
  },
  {
   "cell_type": "markdown",
   "id": "juvenile-basement",
   "metadata": {},
   "source": [
    "#### 7.2.3 값 치환하기"
   ]
  },
  {
   "cell_type": "code",
   "execution_count": 34,
   "id": "grand-scholarship",
   "metadata": {},
   "outputs": [
    {
     "name": "stdout",
     "output_type": "stream",
     "text": [
      "0       1\n",
      "1    -999\n",
      "2       2\n",
      "3    -999\n",
      "4   -1000\n",
      "5       3\n",
      "dtype: int64\n",
      "---------------------------------\n",
      "0       1.0\n",
      "1       NaN\n",
      "2       2.0\n",
      "3       NaN\n",
      "4   -1000.0\n",
      "5       3.0\n",
      "dtype: float64\n",
      "---------------------------------\n",
      "0    1.0\n",
      "1    NaN\n",
      "2    2.0\n",
      "3    NaN\n",
      "4    NaN\n",
      "5    3.0\n",
      "dtype: float64\n",
      "---------------------------------\n",
      "0    1.0\n",
      "1    NaN\n",
      "2    2.0\n",
      "3    NaN\n",
      "4    0.0\n",
      "5    3.0\n",
      "dtype: float64\n",
      "---------------------------------\n",
      "0    1.0\n",
      "1    NaN\n",
      "2    2.0\n",
      "3    NaN\n",
      "4    0.0\n",
      "5    3.0\n",
      "dtype: float64\n",
      "---------------------------------\n"
     ]
    }
   ],
   "source": [
    "data = pd.Series([1, -999, 2, -999, -1000, 3])\n",
    "print(data)\n",
    "print('---------------------------------')\n",
    "\n",
    "# replace 메서드 - 치환\n",
    "print(data.replace(-999, np.nan))\n",
    "print('---------------------------------')\n",
    "\n",
    "print(data.replace([-999, -1000], np.nan))\n",
    "print('---------------------------------')\n",
    "\n",
    "print(data.replace([-999, -1000], [np.nan, 0]))\n",
    "print('---------------------------------')\n",
    "\n",
    "print(data.replace({-999 : np.nan, -1000 : 0}))\n",
    "print('---------------------------------')"
   ]
  },
  {
   "cell_type": "markdown",
   "id": "sporting-museum",
   "metadata": {},
   "source": [
    "#### 7.2.4 축 색인 이름 바꾸기"
   ]
  },
  {
   "cell_type": "code",
   "execution_count": 39,
   "id": "sensitive-hindu",
   "metadata": {},
   "outputs": [
    {
     "name": "stdout",
     "output_type": "stream",
     "text": [
      "Index(['OHIO', 'COLO', 'NEW '], dtype='object')\n",
      "---------------------------------\n",
      "      one  two  three  four\n",
      "OHIO    0    1      2     3\n",
      "COLO    4    5      6     7\n",
      "NEW     8    9     10    11\n",
      "---------------------------------\n",
      "      ONE  TWO  THREE  FOUR\n",
      "Ohio    0    1      2     3\n",
      "Colo    4    5      6     7\n",
      "New     8    9     10    11\n",
      "---------------------------------\n",
      "         one  two  peekaboo  four\n",
      "INDIANA    0    1         2     3\n",
      "COLO       4    5         6     7\n",
      "NEW        8    9        10    11\n",
      "---------------------------------\n"
     ]
    }
   ],
   "source": [
    "data = pd.DataFrame(np.arange(12).reshape(3,4), \n",
    "                   index = ['ohio', 'colorado', 'new york'], \n",
    "                   columns = ['one', 'two', 'three', 'four'])\n",
    "\n",
    "transform = lambda x: x[:4].upper()\n",
    "\n",
    "\n",
    "# index에도 map 메서드 존재\n",
    "print(data.index.map(transform))\n",
    "print('---------------------------------')\n",
    "\n",
    "data.index = data.index.map(transform)\n",
    "print(data)\n",
    "print('---------------------------------')\n",
    "\n",
    "# rename 메서드 - 원래 객체를 변경하지 않고 새로운 객체를 생성\n",
    "print(data.rename(index = str.title, columns = str.upper))\n",
    "print('---------------------------------')\n",
    "\n",
    "print(data.rename(index = {'OHIO' : 'INDIANA'}, \n",
    "                 columns = {'three' : 'peekaboo'}))\n",
    "print('---------------------------------')"
   ]
  },
  {
   "cell_type": "markdown",
   "id": "swedish-software",
   "metadata": {},
   "source": [
    "#### 7.2.5 개별화와 양자화"
   ]
  },
  {
   "cell_type": "code",
   "execution_count": 47,
   "id": "eligible-literature",
   "metadata": {},
   "outputs": [
    {
     "name": "stdout",
     "output_type": "stream",
     "text": [
      "[(18, 25], (18, 25], (18, 25], (25, 35], (18, 25], ..., (25, 35], (60, 100], (35, 60], (35, 60], (25, 35]]\n",
      "Length: 12\n",
      "Categories (4, interval[int64]): [(18, 25] < (25, 35] < (35, 60] < (60, 100]]\n",
      "---------------------------------\n",
      "[0 0 0 1 0 0 2 1 3 2 2 1]\n",
      "---------------------------------\n",
      "IntervalIndex([(18, 25], (25, 35], (35, 60], (60, 100]],\n",
      "              closed='right',\n",
      "              dtype='interval[int64]')\n",
      "---------------------------------\n",
      "(18, 25]     5\n",
      "(35, 60]     3\n",
      "(25, 35]     3\n",
      "(60, 100]    1\n",
      "dtype: int64\n",
      "---------------------------------\n",
      "[[18, 26), [18, 26), [18, 26), [26, 36), [18, 26), ..., [26, 36), [61, 100), [36, 61), [36, 61), [26, 36)]\n",
      "Length: 12\n",
      "Categories (4, interval[int64]): [[18, 26) < [26, 36) < [36, 61) < [61, 100)]\n",
      "---------------------------------\n",
      "['youth', 'youth', 'youth', 'youngadult', 'youth', ..., 'youngadult', 'senior', 'middleaged', 'middleaged', 'youngadult']\n",
      "Length: 12\n",
      "Categories (4, object): ['youth' < 'youngadult' < 'middleaged' < 'senior']\n",
      "---------------------------------\n",
      "[(0.72, 0.96], (0.48, 0.72], (0.72, 0.96], (0.72, 0.96], (0.0021, 0.24], ..., (0.72, 0.96], (0.72, 0.96], (0.24, 0.48], (0.24, 0.48], (0.0021, 0.24]]\n",
      "Length: 20\n",
      "Categories (4, interval[float64]): [(0.0021, 0.24] < (0.24, 0.48] < (0.48, 0.72] < (0.72, 0.96]]\n",
      "---------------------------------\n",
      "[(-0.0009531, 0.235], (0.235, 0.471], (0.471, 0.725], (0.471, 0.725], (0.235, 0.471], ..., (0.725, 1.0], (0.235, 0.471], (0.725, 1.0], (-0.0009531, 0.235], (0.235, 0.471]]\n",
      "Length: 1000\n",
      "Categories (4, interval[float64]): [(-0.0009531, 0.235] < (0.235, 0.471] < (0.471, 0.725] < (0.725, 1.0]]\n",
      "---------------------------------\n",
      "(0.725, 1.0]           250\n",
      "(0.471, 0.725]         250\n",
      "(0.235, 0.471]         250\n",
      "(-0.0009531, 0.235]    250\n",
      "dtype: int64\n",
      "---------------------------------\n"
     ]
    }
   ],
   "source": [
    "ages = [20,22,25,27,21,23,37,31,61,45,41,32]\n",
    "bins = [18,25,35,60,100]\n",
    "\n",
    "# pd.cut() - 그룹화\n",
    "cats = pd.cut(ages, bins)\n",
    "print(cats)\n",
    "print('---------------------------------')\n",
    "\n",
    "print(cats.codes)\n",
    "print('---------------------------------')\n",
    "\n",
    "print(cats.categories)\n",
    "print('---------------------------------')\n",
    "\n",
    "print(pd.value_counts(cats))\n",
    "print('---------------------------------')\n",
    "\n",
    "# right = False - 중괄호가 포함 / 대괄호가 미포함으로 변경\n",
    "print(pd.cut(ages, [18,26,36,61,100], right = False))\n",
    "print('---------------------------------')\n",
    "\n",
    "# labes - 그룹의 이름\n",
    "group_names = ['youth', 'youngadult', 'middleaged', 'senior']\n",
    "print(pd.cut(ages, bins, labels = group_names))\n",
    "print('---------------------------------')\n",
    "\n",
    "# 그룹의 경곗값이 아닌 개수를 넘겨주면 그룹을 자동 계산\n",
    "data = np.random.rand(20)\n",
    "print(pd.cut(data, 4, precision = 2))\n",
    "print('---------------------------------')\n",
    "\n",
    "# pd.qcut() - 표본 변위치를 기반으로 데이터 분할(분위수 활용)\n",
    "data = np.random.rand(1000)\n",
    "cats = pd.qcut(data, 4) # 4분위로 분류\n",
    "print(cats)\n",
    "print('---------------------------------')\n",
    "\n",
    "print(pd.value_counts(cats))\n",
    "print('---------------------------------')"
   ]
  },
  {
   "cell_type": "markdown",
   "id": "undefined-overall",
   "metadata": {},
   "source": [
    "#### 7.2.6 특이값을 찾고 제외하기"
   ]
  },
  {
   "cell_type": "code",
   "execution_count": 53,
   "id": "varied-quantity",
   "metadata": {},
   "outputs": [
    {
     "name": "stdout",
     "output_type": "stream",
     "text": [
      "                 0            1            2            3\n",
      "count  1000.000000  1000.000000  1000.000000  1000.000000\n",
      "mean      0.009561     0.017899    -0.013613     0.011566\n",
      "std       0.990680     0.992127     1.039184     1.002774\n",
      "min      -2.849769    -2.801580    -3.091318    -3.065822\n",
      "25%      -0.641844    -0.712660    -0.718001    -0.667808\n",
      "50%      -0.009727     0.031695    -0.057747    -0.009239\n",
      "75%       0.695709     0.690168     0.665854     0.695732\n",
      "max       2.899501     3.573844     3.097227     3.235397\n",
      "---------------------------------\n",
      "221    3.097227\n",
      "349   -3.091318\n",
      "600   -3.009794\n",
      "Name: 2, dtype: float64\n",
      "---------------------------------\n",
      "            0         1         2         3\n",
      "129  0.804367  3.573844  0.220773  0.999105\n",
      "221 -1.569531 -1.803283  3.097227  0.285832\n",
      "296  0.587522 -0.236405  0.462325 -3.035230\n",
      "332  0.949534 -0.409344 -0.158304  3.235397\n",
      "349 -0.261726 -0.608174 -3.091318 -2.276671\n",
      "470 -0.288141 -0.805625  0.300146 -3.065822\n",
      "577 -0.083168  3.046086  0.466314 -0.038488\n",
      "600  1.581972  2.235650 -3.009794 -1.469181\n",
      "905  0.017043  3.483820  0.473910 -1.139792\n",
      "---------------------------------\n",
      "                 0            1            2            3\n",
      "count  1000.000000  1000.000000  1000.000000  1000.000000\n",
      "mean      0.009561     0.016795    -0.013609     0.011432\n",
      "std       0.990680     0.988514     1.038602     1.001737\n",
      "min      -2.849769    -2.801580    -3.000000    -3.000000\n",
      "25%      -0.641844    -0.712660    -0.718001    -0.667808\n",
      "50%      -0.009727     0.031695    -0.057747    -0.009239\n",
      "75%       0.695709     0.690168     0.665854     0.695732\n",
      "max       2.899501     3.000000     3.000000     3.000000\n",
      "---------------------------------\n",
      "     0    1    2    3\n",
      "0  1.0 -1.0  1.0  1.0\n",
      "1  1.0  1.0 -1.0  1.0\n",
      "2 -1.0 -1.0  1.0 -1.0\n",
      "3  1.0 -1.0 -1.0 -1.0\n",
      "4  1.0  1.0  1.0 -1.0\n",
      "---------------------------------\n"
     ]
    }
   ],
   "source": [
    "data = pd.DataFrame(np.random.randn(1000, 4))\n",
    "print(data.describe())\n",
    "print('---------------------------------')\n",
    "\n",
    "col = data[2]\n",
    "print(col[np.abs(col) > 3])\n",
    "print('---------------------------------')\n",
    "\n",
    "print(data[(np.abs(data) > 3).any(1)])\n",
    "print('---------------------------------')\n",
    "\n",
    "data[np.abs(data) > 3] = np.sign(data) * 3\n",
    "print(data.describe())\n",
    "print('---------------------------------')\n",
    "\n",
    "# np.sign() - 값의 부호 반환\n",
    "print(np.sign(data).head())\n",
    "print('---------------------------------')"
   ]
  },
  {
   "cell_type": "markdown",
   "id": "spatial-minimum",
   "metadata": {},
   "source": [
    "#### 7.2.7 치환과 임의 샘플링"
   ]
  },
  {
   "cell_type": "code",
   "execution_count": 55,
   "id": "liberal-wales",
   "metadata": {},
   "outputs": [
    {
     "name": "stdout",
     "output_type": "stream",
     "text": [
      "[4 1 0 2 3]\n",
      "---------------------------------\n",
      "    0   1   2   3\n",
      "0   0   1   2   3\n",
      "1   4   5   6   7\n",
      "2   8   9  10  11\n",
      "3  12  13  14  15\n",
      "4  16  17  18  19\n",
      "---------------------------------\n",
      "    0   1   2   3\n",
      "4  16  17  18  19\n",
      "1   4   5   6   7\n",
      "0   0   1   2   3\n",
      "2   8   9  10  11\n",
      "3  12  13  14  15\n",
      "---------------------------------\n",
      "    0   1   2   3\n",
      "1   4   5   6   7\n",
      "0   0   1   2   3\n",
      "3  12  13  14  15\n",
      "---------------------------------\n",
      "3    6\n",
      "4    4\n",
      "3    6\n",
      "1    7\n",
      "0    5\n",
      "1    7\n",
      "3    6\n",
      "0    5\n",
      "1    7\n",
      "0    5\n",
      "dtype: int64\n",
      "---------------------------------\n"
     ]
    }
   ],
   "source": [
    "# numpy.random.permutation() - series / dataframe의 로우를 임의의 순서로 재배치\n",
    "df = pd.DataFrame(np.arange(5*4).reshape(5,4))\n",
    "sampler = np.random.permutation(5)\n",
    "print(sampler)\n",
    "print('---------------------------------')\n",
    "\n",
    "print(df)\n",
    "print('---------------------------------')\n",
    "\n",
    "# take 메서드 - 색인\n",
    "print(df.take(sampler))\n",
    "print('---------------------------------')\n",
    "\n",
    "# sample 메서드 - 치환 없이 일부만 임의로 선택 / replace = True - 복원추출\n",
    "print(df.sample(n=3))\n",
    "print('---------------------------------')\n",
    "\n",
    "choices = pd.Series([5,7,-1,6,4])\n",
    "draws = choices.sample(n=10, replace = True)\n",
    "print(draws)\n",
    "print('---------------------------------')"
   ]
  },
  {
   "cell_type": "markdown",
   "id": "figured-harassment",
   "metadata": {},
   "source": [
    "#### 7.2.8 표시자 / 더미 변수 계산하기"
   ]
  },
  {
   "cell_type": "code",
   "execution_count": 57,
   "id": "strange-recycling",
   "metadata": {},
   "outputs": [
    {
     "name": "stdout",
     "output_type": "stream",
     "text": [
      "   a  b  c\n",
      "0  0  1  0\n",
      "1  0  1  0\n",
      "2  1  0  0\n",
      "3  0  0  1\n",
      "4  1  0  0\n",
      "5  0  1  0\n",
      "---------------------------------\n",
      "   data1  key_a  key_b  key_c\n",
      "0      0      0      1      0\n",
      "1      1      0      1      0\n",
      "2      2      1      0      0\n",
      "3      3      0      0      1\n",
      "4      4      1      0      0\n",
      "5      5      0      1      0\n",
      "---------------------------------\n"
     ]
    }
   ],
   "source": [
    "# pd.get_dummies() - one_hot vector 반환\n",
    "df = pd.DataFrame({'key' : ['b', 'b', 'a', 'c', 'a', 'b'], \n",
    "                  'data1' : range(6)})\n",
    "\n",
    "print(pd.get_dummies(df['key']))\n",
    "print('---------------------------------')\n",
    "\n",
    "# prefix 인자를 통해 접두어 추가 \n",
    "dummies = pd.get_dummies(df['key'], prefix = 'key')\n",
    "df_with_dummy = df[['data1']].join(dummies)\n",
    "print(df_with_dummy)\n",
    "print('---------------------------------')"
   ]
  },
  {
   "cell_type": "code",
   "execution_count": 58,
   "id": "female-fleece",
   "metadata": {},
   "outputs": [
    {
     "name": "stdout",
     "output_type": "stream",
     "text": [
      "[0.92961609 0.31637555 0.18391881 0.20456028 0.56772503 0.5955447\n",
      " 0.96451452 0.6531771  0.74890664 0.65356987]\n",
      "---------------------------------\n",
      "   (0.0, 0.2]  (0.2, 0.4]  (0.4, 0.6]  (0.6, 0.8]  (0.8, 1.0]\n",
      "0           0           0           0           0           1\n",
      "1           0           1           0           0           0\n",
      "2           1           0           0           0           0\n",
      "3           0           1           0           0           0\n",
      "4           0           0           1           0           0\n",
      "5           0           0           1           0           0\n",
      "6           0           0           0           0           1\n",
      "7           0           0           0           1           0\n",
      "8           0           0           0           1           0\n",
      "9           0           0           0           1           0\n",
      "---------------------------------\n"
     ]
    }
   ],
   "source": [
    "np.random.seed(12345)\n",
    "\n",
    "values = np.random.rand(10)\n",
    "\n",
    "print(values)\n",
    "print('---------------------------------')\n",
    "\n",
    "bins = [0,0.2,0.4,0.6,0.8,1]\n",
    "print(pd.get_dummies(pd.cut(values, bins)))\n",
    "print('---------------------------------')"
   ]
  },
  {
   "cell_type": "markdown",
   "id": "infinite-samba",
   "metadata": {},
   "source": [
    "### 7.3 문자열 다루기\n",
    "#### 7.3.1 문자열 객체 메서드"
   ]
  },
  {
   "cell_type": "code",
   "execution_count": 65,
   "id": "republican-essence",
   "metadata": {},
   "outputs": [
    {
     "name": "stdout",
     "output_type": "stream",
     "text": [
      "['a', 'b', ' guido']\n",
      "---------------------------------\n",
      "['a', 'b', 'guido']\n",
      "---------------------------------\n",
      "a::b::guido\n",
      "---------------------------------\n",
      "a::b::guido\n",
      "---------------------------------\n",
      "True\n",
      "---------------------------------\n",
      "1\n",
      "---------------------------------\n",
      "-1\n",
      "---------------------------------\n",
      "2\n",
      "---------------------------------\n",
      "a::b:: guido\n",
      "---------------------------------\n"
     ]
    }
   ],
   "source": [
    "val = 'a,b, guido'\n",
    "\n",
    "# split 메서드 - 특정 구분자를 기준으로 문자열 분리\n",
    "print(val.split(','))\n",
    "print('---------------------------------')\n",
    "\n",
    "# strip 메서드 - 공백문자(줄바꿈 포함) 제거\n",
    "pieces = [x.strip() for x in val.split(',')]\n",
    "print(pieces)\n",
    "print('---------------------------------')\n",
    "\n",
    "first, second, third = pieces\n",
    "print(first + \"::\" + second + \"::\" + third )\n",
    "print('---------------------------------')\n",
    "\n",
    "# join 메서드  - 각 문자들 사이에 추가\n",
    "print('::'.join(pieces))\n",
    "print('---------------------------------')\n",
    "\n",
    "# in 메서드 - 일치하는 부분문자열 찾기 \n",
    "print('guido' in val)\n",
    "print('---------------------------------')\n",
    "\n",
    "# find 메서드는 문자열이 없으면 -1 반환 / index 메서드는 문자열이 없으면 예외 발생\n",
    "print(val.index(','))\n",
    "print('---------------------------------')\n",
    "\n",
    "print(val.find(':'))\n",
    "print('---------------------------------')\n",
    "\n",
    "# count 메서드 - 특정 부분문자열이 몇 건 발견되었는지 반환\n",
    "print(val.count(','))\n",
    "print('---------------------------------')\n",
    "\n",
    "# replace 메서드 - 찾아낸 패턴을 다른 문자열로 치환\n",
    "print(val.replace(',', '::'))\n",
    "print('---------------------------------')"
   ]
  },
  {
   "cell_type": "markdown",
   "id": "excited-jerusalem",
   "metadata": {},
   "source": [
    "#### - 파이썬 내장 문자열 함수 : count(겹치지 않는 부분문자열 개수), endswith(주어진 접미사 일치), startswith(주어진 접두사 일치), join(문자열 구분자로 하여 다른 문자열을 이어 붙임), index(부분문자열의 첫 번째 글자의 위치 반환), find(첫번째 부분문자열의 첫번쨰 글자위치 반환), rfind(마지막 부분문자열의 첫번째 글자 위치 반환), replace(치환), strip/rstrip/lstrip(공백제거), split(분리), lower(소문자 변환), upper(대문자 변환), ljust/rjust(왼쪽, 오른쪽 정렬)"
   ]
  },
  {
   "cell_type": "markdown",
   "id": "prepared-preference",
   "metadata": {},
   "source": [
    "#### 7.3.2 정규 표현식 - 생략 \n",
    "#### - 따로 정리 예정"
   ]
  },
  {
   "cell_type": "markdown",
   "id": "alleged-ireland",
   "metadata": {},
   "source": [
    "#### 7.3.3 pandas의 벡터화된 문자열 함수\n",
    "#### - 벡터화된 문자열 메서드 : cat(문자열 이어 붙임), contains(패턴, 정규 표현식 포함 여부 반환), count(일치하는 패턴 수), extract(문자열이 담긴 series에서 하나 이상의 문자열 추출하기 위해 정규 표현식 이용), endswith(x.endswith 동일), startswith(x.startswith 동일), findall(일치하는 패턴/정규표현식 전체 목록 반환), get(i번째 요소 반환), join(구분자로 연결), len(길이), lower/upper(소문자/대문자), match(주어진 정규 표현식으로 각 요소에 대한 re.match를 수행하여 일치하는 그룹을 리스트로 반환), pad(문자열 좌, 우 혹은 양쪽에 공백 추가), repeat(값 복사), replace(패턴/정규표현식과 일치하는 내용을 다른 문자열로 치환), slice(seires 안에 있는 각 문자열을 자른다), split(정규 표현식 혹은 구분자로 문자열 나눔), strip/lstrip/rstrip(공백 제거)"
   ]
  }
 ],
 "metadata": {
  "kernelspec": {
   "display_name": "Python 3",
   "language": "python",
   "name": "python3"
  },
  "language_info": {
   "codemirror_mode": {
    "name": "ipython",
    "version": 3
   },
   "file_extension": ".py",
   "mimetype": "text/x-python",
   "name": "python",
   "nbconvert_exporter": "python",
   "pygments_lexer": "ipython3",
   "version": "3.6.8"
  }
 },
 "nbformat": 4,
 "nbformat_minor": 5
}
