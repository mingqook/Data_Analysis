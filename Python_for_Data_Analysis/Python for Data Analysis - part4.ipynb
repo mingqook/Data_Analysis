{
 "cells": [
  {
   "cell_type": "markdown",
   "id": "residential-catholic",
   "metadata": {},
   "source": [
    "# Python for Data Analysis - part4"
   ]
  },
  {
   "cell_type": "markdown",
   "id": "american-metabolism",
   "metadata": {},
   "source": [
    "##### Python의 numpy, pandas 등을 정리하였으며 파이썬 라이브러리를 활용한 데이터분석(2판)을 참고하여 작성하였습니다.\n",
    "##### 해당 자료는 python 3.6 기반으로 작성되었습니다."
   ]
  },
  {
   "cell_type": "markdown",
   "id": "matched-baker",
   "metadata": {},
   "source": [
    "## 4. Numpy 기본 : 배열과 벡터 연산\n",
    "#### - Numpy는 파이썬에서 산술 계산을 위한 가장 중요한 필수 패키지 중 하나이다. \n",
    "#### - Numpy는 대용량 데이터 배열을 효율적으로 다룰 수 있게 설계되었다. \n",
    "#### - Numpy는 내부적으로 데이터를 다른 내장 파이썬 객체와 구분된 연속된 메모리 블록에 저장한다. 각종 알고리즘은 모두 C로 작성되어 타입 검사나 다른 오버헤드 없이 메모리를 직접 조작할 수 있다. 또한 내장 파이썬의 연속형 자료형들보다 훨씬 더 적은 메모리를 사용한다. \n",
    "#### - Numpy 연산은 파이썬 반복문을 사용하지 않고 전체 배열에 대한 복잡한 계산을 수행할 수 있다. "
   ]
  },
  {
   "cell_type": "code",
   "execution_count": 20,
   "id": "amateur-liverpool",
   "metadata": {},
   "outputs": [
    {
     "name": "stdout",
     "output_type": "stream",
     "text": [
      "CPU times: user 11.1 ms, sys: 18.2 ms, total: 29.4 ms\n",
      "Wall time: 30.6 ms\n",
      "CPU times: user 428 ms, sys: 89.2 ms, total: 517 ms\n",
      "Wall time: 518 ms\n"
     ]
    }
   ],
   "source": [
    "# numpy 사용 코드가 순수 파이썬 작성 코드보다 열 배에서 백 배 이상 빠르고 메모리를 적게 사용\n",
    "import numpy as np \n",
    "\n",
    "my_arr = np.arange(1000000)\n",
    "my_list = list(range(1000000))\n",
    "\n",
    "%time for _ in range(10) : my_arr2 = my_arr * 2\n",
    "%time for _ in range(10) : my_list2 = [x *2 for x in my_list]"
   ]
  },
  {
   "cell_type": "markdown",
   "id": "bright-marshall",
   "metadata": {},
   "source": [
    "### 4.1 Numpy ndarray : 다차원 배열 객체\n",
    "#### - ndarray는 모두 동일한 자료형의 원소를 필요로 한다."
   ]
  },
  {
   "cell_type": "code",
   "execution_count": 21,
   "id": "banner-thousand",
   "metadata": {},
   "outputs": [
    {
     "name": "stdout",
     "output_type": "stream",
     "text": [
      "[[ 0.48989542  1.27209872  1.21794954]\n",
      " [ 0.05890194  1.07067812 -0.32811885]]\n",
      "--------------------------------\n",
      "[[ 4.8989542  12.72098725 12.17949541]\n",
      " [ 0.58901942 10.70678118 -3.28118854]]\n",
      "--------------------------------\n",
      "[[ 0.97979084  2.54419745  2.43589908]\n",
      " [ 0.11780388  2.14135624 -0.65623771]]\n",
      "--------------------------------\n",
      "(2, 3)\n",
      "--------------------------------\n",
      "float64\n",
      "--------------------------------\n"
     ]
    }
   ],
   "source": [
    "import numpy as np \n",
    "\n",
    "# 임의의 값 생성\n",
    "data = np.random.randn(2,3)\n",
    "print(data)\n",
    "print(\"--------------------------------\")\n",
    "print(data * 10)\n",
    "print(\"--------------------------------\")\n",
    "print(data + data)\n",
    "print(\"--------------------------------\")\n",
    "\n",
    "# shape - 배열의 각 차원 크기 출력\n",
    "print(data.shape)\n",
    "print(\"--------------------------------\")\n",
    "\n",
    "# dtype - 배열의 자료형 출력\n",
    "print(data.dtype)\n",
    "print(\"--------------------------------\")"
   ]
  },
  {
   "cell_type": "markdown",
   "id": "demonstrated-stranger",
   "metadata": {},
   "source": [
    "#### 4.1.1 ndarray 생성하기 "
   ]
  },
  {
   "cell_type": "code",
   "execution_count": 22,
   "id": "native-mustang",
   "metadata": {},
   "outputs": [
    {
     "name": "stdout",
     "output_type": "stream",
     "text": [
      "[6.  7.5 8.  0.  1. ]\n",
      "--------------------------------\n",
      "[[1 2 3 4]\n",
      " [5 6 7 8]]\n",
      "--------------------------------\n",
      "2\n",
      "--------------------------------\n",
      "(2, 4)\n",
      "--------------------------------\n"
     ]
    }
   ],
   "source": [
    "data1 = [6, 7.5, 8, 0, 1]\n",
    "arr1 = np.array(data1)\n",
    "print(arr1)\n",
    "print(\"--------------------------------\")\n",
    "\n",
    "data2 = [[1,2,3,4], [5,6,7,8]]\n",
    "arr2 = np.array(data2)\n",
    "print(arr2)\n",
    "print(\"--------------------------------\")\n",
    "\n",
    "# ndim - ndarray의 차원 수 출력\n",
    "print(arr2.ndim)\n",
    "print(\"--------------------------------\")\n",
    "print(arr2.shape)\n",
    "print(\"--------------------------------\")"
   ]
  },
  {
   "cell_type": "code",
   "execution_count": 23,
   "id": "tough-malpractice",
   "metadata": {},
   "outputs": [
    {
     "name": "stdout",
     "output_type": "stream",
     "text": [
      "[0. 0. 0. 0. 0. 0. 0. 0. 0. 0.]\n",
      "--------------------------------\n",
      "[[1. 1. 1. 1. 1. 1.]\n",
      " [1. 1. 1. 1. 1. 1.]\n",
      " [1. 1. 1. 1. 1. 1.]]\n",
      "--------------------------------\n",
      "[[[-2.31584178e+077 -2.31584178e+077]\n",
      "  [ 5.92878775e-323  0.00000000e+000]\n",
      "  [ 0.00000000e+000  0.00000000e+000]]\n",
      "\n",
      " [[ 0.00000000e+000  0.00000000e+000]\n",
      "  [ 0.00000000e+000  0.00000000e+000]\n",
      "  [ 0.00000000e+000  0.00000000e+000]]]\n",
      "--------------------------------\n",
      "[0 1 2 3 4 5 6 7 8 9]\n",
      "--------------------------------\n"
     ]
    }
   ],
   "source": [
    "# np.zeros() / np.ones() - 주어진 기리나 모양에 0으로 / 1으로 채워진 ndarray 생성\n",
    "print(np.zeros(10))\n",
    "print(\"--------------------------------\")\n",
    "print(np.ones((3,6)))\n",
    "print(\"--------------------------------\")\n",
    "\n",
    "# np.empty() - 초기화 되지 않은 배열 생성 : 가비지 값으로 채워진 배열을 반환\n",
    "print(np.empty((2,3,2)))\n",
    "print(\"--------------------------------\")\n",
    "\n",
    "# np.arange() - 파이썬의 range 함수의 배열 버전\n",
    "print(np.arange(10))\n",
    "print(\"--------------------------------\")"
   ]
  },
  {
   "cell_type": "markdown",
   "id": "stupid-circulation",
   "metadata": {},
   "source": [
    "#### - array : 입력 데이터를 ndarray로 변환, 자료형 입력하지 않으면 자료형을 추론하여 저장\n",
    "#### - asarray : 입력 데이터를 ndarray로 변환하지만 이미 ndarray일 경우 복사가 일어나지 않는다\n",
    "#### - ones_like, zeros_like, empty_like : 주어진 배열과 동일한 모양과 dtype을 가지는 배열을 생성하여 모두 1로 초기화 / 0으로 초기화 / 초기화 하지 않음 \n",
    "#### - full, full_like : 인자로 받은 dtype과 배열의 모양을 가지는 배열을 생성하고 인자로 받은 값으로 배열을 채움\n",
    "#### - eye, identity : N * N 크기의 단위행렬을 생성"
   ]
  },
  {
   "cell_type": "markdown",
   "id": "resistant-glucose",
   "metadata": {},
   "source": [
    "#### 4.1.2 ndarray의 dtype"
   ]
  },
  {
   "cell_type": "code",
   "execution_count": 24,
   "id": "ahead-former",
   "metadata": {},
   "outputs": [
    {
     "name": "stdout",
     "output_type": "stream",
     "text": [
      "float64\n",
      "--------------------------------\n",
      "int32\n",
      "--------------------------------\n"
     ]
    }
   ],
   "source": [
    "arr1 = np.array([1,2,3], dtype = np.float64)\n",
    "arr2 = np.array([1,2,3], dtype = np.int32)\n",
    "\n",
    "print(arr1.dtype)\n",
    "print(\"--------------------------------\")\n",
    "print(arr2.dtype)\n",
    "print(\"--------------------------------\")"
   ]
  },
  {
   "cell_type": "code",
   "execution_count": 25,
   "id": "failing-means",
   "metadata": {},
   "outputs": [
    {
     "name": "stdout",
     "output_type": "stream",
     "text": [
      "int64\n",
      "--------------------------------\n",
      "float64\n",
      "--------------------------------\n",
      "float64\n",
      "--------------------------------\n",
      "[ 1  3 -2]\n",
      "--------------------------------\n",
      "[ 1.23 -9.2  42.  ]\n",
      "--------------------------------\n"
     ]
    }
   ],
   "source": [
    "# astype - 배열의 dtype을 다른 형으로 명시적으로 변환\n",
    "arr = np.array([1,2,3,4,5])\n",
    "print(arr.dtype)\n",
    "print(\"--------------------------------\")\n",
    "float_arr = arr.astype(np.float64)\n",
    "print(float_arr.dtype)\n",
    "print(\"--------------------------------\")\n",
    "\n",
    "arr2 = np.array([1.2,3.123,-2.1])\n",
    "print(arr2.dtype)\n",
    "print(\"--------------------------------\")\n",
    "int_arr2 = arr2.astype(np.int32)\n",
    "print(int_arr2)\n",
    "print(\"--------------------------------\")\n",
    "\n",
    "numeric_string = np.array(['1.23', '-9.2', '42'], dtype = np.string_)\n",
    "print(numeric_string.astype(np.float64))\n",
    "print(\"--------------------------------\")"
   ]
  },
  {
   "cell_type": "markdown",
   "id": "alleged-collapse",
   "metadata": {},
   "source": [
    "#### 4.1.3 Numpy 배열의 산술 연산\n",
    "#### - 벡터화 : for문을 작성하지 않고 데이터를 일괄 처리 / 같은 크기의 배열 간의 산술 연산은 배열의 각 원소 단위로 적용"
   ]
  },
  {
   "cell_type": "code",
   "execution_count": 27,
   "id": "widespread-hamilton",
   "metadata": {},
   "outputs": [
    {
     "name": "stdout",
     "output_type": "stream",
     "text": [
      "[[1. 2. 3.]\n",
      " [4. 5. 6.]]\n",
      "--------------------------------\n",
      "[[ 1.  4.  9.]\n",
      " [16. 25. 36.]]\n",
      "--------------------------------\n",
      "[[0. 0. 0.]\n",
      " [0. 0. 0.]]\n",
      "--------------------------------\n",
      "[[1.         0.5        0.33333333]\n",
      " [0.25       0.2        0.16666667]]\n",
      "--------------------------------\n",
      "[[1.         1.41421356 1.73205081]\n",
      " [2.         2.23606798 2.44948974]]\n",
      "--------------------------------\n",
      "[[ 0.  4.  1.]\n",
      " [ 7.  2. 12.]]\n",
      "--------------------------------\n",
      "[[False  True False]\n",
      " [ True False  True]]\n",
      "--------------------------------\n"
     ]
    }
   ],
   "source": [
    "arr = np.array([[1.,2.,3.], [4.,5.,6.]])\n",
    "print(arr)\n",
    "print(\"--------------------------------\")\n",
    "\n",
    "print(arr * arr)\n",
    "print(\"--------------------------------\")\n",
    "\n",
    "print(arr - arr)\n",
    "print(\"--------------------------------\")\n",
    "\n",
    "print(1 / arr)\n",
    "print(\"--------------------------------\")\n",
    "\n",
    "print(arr ** 0.5)\n",
    "print(\"--------------------------------\")\n",
    "\n",
    "arr2 = np.array([[0., 4., 1.], [7., 2., 12.]])\n",
    "print(arr2)\n",
    "print(\"--------------------------------\")\n",
    "\n",
    "print(arr2 > arr)\n",
    "print(\"--------------------------------\")"
   ]
  },
  {
   "cell_type": "markdown",
   "id": "lucky-sampling",
   "metadata": {},
   "source": [
    "#### - 브로드캐스팅 : 크기가 다른 배열 간의 연산 "
   ]
  },
  {
   "cell_type": "markdown",
   "id": "prerequisite-pickup",
   "metadata": {},
   "source": [
    "#### 4.1.4 색인과 슬라이싱 기초"
   ]
  },
  {
   "cell_type": "code",
   "execution_count": 31,
   "id": "emotional-henry",
   "metadata": {},
   "outputs": [
    {
     "name": "stdout",
     "output_type": "stream",
     "text": [
      "[0 1 2 3 4 5 6 7 8 9]\n",
      "--------------------------------\n",
      "5\n",
      "--------------------------------\n",
      "[5 6 7]\n",
      "--------------------------------\n",
      "[ 0  1  2  3  4 12 12 12  8  9]\n",
      "--------------------------------\n",
      "[12 12 12]\n",
      "--------------------------------\n",
      "[    0     1     2     3     4    12 12345    12     8     9]\n",
      "--------------------------------\n",
      "[1 2]\n",
      "--------------------------------\n",
      "[    0     1     2     3     4    12 12345    12     8     9]\n",
      "--------------------------------\n"
     ]
    }
   ],
   "source": [
    "arr = np.arange(10)\n",
    "\n",
    "print(arr)\n",
    "print(\"--------------------------------\")\n",
    "\n",
    "print(arr[5])\n",
    "print(\"--------------------------------\")\n",
    "\n",
    "print(arr[5:8])\n",
    "print(\"--------------------------------\")\n",
    "\n",
    "arr[5:8] = 12\n",
    "print(arr)\n",
    "print(\"--------------------------------\")\n",
    "\n",
    "# 배열 조각은 원본 배열의 뷰 - 데이터는 복사되지 않고 뷰에 대한 변경은 그대로 원본 배열에 반영\n",
    "arr_slice = arr[5:8]\n",
    "print(arr_slice)\n",
    "print(\"--------------------------------\")\n",
    "\n",
    "arr_slice[1] = 12345\n",
    "print(arr)\n",
    "print(\"--------------------------------\")\n",
    "\n",
    "# copy 메서드 - 뷰 대신 ndarray 슬라이스의 복사본을 얻을 때 사용\n",
    "arr_copy = arr[1:3].copy()\n",
    "print(arr_copy)\n",
    "print(\"--------------------------------\")\n",
    "\n",
    "arr_copy[0] = 34\n",
    "print(arr)\n",
    "print(\"--------------------------------\")"
   ]
  },
  {
   "cell_type": "code",
   "execution_count": 32,
   "id": "chronic-charter",
   "metadata": {},
   "outputs": [
    {
     "name": "stdout",
     "output_type": "stream",
     "text": [
      "[7 8 9]\n",
      "--------------------------------\n",
      "3\n",
      "--------------------------------\n",
      "3\n",
      "--------------------------------\n"
     ]
    }
   ],
   "source": [
    "arr2d = np.array([[1,2,3], [4,5,6], [7,8,9]])\n",
    "print(arr2d[2])\n",
    "print(\"--------------------------------\")\n",
    "\n",
    "print(arr2d[0][2])\n",
    "print(\"--------------------------------\")\n",
    "print(arr2d[0,2])\n",
    "print(\"--------------------------------\")"
   ]
  },
  {
   "cell_type": "markdown",
   "id": "figured-treasury",
   "metadata": {},
   "source": [
    "#### - 다차원 배열의 마지막 색인을 생략하면 반환되는 객체는 상위 차원의 데이터를 포함하고 있는 한 차원 낮은 ndarray"
   ]
  },
  {
   "cell_type": "code",
   "execution_count": 38,
   "id": "affecting-violin",
   "metadata": {},
   "outputs": [
    {
     "name": "stdout",
     "output_type": "stream",
     "text": [
      "[[[ 1  2  3]\n",
      "  [ 4  5  6]]\n",
      "\n",
      " [[ 7  8  9]\n",
      "  [10 11 12]]]\n",
      "--------------------------------\n",
      "[[1 2 3]\n",
      " [4 5 6]]\n",
      "--------------------------------\n",
      "[[[42 42 42]\n",
      "  [42 42 42]]\n",
      "\n",
      " [[ 7  8  9]\n",
      "  [10 11 12]]]\n",
      "--------------------------------\n",
      "[[[ 1  2  3]\n",
      "  [ 4  5  6]]\n",
      "\n",
      " [[ 7  8  9]\n",
      "  [10 11 12]]]\n",
      "--------------------------------\n",
      "[7 8 9]\n",
      "--------------------------------\n",
      "[[ 7  8  9]\n",
      " [10 11 12]]\n",
      "--------------------------------\n",
      "[7 8 9]\n",
      "--------------------------------\n"
     ]
    }
   ],
   "source": [
    "arr3d = np.array([[[1,2,3], [4,5,6]], [[7,8,9], [10,11,12]]])\n",
    "print(arr3d)\n",
    "print(\"--------------------------------\")\n",
    "\n",
    "print(arr3d[0])\n",
    "print(\"--------------------------------\")\n",
    "\n",
    "old_values = arr3d[0].copy()\n",
    "arr3d[0] = 42\n",
    "\n",
    "print(arr3d)\n",
    "print(\"--------------------------------\")\n",
    "\n",
    "arr3d[0] = old_values\n",
    "print(arr3d)\n",
    "print(\"--------------------------------\")\n",
    "\n",
    "print(arr3d[1,0])\n",
    "print(\"--------------------------------\")\n",
    "\n",
    "x = arr3d[1]\n",
    "print(x)\n",
    "print(\"--------------------------------\")\n",
    "print(x[0])\n",
    "print(\"--------------------------------\")"
   ]
  },
  {
   "cell_type": "code",
   "execution_count": 42,
   "id": "religious-questionnaire",
   "metadata": {},
   "outputs": [
    {
     "name": "stdout",
     "output_type": "stream",
     "text": [
      "[ 1  2  3  4 64]\n",
      "--------------------------------\n",
      "[[1 2 3]\n",
      " [4 5 6]]\n",
      "--------------------------------\n",
      "[[2 3]\n",
      " [5 6]]\n",
      "--------------------------------\n",
      "[4 5]\n",
      "--------------------------------\n",
      "[3 6]\n",
      "--------------------------------\n",
      "[[1]\n",
      " [4]\n",
      " [7]]\n",
      "--------------------------------\n"
     ]
    }
   ],
   "source": [
    "arr = np.array([0,1,2,3,4,64,64,8,9])\n",
    "print(arr[1:6])\n",
    "print(\"--------------------------------\")\n",
    "\n",
    "print(arr2d[:2])\n",
    "print(\"--------------------------------\")\n",
    "\n",
    "print(arr2d[:2, 1:])\n",
    "print(\"--------------------------------\")\n",
    "\n",
    "print(arr2d[1, :2])\n",
    "print(\"--------------------------------\")\n",
    "\n",
    "print(arr2d[:2, 2])\n",
    "print(\"--------------------------------\")\n",
    "\n",
    "print(arr2d[:, :1])\n",
    "print(\"--------------------------------\")"
   ]
  },
  {
   "cell_type": "markdown",
   "id": "pursuant-consequence",
   "metadata": {},
   "source": [
    "#### 4.1.5 불리언값으로 선택하기"
   ]
  },
  {
   "cell_type": "code",
   "execution_count": 53,
   "id": "enormous-graham",
   "metadata": {},
   "outputs": [
    {
     "name": "stdout",
     "output_type": "stream",
     "text": [
      "['Bob' 'Joe' 'Will' 'Bob' 'Will' 'Joe' 'Joe']\n",
      "--------------------------------\n",
      "[[-1.37482695 -1.04162447  0.15862974  0.5985341 ]\n",
      " [ 0.49385714  1.47484816 -0.66006392 -1.23195722]\n",
      " [-0.16213556 -0.32878372  0.68723083 -0.98895393]\n",
      " [ 0.26383172 -0.26977137 -0.28745953  0.10086333]\n",
      " [-1.00585968 -1.48705047  0.95226657  0.93294219]\n",
      " [-0.80518306  0.62712864  1.68172793 -0.52480927]\n",
      " [-0.64892237 -0.17858963 -0.16560057  0.86108616]]\n",
      "--------------------------------\n",
      "[ True False False  True False False False]\n",
      "--------------------------------\n",
      "[[-1.37482695 -1.04162447  0.15862974  0.5985341 ]\n",
      " [ 0.26383172 -0.26977137 -0.28745953  0.10086333]]\n",
      "--------------------------------\n",
      "[[ 0.15862974  0.5985341 ]\n",
      " [-0.28745953  0.10086333]]\n",
      "--------------------------------\n",
      "[0.5985341  0.10086333]\n",
      "--------------------------------\n",
      "[[ 0.49385714  1.47484816 -0.66006392 -1.23195722]\n",
      " [-0.16213556 -0.32878372  0.68723083 -0.98895393]\n",
      " [-1.00585968 -1.48705047  0.95226657  0.93294219]\n",
      " [-0.80518306  0.62712864  1.68172793 -0.52480927]\n",
      " [-0.64892237 -0.17858963 -0.16560057  0.86108616]]\n",
      "--------------------------------\n",
      "[ True False  True  True  True False False]\n",
      "--------------------------------\n",
      "[[0.         0.         0.15862974 0.5985341 ]\n",
      " [0.49385714 1.47484816 0.         0.        ]\n",
      " [0.         0.         0.68723083 0.        ]\n",
      " [0.26383172 0.         0.         0.10086333]\n",
      " [0.         0.         0.95226657 0.93294219]\n",
      " [0.         0.62712864 1.68172793 0.        ]\n",
      " [0.         0.         0.         0.86108616]]\n",
      "--------------------------------\n",
      "[[7.         7.         7.         7.        ]\n",
      " [0.49385714 1.47484816 0.         0.        ]\n",
      " [7.         7.         7.         7.        ]\n",
      " [7.         7.         7.         7.        ]\n",
      " [7.         7.         7.         7.        ]\n",
      " [0.         0.62712864 1.68172793 0.        ]\n",
      " [0.         0.         0.         0.86108616]]\n",
      "--------------------------------\n"
     ]
    }
   ],
   "source": [
    "names = np.array(['Bob', 'Joe', 'Will', 'Bob', 'Will', 'Joe', 'Joe'])\n",
    "data = np.random.randn(7,4)\n",
    "\n",
    "print(names)\n",
    "print(\"--------------------------------\")\n",
    "\n",
    "print(data)\n",
    "print(\"--------------------------------\")\n",
    "\n",
    "print(names == 'Bob')\n",
    "print(\"--------------------------------\")\n",
    "\n",
    "print(data[names == 'Bob'])\n",
    "print(\"--------------------------------\")\n",
    "\n",
    "print(data[names == 'Bob', 2:])\n",
    "print(\"--------------------------------\")\n",
    "\n",
    "print(data[names == 'Bob', 3])\n",
    "print(\"--------------------------------\")\n",
    "\n",
    "print(data[names != 'Bob'])\n",
    "print(\"--------------------------------\")\n",
    "\n",
    "# 파이썬 예약어인 and와 or는 배열에서 사용할 수 없다.\n",
    "mask = (names == 'Bob') | (names == 'Will')\n",
    "print(mask)\n",
    "print(\"--------------------------------\")\n",
    "\n",
    "data[data <0] = 0\n",
    "print(data)\n",
    "print(\"--------------------------------\")\n",
    "\n",
    "data[names!='Joe'] = 7\n",
    "print(data)\n",
    "print(\"--------------------------------\")"
   ]
  },
  {
   "cell_type": "markdown",
   "id": "handy-arena",
   "metadata": {},
   "source": [
    "#### 4.1.6 팬시 색인"
   ]
  },
  {
   "cell_type": "code",
   "execution_count": 56,
   "id": "freelance-reaction",
   "metadata": {},
   "outputs": [
    {
     "name": "stdout",
     "output_type": "stream",
     "text": [
      "[[0. 0. 0. 0.]\n",
      " [1. 1. 1. 1.]\n",
      " [2. 2. 2. 2.]\n",
      " [3. 3. 3. 3.]\n",
      " [4. 4. 4. 4.]\n",
      " [5. 5. 5. 5.]\n",
      " [6. 6. 6. 6.]\n",
      " [7. 7. 7. 7.]]\n",
      "--------------------------------\n",
      "[[4. 4. 4. 4.]\n",
      " [3. 3. 3. 3.]\n",
      " [0. 0. 0. 0.]\n",
      " [6. 6. 6. 6.]]\n",
      "--------------------------------\n",
      "[[5. 5. 5. 5.]\n",
      " [3. 3. 3. 3.]\n",
      " [1. 1. 1. 1.]]\n",
      "--------------------------------\n"
     ]
    }
   ],
   "source": [
    "arr = np.empty((8,4))\n",
    "\n",
    "for i in range(8):\n",
    "    arr[i] = i\n",
    "    \n",
    "print(arr)\n",
    "print(\"--------------------------------\")\n",
    "\n",
    "print(arr[[4,3,0,6]])\n",
    "print(\"--------------------------------\")\n",
    "\n",
    "print(arr[[-3,-5,-7]])\n",
    "print(\"--------------------------------\")"
   ]
  },
  {
   "cell_type": "code",
   "execution_count": 59,
   "id": "happy-grocery",
   "metadata": {},
   "outputs": [
    {
     "name": "stdout",
     "output_type": "stream",
     "text": [
      "[[ 0  1  2  3]\n",
      " [ 4  5  6  7]\n",
      " [ 8  9 10 11]\n",
      " [12 13 14 15]\n",
      " [16 17 18 19]\n",
      " [20 21 22 23]\n",
      " [24 25 26 27]\n",
      " [28 29 30 31]]\n",
      "--------------------------------\n",
      "[ 4 23 29 10]\n",
      "--------------------------------\n",
      "[[ 4  7  5  6]\n",
      " [20 23 21 22]\n",
      " [28 31 29 30]\n",
      " [ 8 11  9 10]]\n"
     ]
    }
   ],
   "source": [
    "arr = np.arange(32).reshape((8,4))\n",
    "print(arr)\n",
    "print(\"--------------------------------\")\n",
    "\n",
    "# 팬시 색인의 결과는 항상 1차원이다\n",
    "print(arr[[1,5,7,2], [0,3,1,2]])\n",
    "print(\"--------------------------------\")\n",
    "\n",
    "print(arr[[1,5,7,2]][:,[0,3,1,2]])"
   ]
  },
  {
   "cell_type": "markdown",
   "id": "direct-logging",
   "metadata": {},
   "source": [
    "#### 4.1.7 배열 전치와 축 바꾸기"
   ]
  },
  {
   "cell_type": "code",
   "execution_count": 61,
   "id": "coated-contact",
   "metadata": {},
   "outputs": [
    {
     "name": "stdout",
     "output_type": "stream",
     "text": [
      "[[ 0  1  2  3  4]\n",
      " [ 5  6  7  8  9]\n",
      " [10 11 12 13 14]]\n",
      "--------------------------------\n",
      "[[ 0  5 10]\n",
      " [ 1  6 11]\n",
      " [ 2  7 12]\n",
      " [ 3  8 13]\n",
      " [ 4  9 14]]\n",
      "--------------------------------\n",
      "[[ 30  80 130]\n",
      " [ 80 255 430]\n",
      " [130 430 730]]\n",
      "--------------------------------\n"
     ]
    }
   ],
   "source": [
    "arr = np.arange(15).reshape((3,5))\n",
    "print(arr)\n",
    "print(\"--------------------------------\")\n",
    "\n",
    "print(arr.T)\n",
    "print(\"--------------------------------\")\n",
    "\n",
    "# np.dot - 행렬의 내적\n",
    "print(np.dot(arr, arr.T))\n",
    "print(\"--------------------------------\")"
   ]
  },
  {
   "cell_type": "code",
   "execution_count": 63,
   "id": "stopped-fleece",
   "metadata": {},
   "outputs": [
    {
     "name": "stdout",
     "output_type": "stream",
     "text": [
      "[[[ 0  1  2  3]\n",
      "  [ 4  5  6  7]]\n",
      "\n",
      " [[ 8  9 10 11]\n",
      "  [12 13 14 15]]]\n",
      "--------------------------------\n",
      "[[[ 0  1  2  3]\n",
      "  [ 8  9 10 11]]\n",
      "\n",
      " [[ 4  5  6  7]\n",
      "  [12 13 14 15]]]\n",
      "--------------------------------\n",
      "[[[ 0  4]\n",
      "  [ 1  5]\n",
      "  [ 2  6]\n",
      "  [ 3  7]]\n",
      "\n",
      " [[ 8 12]\n",
      "  [ 9 13]\n",
      "  [10 14]\n",
      "  [11 15]]]\n",
      "--------------------------------\n"
     ]
    }
   ],
   "source": [
    "# 다차원 배열의 transpose - 튜플로 축 번호를 받아서 치환\n",
    "arr = np.arange(16).reshape((2,2,4))\n",
    "print(arr)\n",
    "print(\"--------------------------------\")\n",
    "\n",
    "print(arr.transpose((1,0,2)))\n",
    "print(\"--------------------------------\")\n",
    "\n",
    "# np.swapaxes() - 두 개의 축 번호를 받아서 배열을 뒤바꿈\n",
    "print(arr.swapaxes(1,2))\n",
    "print(\"--------------------------------\")"
   ]
  },
  {
   "cell_type": "markdown",
   "id": "designing-blogger",
   "metadata": {},
   "source": [
    "### 4.2 유니버셜 함수 : 배열의 각 원소를 빠르게 처리하는 함수\n",
    "#### - ufunc라고 불리기도 하는 유니버설 함수는 ndarray 안에 있는 데이터 원소별로 연산을 수행하는 함수"
   ]
  },
  {
   "cell_type": "code",
   "execution_count": 64,
   "id": "fixed-duration",
   "metadata": {},
   "outputs": [
    {
     "name": "stdout",
     "output_type": "stream",
     "text": [
      "[0 1 2 3 4 5 6 7 8 9]\n",
      "--------------------------------\n",
      "[0.         1.         1.41421356 1.73205081 2.         2.23606798\n",
      " 2.44948974 2.64575131 2.82842712 3.        ]\n",
      "--------------------------------\n",
      "[1.00000000e+00 2.71828183e+00 7.38905610e+00 2.00855369e+01\n",
      " 5.45981500e+01 1.48413159e+02 4.03428793e+02 1.09663316e+03\n",
      " 2.98095799e+03 8.10308393e+03]\n",
      "--------------------------------\n"
     ]
    }
   ],
   "source": [
    "# 단항 유니버셜 함수 - 인자 1개만 취함\n",
    "arr = np.arange(10)\n",
    "print(arr)\n",
    "print(\"--------------------------------\")\n",
    "\n",
    "print(np.sqrt(arr))\n",
    "print(\"--------------------------------\")\n",
    "\n",
    "print(np.exp(arr))\n",
    "print(\"--------------------------------\")"
   ]
  },
  {
   "cell_type": "code",
   "execution_count": 65,
   "id": "right-xerox",
   "metadata": {},
   "outputs": [
    {
     "name": "stdout",
     "output_type": "stream",
     "text": [
      "[ 1.10037716  0.78970623 -0.32850833  1.06942264 -0.72024609 -0.11810377\n",
      "  1.33151857 -2.02248337]\n",
      "--------------------------------\n",
      "[-1.08409887 -1.13203122 -1.26769745 -0.77176368  0.7969926   0.39790324\n",
      "  0.1235687  -0.07406198]\n",
      "--------------------------------\n",
      "--------------------------------\n"
     ]
    }
   ],
   "source": [
    "# 이항 유니버셜 함수 - 인자 2개 취함\n",
    "x = np.random.randn(8)\n",
    "y = np.random.randn(8)\n",
    "\n",
    "print(x)\n",
    "print(\"--------------------------------\")\n",
    "print(y)\n",
    "print(\"--------------------------------\")\n",
    "\n",
    "# np.maximum() - 둘 중에 큰 값 출력\n",
    "np.maximum(x,y)\n",
    "print(\"--------------------------------\")"
   ]
  },
  {
   "cell_type": "code",
   "execution_count": 66,
   "id": "roman-mouth",
   "metadata": {},
   "outputs": [
    {
     "name": "stdout",
     "output_type": "stream",
     "text": [
      "[-4.73541391  6.04442323  2.98836268 -2.77195039 -1.41663259 -1.38878957\n",
      "  5.79983308]\n",
      "--------------------------------\n",
      "[-0.73541391  0.04442323  0.98836268 -0.77195039 -0.41663259 -0.38878957\n",
      "  0.79983308]\n",
      "--------------------------------\n",
      "[-4.  6.  2. -2. -1. -1.  5.]\n",
      "--------------------------------\n"
     ]
    }
   ],
   "source": [
    "arr = np.random.randn(7) * 5\n",
    "print(arr)\n",
    "print(\"--------------------------------\")\n",
    "\n",
    "# np.modf() - 파이썬 내장함수인 divmod의 벡터화 버전 : 분수를 받아서 몫과 나머지를 함께 반환\n",
    "remainder , whole_part = np.modf(arr)\n",
    "\n",
    "print(remainder)\n",
    "print(\"--------------------------------\")\n",
    "print(whole_part)\n",
    "print(\"--------------------------------\")"
   ]
  },
  {
   "cell_type": "markdown",
   "id": "unsigned-paris",
   "metadata": {},
   "source": [
    "#### - 단항 유니버셜 함수 : abs, sqrt, square, exp, log, sign, ceil, floor, modf, isnan, isfinite, isinf, cos, sin, tan\n",
    "#### - 이항 유니버셜 함수 : add, subtract, multiply, divide, power, maximum, minimum, famx(nan 무시), fmin(nan 무시), mod, copysign, logical_and, logical_or, equal"
   ]
  },
  {
   "cell_type": "markdown",
   "id": "martial-cleaner",
   "metadata": {},
   "source": [
    "### 4.3 배열을 이용한 배열지향 프로그래밍"
   ]
  },
  {
   "cell_type": "code",
   "execution_count": 69,
   "id": "whole-aircraft",
   "metadata": {},
   "outputs": [
    {
     "name": "stdout",
     "output_type": "stream",
     "text": [
      "[[-5.   -5.   -5.   ... -5.   -5.   -5.  ]\n",
      " [-4.99 -4.99 -4.99 ... -4.99 -4.99 -4.99]\n",
      " [-4.98 -4.98 -4.98 ... -4.98 -4.98 -4.98]\n",
      " ...\n",
      " [ 4.97  4.97  4.97 ...  4.97  4.97  4.97]\n",
      " [ 4.98  4.98  4.98 ...  4.98  4.98  4.98]\n",
      " [ 4.99  4.99  4.99 ...  4.99  4.99  4.99]]\n",
      "--------------------------------\n",
      "[[7.07106781 7.06400028 7.05693985 ... 7.04988652 7.05693985 7.06400028]\n",
      " [7.06400028 7.05692568 7.04985815 ... 7.04279774 7.04985815 7.05692568]\n",
      " [7.05693985 7.04985815 7.04278354 ... 7.03571603 7.04278354 7.04985815]\n",
      " ...\n",
      " [7.04988652 7.04279774 7.03571603 ... 7.0286414  7.03571603 7.04279774]\n",
      " [7.05693985 7.04985815 7.04278354 ... 7.03571603 7.04278354 7.04985815]\n",
      " [7.06400028 7.05692568 7.04985815 ... 7.04279774 7.04985815 7.05692568]]\n",
      "--------------------------------\n"
     ]
    },
    {
     "data": {
      "text/plain": [
       "<matplotlib.colorbar.Colorbar at 0x7f9fde1e2c18>"
      ]
     },
     "execution_count": 69,
     "metadata": {},
     "output_type": "execute_result"
    },
    {
     "data": {
      "image/png": "[encoded data removed]",
      "text/plain": [
       "<Figure size 432x288 with 2 Axes>"
      ]
     },
     "metadata": {
      "needs_background": "light"
     },
     "output_type": "display_data"
    }
   ],
   "source": [
    "# np.meshgrid() - 두 개의 1차원 배열을 받아서 가능한 모든 짝을 만들 수 있는 2차원 배열 두 개를 반환\n",
    "points = np.arange(-5, 5, 0.01)\n",
    "\n",
    "xs, ys = np.meshgrid(points, points)\n",
    "\n",
    "print(ys)\n",
    "print(\"--------------------------------\")\n",
    "\n",
    "z = np.sqrt(xs **2 + ys **2)\n",
    "print(z)\n",
    "print(\"--------------------------------\")\n",
    "\n",
    "import matplotlib.pyplot as plt\n",
    "plt.imshow(z, cmap = plt.cm.gray)\n",
    "plt.colorbar()"
   ]
  },
  {
   "cell_type": "markdown",
   "id": "humanitarian-dinner",
   "metadata": {},
   "source": [
    "#### 4.3.1 배열 연산으로 조건절 표현하기"
   ]
  },
  {
   "cell_type": "code",
   "execution_count": 71,
   "id": "acquired-colleague",
   "metadata": {},
   "outputs": [
    {
     "name": "stdout",
     "output_type": "stream",
     "text": [
      "[1.1, 2.2, 1.3, 1.4, 2.5]\n",
      "--------------------------------\n",
      "[1.1 2.2 1.3 1.4 2.5]\n",
      "--------------------------------\n"
     ]
    }
   ],
   "source": [
    "# np.where() - if 조건절의 벡터화 버전\n",
    "xarr = np.array([1.1,1.2,1.3,1.4,1.5])\n",
    "yarr = np.array([2.1,2.2,2.3,2.4,2.5])\n",
    "cond = np.array([True, False, True, True, False])\n",
    "\n",
    "result = [(x if c else y) for x,y,c in zip(xarr, yarr, cond)]\n",
    "print(result)\n",
    "print(\"--------------------------------\")\n",
    "\n",
    "result = np.where(cond, xarr, yarr)\n",
    "print(result)\n",
    "print(\"--------------------------------\")"
   ]
  },
  {
   "cell_type": "code",
   "execution_count": 73,
   "id": "welsh-timber",
   "metadata": {},
   "outputs": [
    {
     "name": "stdout",
     "output_type": "stream",
     "text": [
      "[[ 1.38658575  1.1397328   0.2463037  -1.04695318]\n",
      " [ 1.18516965 -0.22497247 -0.58548047 -0.90575325]\n",
      " [-0.19192205  0.3809525  -1.42424136  0.06872224]\n",
      " [ 1.59538626 -0.26795864  1.35720299 -2.11496628]]\n",
      "--------------------------------\n",
      "[[ True  True  True False]\n",
      " [ True False False False]\n",
      " [False  True False  True]\n",
      " [ True False  True False]]\n",
      "--------------------------------\n",
      "[[ 2  2  2 -2]\n",
      " [ 2 -2 -2 -2]\n",
      " [-2  2 -2  2]\n",
      " [ 2 -2  2 -2]]\n",
      "--------------------------------\n",
      "[[ 2.          2.          2.         -1.04695318]\n",
      " [ 2.         -0.22497247 -0.58548047 -0.90575325]\n",
      " [-0.19192205  2.         -1.42424136  2.        ]\n",
      " [ 2.         -0.26795864  2.         -2.11496628]]\n",
      "--------------------------------\n"
     ]
    }
   ],
   "source": [
    "arr = np.random.randn(4,4)\n",
    "\n",
    "print(arr)\n",
    "print(\"--------------------------------\")\n",
    "\n",
    "print(arr >0)\n",
    "print(\"--------------------------------\")\n",
    "\n",
    "print(np.where(arr > 0, 2, -2))\n",
    "print(\"--------------------------------\")\n",
    "\n",
    "print(np.where(arr > 0, 2, arr))\n",
    "print(\"--------------------------------\")"
   ]
  },
  {
   "cell_type": "markdown",
   "id": "distinct-appeal",
   "metadata": {},
   "source": [
    "#### 4.3.2 수학 메서드와 통계 메서드"
   ]
  },
  {
   "cell_type": "code",
   "execution_count": 76,
   "id": "sweet-midwest",
   "metadata": {},
   "outputs": [
    {
     "name": "stdout",
     "output_type": "stream",
     "text": [
      "[[ 0.6543406   1.35575314  0.94894009 -0.36601707]\n",
      " [ 2.18808696  3.11066849  0.0471504  -0.16874865]\n",
      " [-0.08176295  0.43817695 -0.75107048 -0.68862831]\n",
      " [-1.09325582 -0.53008563  1.14782082  0.44859403]\n",
      " [ 1.10152876  2.04206708 -0.7407726  -0.67241665]]\n",
      "--------------------------------\n",
      "0.4195184577940722\n",
      "--------------------------------\n",
      "0.4195184577940722\n",
      "--------------------------------\n",
      "8.390369155881444\n",
      "--------------------------------\n",
      "[ 0.64825419  1.2942893  -0.2708212  -0.00673165  0.43260164]\n",
      "--------------------------------\n",
      "[ 2.76893755  6.41658003  0.65206822 -1.44721665]\n",
      "--------------------------------\n"
     ]
    }
   ],
   "source": [
    "arr = np.random.randn(5,4)\n",
    "\n",
    "print(arr)\n",
    "print(\"--------------------------------\")\n",
    "\n",
    "print(arr.mean())\n",
    "print(\"--------------------------------\")\n",
    "\n",
    "print(np.mean(arr))\n",
    "print(\"--------------------------------\")\n",
    "\n",
    "print(arr.sum())\n",
    "print(\"--------------------------------\")\n",
    "\n",
    "# axis = 1 - 모든 컬럼의 평균\n",
    "print(arr.mean(axis = 1))\n",
    "print(\"--------------------------------\")\n",
    "\n",
    "# axis = 0 - 모든 컬럼의 합\n",
    "print(arr.sum(axis = 0))\n",
    "print(\"--------------------------------\")"
   ]
  },
  {
   "cell_type": "code",
   "execution_count": 77,
   "id": "satellite-adoption",
   "metadata": {},
   "outputs": [
    {
     "name": "stdout",
     "output_type": "stream",
     "text": [
      "[ 0  1  3  6 10 15 21 28]\n",
      "--------------------------------\n"
     ]
    }
   ],
   "source": [
    "arr = np.array([0,1,2,3,4,5,6,7])\n",
    "\n",
    "# cumsum() - 중간 계산값을 담고 있는 배열 반환 : 누적합\n",
    "print(arr.cumsum())\n",
    "print(\"--------------------------------\")"
   ]
  },
  {
   "cell_type": "code",
   "execution_count": 78,
   "id": "ideal-voltage",
   "metadata": {},
   "outputs": [
    {
     "name": "stdout",
     "output_type": "stream",
     "text": [
      "[[0 1 2]\n",
      " [3 4 5]\n",
      " [6 7 8]]\n",
      "--------------------------------\n",
      "[[ 0  1  2]\n",
      " [ 3  5  7]\n",
      " [ 9 12 15]]\n",
      "--------------------------------\n",
      "[[  0   0   0]\n",
      " [  3  12  60]\n",
      " [  6  42 336]]\n",
      "--------------------------------\n"
     ]
    }
   ],
   "source": [
    "arr = np.array([[0,1,2], [3,4,5], [6,7,8]])\n",
    "\n",
    "print(arr)\n",
    "print(\"--------------------------------\")\n",
    "\n",
    "print(arr.cumsum(axis = 0))\n",
    "print(\"--------------------------------\")\n",
    "\n",
    "print(arr.cumprod(axis = 1))\n",
    "print(\"--------------------------------\")"
   ]
  },
  {
   "cell_type": "markdown",
   "id": "turkish-football",
   "metadata": {},
   "source": [
    "#### - 기본 배열 통계 메서드 : sum, mean, std, var, min, max, argmin(최소 원소의 인덱스 값), argmax(최대 원소의 인덱스 값), cumsum, cumprod"
   ]
  },
  {
   "cell_type": "markdown",
   "id": "thousand-nepal",
   "metadata": {},
   "source": [
    "#### 4.3.3 불리언 배열을 위한 메서드"
   ]
  },
  {
   "cell_type": "code",
   "execution_count": 80,
   "id": "likely-stand",
   "metadata": {},
   "outputs": [
    {
     "name": "stdout",
     "output_type": "stream",
     "text": [
      "55\n",
      "--------------------------------\n",
      "True\n",
      "--------------------------------\n",
      "False\n",
      "--------------------------------\n"
     ]
    }
   ],
   "source": [
    "arr = np.random.randn(100)\n",
    "\n",
    "print((arr > 0).sum()) # 양수인 원소의 개수\n",
    "print(\"--------------------------------\")\n",
    "\n",
    "bools = np.array([False, False, True, True])\n",
    "\n",
    "# any() / all() - 하나 이상의 값이 True면 True / 모든 원소가 True면 True\n",
    "print(bools.any())\n",
    "print(\"--------------------------------\")\n",
    "print(bools.all())\n",
    "print(\"--------------------------------\")"
   ]
  },
  {
   "cell_type": "markdown",
   "id": "expressed-hotel",
   "metadata": {},
   "source": [
    "#### 4.3.4 정렬"
   ]
  },
  {
   "cell_type": "code",
   "execution_count": 82,
   "id": "neutral-collaboration",
   "metadata": {},
   "outputs": [
    {
     "name": "stdout",
     "output_type": "stream",
     "text": [
      "[-0.23008418  0.14891154  0.64743546  0.94507127 -0.39218473  2.30557467]\n",
      "--------------------------------\n",
      "[-0.39218473 -0.23008418  0.14891154  0.64743546  0.94507127  2.30557467]\n",
      "--------------------------------\n"
     ]
    }
   ],
   "source": [
    "# sort 메서드 - 배열을 직접 변경\n",
    "arr = np.random.randn(6)\n",
    "\n",
    "print(arr)\n",
    "print(\"--------------------------------\")\n",
    "\n",
    "arr.sort()\n",
    "print(arr)\n",
    "print(\"--------------------------------\")"
   ]
  },
  {
   "cell_type": "code",
   "execution_count": 83,
   "id": "collect-television",
   "metadata": {},
   "outputs": [
    {
     "name": "stdout",
     "output_type": "stream",
     "text": [
      "[[-0.62080214 -0.6797121  -0.34655737]\n",
      " [-0.52929323  2.30210711 -0.06031248]\n",
      " [ 0.15286685 -1.14098118 -0.97065274]\n",
      " [ 1.25035248 -0.48784793 -1.64508188]\n",
      " [-0.04590166  0.76433578  1.69858079]]\n",
      "--------------------------------\n",
      "[[-0.6797121  -0.62080214 -0.34655737]\n",
      " [-0.52929323 -0.06031248  2.30210711]\n",
      " [-1.14098118 -0.97065274  0.15286685]\n",
      " [-1.64508188 -0.48784793  1.25035248]\n",
      " [-0.04590166  0.76433578  1.69858079]]\n",
      "--------------------------------\n"
     ]
    }
   ],
   "source": [
    "arr = np.random.randn(5,3)\n",
    "print(arr)\n",
    "print(\"--------------------------------\")\n",
    "\n",
    "arr.sort(1)\n",
    "print(arr)\n",
    "print(\"--------------------------------\")"
   ]
  },
  {
   "cell_type": "code",
   "execution_count": 84,
   "id": "distributed-former",
   "metadata": {},
   "outputs": [
    {
     "name": "stdout",
     "output_type": "stream",
     "text": [
      "-1.6520851309677151\n",
      "--------------------------------\n"
     ]
    }
   ],
   "source": [
    "# np.sort() - 배열을 직접 변경하지 않고 정렬된 결과를 가지고 있는 복사본을 반환\n",
    "large_arr = np.random.randn(1000)\n",
    "\n",
    "large_arr.sort()\n",
    "print(large_arr[int(0.05 * len(large_arr))]) # 5% 분위수\n",
    "print(\"--------------------------------\")"
   ]
  },
  {
   "cell_type": "markdown",
   "id": "advance-satisfaction",
   "metadata": {},
   "source": [
    "#### 4.3.5 집합 관련 함수"
   ]
  },
  {
   "cell_type": "code",
   "execution_count": 88,
   "id": "coated-suspension",
   "metadata": {},
   "outputs": [
    {
     "name": "stdout",
     "output_type": "stream",
     "text": [
      "['Bob' 'Joe' 'Will']\n",
      "--------------------------------\n",
      "[1 2 3 4]\n",
      "--------------------------------\n",
      "[ True False False  True  True False  True]\n",
      "--------------------------------\n"
     ]
    }
   ],
   "source": [
    "# np.unique() - 중복된 원소 제거 후 남은 원소 정렬된 형태로 반환\n",
    "names = np.array(['Bob', 'Joe', 'Will', 'Bob', 'Will', 'Joe', 'Joe'])\n",
    "\n",
    "print(np.unique(names))\n",
    "print(\"--------------------------------\")\n",
    "\n",
    "ints = np.array([3,3,3,2,2,1,1,4,4])\n",
    "\n",
    "print(np.unique(ints))\n",
    "print(\"--------------------------------\")\n",
    "\n",
    "# np.in1d() - 두 개의 배열을 인자로 받아서 첫 번째 배열의 원소가 두 번째 배열의 원소를 포함하는지 나타내는 불리언 배열을 반환\n",
    "values = np.array([6,0,0,3,2,5,6])\n",
    "print(np.in1d(values, [2,3,6]))\n",
    "print(\"--------------------------------\")"
   ]
  },
  {
   "cell_type": "markdown",
   "id": "figured-alloy",
   "metadata": {},
   "source": [
    "#### - numpy 집합 함수 : unique, intersect1d, union1d, in1d, setdiff1d, setxor1d"
   ]
  },
  {
   "cell_type": "markdown",
   "id": "determined-endorsement",
   "metadata": {},
   "source": [
    "### 4.4 배열 데이터의 파일 입출력"
   ]
  },
  {
   "cell_type": "code",
   "execution_count": null,
   "id": "arctic-empire",
   "metadata": {},
   "outputs": [],
   "source": [
    "# np.save / np.load - 배열 데이터를 저장 / 불러오기\n",
    "arr = np.arange(10)\n",
    "np.save('some_array', arr)\n",
    "\n",
    "np.load('some_array.npy')\n",
    "\n",
    "# np.savez - 여러 개의 배열을 압축된 형식으로 저장\n",
    "np.savez('array_achive.npz', a = arr, b = arr)\n",
    "\n",
    "# np.savez_compressed - 압축이 잘되는 형식 저장\n",
    "np.savez_compressed('arrays_compreesed.npz', a =arr, b = arr)"
   ]
  },
  {
   "cell_type": "markdown",
   "id": "third-microwave",
   "metadata": {},
   "source": [
    "### 4.5 선형대수\n",
    "#### - (*)는 행렬 곱셈이 아닌 대응하는 각각의 원소의곱을 계산 / 행렬 곱셈은 배열 메서드이자 numpy 네임스페이스의 dot 함수 사용"
   ]
  },
  {
   "cell_type": "code",
   "execution_count": 94,
   "id": "guilty-throw",
   "metadata": {},
   "outputs": [
    {
     "name": "stdout",
     "output_type": "stream",
     "text": [
      "[[1 2 3]\n",
      " [4 5 6]]\n",
      "--------------------------------\n",
      "[[ 6 23]\n",
      " [-1  7]\n",
      " [ 8  9]]\n",
      "--------------------------------\n",
      "[[ 28  64]\n",
      " [ 67 181]]\n",
      "--------------------------------\n",
      "[[ 28  64]\n",
      " [ 67 181]]\n",
      "--------------------------------\n",
      "[ 6. 15.]\n",
      "--------------------------------\n"
     ]
    }
   ],
   "source": [
    "x = np.array([[1,2,3], [4,5,6]])\n",
    "y = np.array([[6,23], [-1,7], [8,9]])\n",
    "\n",
    "print(x)\n",
    "print(\"--------------------------------\")\n",
    "\n",
    "print(y)\n",
    "print(\"--------------------------------\")\n",
    "\n",
    "print(x.dot(y))\n",
    "print(\"--------------------------------\")\n",
    "\n",
    "# x.dot(y) = np.dot(x,y)\n",
    "print(np.dot(x,y))\n",
    "print(\"--------------------------------\")\n",
    "\n",
    "# python 3.5 이상 - @는 행렬 곱셈\n",
    "print(x @ np.ones(3))\n",
    "print(\"--------------------------------\")"
   ]
  },
  {
   "cell_type": "code",
   "execution_count": 95,
   "id": "measured-denver",
   "metadata": {},
   "outputs": [
    {
     "name": "stdout",
     "output_type": "stream",
     "text": [
      "[[11.88771762  1.57586033  1.28459704  3.54522299 -1.54211289]\n",
      " [ 1.57586033  0.31270706  0.1588584   0.47253458 -0.22279351]\n",
      " [ 1.28459704  0.1588584   0.57732762  0.63863447 -0.24478339]\n",
      " [ 3.54522299  0.47253458  0.63863447  1.69683616 -0.48708415]\n",
      " [-1.54211289 -0.22279351 -0.24478339 -0.48708415  0.3918333 ]]\n",
      "--------------------------------\n",
      "[[ 1.00000000e+00 -6.93889390e-17 -1.11022302e-16 -3.33066907e-16\n",
      "   1.11022302e-16]\n",
      " [ 2.22044605e-16  1.00000000e+00  1.11022302e-16  4.44089210e-16\n",
      "   0.00000000e+00]\n",
      " [-8.88178420e-16  0.00000000e+00  1.00000000e+00  4.44089210e-16\n",
      "   5.55111512e-17]\n",
      " [ 2.77555756e-15  2.42861287e-16  9.71445147e-17  1.00000000e+00\n",
      "  -4.44089210e-16]\n",
      " [-1.77635684e-15  2.22044605e-16  4.44089210e-16  0.00000000e+00\n",
      "   1.00000000e+00]]\n",
      "--------------------------------\n",
      "[[-1.43656055  7.80112731 -0.62800953  0.81627665 -1.55039736]\n",
      " [ 0.         -6.36065123 -2.25429978  1.50697947 -4.7881498 ]\n",
      " [ 0.          0.         -2.88763984  1.08539158 -0.0290931 ]\n",
      " [ 0.          0.          0.         -1.40617095 -3.29557831]\n",
      " [ 0.          0.          0.          0.          0.58941404]]\n",
      "--------------------------------\n"
     ]
    }
   ],
   "source": [
    "# numpy.linalg - 행렬의 분할, 역행렬, 행렬식 등 포함\n",
    "from numpy.linalg import inv, qr\n",
    "\n",
    "X = np.random.randn(5,5)\n",
    "mat = X.T.dot(X)\n",
    "\n",
    "print(inv(mat))\n",
    "print(\"--------------------------------\")\n",
    "\n",
    "print(mat.dot(inv(mat)))\n",
    "print(\"--------------------------------\")\n",
    "\n",
    "q, r = qr(mat)\n",
    "print(r)\n",
    "print(\"--------------------------------\")"
   ]
  },
  {
   "cell_type": "markdown",
   "id": "increased-software",
   "metadata": {},
   "source": [
    "#### - numpy.linalg 함수 : diag(정사각 행렬의 대각 원소를 1차원 배열로 반환), dot(행렬 곱), trace(대각 원소 합), det(행렬식), eig(고유값, 고유벡트), inv(역행렬), pinv(무어-펜로즈 유사역원 역행렬), qr(QR붆), svd(특이값 분해), solve(A가 정사각 행렬일 때 Ax = b를 만족하는 x), lstsq(Ax = b를 만족하는 최소제곱해)"
   ]
  },
  {
   "cell_type": "markdown",
   "id": "incorporate-memphis",
   "metadata": {},
   "source": [
    "### 4.6 난수 생성"
   ]
  },
  {
   "cell_type": "code",
   "execution_count": 97,
   "id": "cheap-authority",
   "metadata": {},
   "outputs": [
    {
     "name": "stdout",
     "output_type": "stream",
     "text": [
      "[[-2.10606048  0.16809282 -2.69272064 -0.70877201]\n",
      " [ 1.08533039 -0.29197929  0.11723325  0.03717139]\n",
      " [-0.25415096 -0.71765163  1.74007434  0.17984005]\n",
      " [ 0.1715137   1.27882453  0.68532332  1.05263514]]\n",
      "--------------------------------\n",
      "[ 0.47143516 -1.19097569  1.43270697 -0.3126519  -0.72058873  0.88716294\n",
      "  0.85958841 -0.6365235   0.01569637 -2.24268495]\n",
      "--------------------------------\n"
     ]
    }
   ],
   "source": [
    "# 표준정규분포 표본\n",
    "samples = np.random.normal(size = (4,4))\n",
    "print(samples)\n",
    "print(\"--------------------------------\")\n",
    "\n",
    "# np.random.seed() - seed값 설정\n",
    "np.random.seed(1234)\n",
    "\n",
    "# np.random.RandomState() - 다른 난수 생성기로부터 격리된 난수 생성기\n",
    "rng = np.random.RandomState(1234)\n",
    "print(rng.randn(10))\n",
    "print(\"--------------------------------\")"
   ]
  },
  {
   "cell_type": "markdown",
   "id": "controlling-congo",
   "metadata": {},
   "source": [
    "#### - numpy.random 함수 : seed, permutation(순서를 임의로 바꾸거나 임의의 순열을 반환), shuffle(리스트나 배열의 순서를 뒤섞는다), rand(균등분포에서 표본 추출), randint(주어진 최대/최소 범위 안에서 임의의 난수 추출), randn(표준정규분포에서 추출), binomial(이항분포 추출), noraml(정규분포 추출), beta(베타분포 추출), chisqure(카이제곱분포 추출), gamma(감마분포 추출), uniform(r균등 [0,1)분포에서 추출)"
   ]
  }
 ],
 "metadata": {
  "kernelspec": {
   "display_name": "Python 3",
   "language": "python",
   "name": "python3"
  },
  "language_info": {
   "codemirror_mode": {
    "name": "ipython",
    "version": 3
   },
   "file_extension": ".py",
   "mimetype": "text/x-python",
   "name": "python",
   "nbconvert_exporter": "python",
   "pygments_lexer": "ipython3",
   "version": "3.6.8"
  }
 },
 "nbformat": 4,
 "nbformat_minor": 5
}
