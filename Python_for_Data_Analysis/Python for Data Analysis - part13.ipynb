{
 "cells": [
  {
   "cell_type": "markdown",
   "id": "assigned-convention",
   "metadata": {},
   "source": [
    "# Python for Data Analysis - part13"
   ]
  },
  {
   "cell_type": "markdown",
   "id": "bearing-headquarters",
   "metadata": {},
   "source": [
    "##### Python의 numpy, pandas 등을 정리하였으며 파이썬 라이브러리를 활용한 데이터분석(2판)을 참고하여 작성하였습니다.\n",
    "##### 해당 자료는 python 3.6 기반으로 작성되었습니다."
   ]
  },
  {
   "cell_type": "markdown",
   "id": "super-diameter",
   "metadata": {},
   "source": [
    "## 13. 파이썬 모데링 라이브러리"
   ]
  },
  {
   "cell_type": "markdown",
   "id": "competent-connection",
   "metadata": {},
   "source": [
    "### 13.1 pandas와 모델 코드의 인터페이스\n",
    "#### - 피처 엔지니어링 : 특징을 선택하고 추출 / 모델링에서 유용할 수 있는 정보를 추출하는 변환이나 분석 과정"
   ]
  },
  {
   "cell_type": "code",
   "execution_count": 1,
   "id": "three-gathering",
   "metadata": {},
   "outputs": [
    {
     "name": "stdout",
     "output_type": "stream",
     "text": [
      "   x0    x1    y\n",
      "0   1  0.01 -1.5\n",
      "1   2 -0.01  0.0\n",
      "2   3  0.25  3.6\n",
      "3   4 -4.10  1.3\n",
      "4   5  0.00 -2.0\n",
      "------------------------------------\n",
      "Index(['x0', 'x1', 'y'], dtype='object')\n",
      "------------------------------------\n",
      "[[ 1.    0.01 -1.5 ]\n",
      " [ 2.   -0.01  0.  ]\n",
      " [ 3.    0.25  3.6 ]\n",
      " [ 4.   -4.1   1.3 ]\n",
      " [ 5.    0.   -2.  ]]\n",
      "------------------------------------\n"
     ]
    }
   ],
   "source": [
    "import pandas as pd\n",
    "import numpy as np\n",
    "\n",
    "data = pd.DataFrame({\n",
    "    'x0' : [1,2,3,4,5],\n",
    "    'x1' : [0.01, -0.01, 0.25, -4.1, 0.],\n",
    "    'y' : [-1.5, 0., 3.6, 1.3, -2]})\n",
    "print(data)\n",
    "print(\"------------------------------------\")\n",
    "\n",
    "print(data.columns)\n",
    "print(\"------------------------------------\")\n",
    "\n",
    "# numpy array로 변환\n",
    "print(data.values)\n",
    "print(\"------------------------------------\")"
   ]
  },
  {
   "cell_type": "code",
   "execution_count": 3,
   "id": "assured-sierra",
   "metadata": {},
   "outputs": [
    {
     "name": "stdout",
     "output_type": "stream",
     "text": [
      "   one   two  three\n",
      "0  1.0  0.01   -1.5\n",
      "1  2.0 -0.01    0.0\n",
      "2  3.0  0.25    3.6\n",
      "3  4.0 -4.10    1.3\n",
      "4  5.0  0.00   -2.0\n",
      "------------------------------------\n",
      "   x0    x1    y strings\n",
      "0   1  0.01 -1.5       a\n",
      "1   2 -0.01  0.0       b\n",
      "2   3  0.25  3.6       c\n",
      "3   4 -4.10  1.3       d\n",
      "4   5  0.00 -2.0       e\n",
      "------------------------------------\n",
      "[[1 0.01 -1.5 'a']\n",
      " [2 -0.01 0.0 'b']\n",
      " [3 0.25 3.6 'c']\n",
      " [4 -4.1 1.3 'd']\n",
      " [5 0.0 -2.0 'e']]\n",
      "------------------------------------\n"
     ]
    }
   ],
   "source": [
    "df2 = pd.DataFrame(data.values, columns = ['one', 'two', 'three'])\n",
    "print(df2)\n",
    "print(\"------------------------------------\")\n",
    "\n",
    "df3 = data.copy()\n",
    "df3['strings'] = ['a', 'b', 'c', 'd', 'e']\n",
    "print(df3)\n",
    "print(\"------------------------------------\")\n",
    "\n",
    "# data type이 다르면 numpy가 아닌 python 기본 array 반환\n",
    "print(df3.values)\n",
    "print(\"------------------------------------\")"
   ]
  },
  {
   "cell_type": "code",
   "execution_count": 4,
   "id": "attempted-vector",
   "metadata": {},
   "outputs": [
    {
     "name": "stdout",
     "output_type": "stream",
     "text": [
      "   x0    x1    y category\n",
      "0   1  0.01 -1.5        a\n",
      "1   2 -0.01  0.0        b\n",
      "2   3  0.25  3.6        a\n",
      "3   4 -4.10  1.3        a\n",
      "4   5  0.00 -2.0        b\n",
      "------------------------------------\n",
      "   x0    x1    y  category_a  category_b\n",
      "0   1  0.01 -1.5           1           0\n",
      "1   2 -0.01  0.0           0           1\n",
      "2   3  0.25  3.6           1           0\n",
      "3   4 -4.10  1.3           1           0\n",
      "4   5  0.00 -2.0           0           1\n",
      "------------------------------------\n"
     ]
    }
   ],
   "source": [
    "data['category'] = pd.Categorical(['a', 'b', 'a', 'a', 'b'], categories=['a', 'b'])\n",
    "print(data)\n",
    "print(\"------------------------------------\")\n",
    "\n",
    "dummies = pd.get_dummies(data.category, prefix = 'category')\n",
    "data_with_dummies = data.drop('category', axis = 1).join(dummies)\n",
    "print(data_with_dummies)\n",
    "print(\"------------------------------------\")"
   ]
  },
  {
   "cell_type": "markdown",
   "id": "operational-gregory",
   "metadata": {},
   "source": [
    "### 13.2 Pasty를 이용해서 모델 생성하기\n",
    "#### - patsy(팻시)는 통계 모델을 위한 파이썬 라이브러리 / R에서 사용하는 수식 문법과 비슷한 형식의 문자열 기반 '수식 문법' 제공"
   ]
  },
  {
   "cell_type": "code",
   "execution_count": 7,
   "id": "aquatic-luther",
   "metadata": {},
   "outputs": [
    {
     "name": "stdout",
     "output_type": "stream",
     "text": [
      "   x0    x1    y\n",
      "0   1  0.01 -1.5\n",
      "1   2 -0.01  0.0\n",
      "2   3  0.25  3.6\n",
      "3   4 -4.10  1.3\n",
      "4   5  0.00 -2.0\n",
      "------------------------------------\n",
      "[[-1.5]\n",
      " [ 0. ]\n",
      " [ 3.6]\n",
      " [ 1.3]\n",
      " [-2. ]]\n",
      "------------------------------------\n",
      "[[ 1.    1.    0.01]\n",
      " [ 1.    2.   -0.01]\n",
      " [ 1.    3.    0.25]\n",
      " [ 1.    4.   -4.1 ]\n",
      " [ 1.    5.    0.  ]]\n",
      "------------------------------------\n",
      "[[-1.5]\n",
      " [ 0. ]\n",
      " [ 3.6]\n",
      " [ 1.3]\n",
      " [-2. ]]\n",
      "------------------------------------\n",
      "[[ 1.    1.    0.01]\n",
      " [ 1.    2.   -0.01]\n",
      " [ 1.    3.    0.25]\n",
      " [ 1.    4.   -4.1 ]\n",
      " [ 1.    5.    0.  ]]\n",
      "------------------------------------\n",
      "[[ 1.    0.01]\n",
      " [ 2.   -0.01]\n",
      " [ 3.    0.25]\n",
      " [ 4.   -4.1 ]\n",
      " [ 5.    0.  ]]\n",
      "------------------------------------\n"
     ]
    }
   ],
   "source": [
    "data = pd.DataFrame({\n",
    "    'x0' : [1,2,3,4,5],\n",
    "    'x1' : [0.01, -0.01, 0.25, -4.1, 0.],\n",
    "    'y' : [-1.5, 0., 3.6, 1.3, -2]})\n",
    "print(data)\n",
    "print(\"------------------------------------\")\n",
    "\n",
    "import patsy\n",
    "\n",
    "y, X = patsy.dmatrices('y ~ x0 + x1', data)\n",
    "\n",
    "print(y)\n",
    "print(\"------------------------------------\")\n",
    "\n",
    "print(X)\n",
    "print(\"------------------------------------\")\n",
    "\n",
    "print(np.asarray(y))\n",
    "print(\"------------------------------------\")\n",
    "\n",
    "print(np.asarray(X))\n",
    "print(\"------------------------------------\")\n",
    "\n",
    "# 모델에 0을 더하면 intercept term이 제거\n",
    "print(patsy.dmatrices('y ~ x0 + x1 + 0', data)[1])\n",
    "print(\"------------------------------------\")"
   ]
  },
  {
   "cell_type": "code",
   "execution_count": 8,
   "id": "documented-croatia",
   "metadata": {},
   "outputs": [
    {
     "name": "stdout",
     "output_type": "stream",
     "text": [
      "[[ 0.31290976]\n",
      " [-0.07910564]\n",
      " [-0.26546384]]\n",
      "------------------------------------\n",
      "Intercept    0.312910\n",
      "x0          -0.079106\n",
      "x1          -0.265464\n",
      "dtype: float64\n",
      "------------------------------------\n"
     ]
    },
    {
     "name": "stderr",
     "output_type": "stream",
     "text": [
      "/Users/qook/Python/3.6/venv/lib/python3.6/site-packages/ipykernel_launcher.py:1: FutureWarning: `rcond` parameter will change to the default of machine precision times ``max(M, N)`` where M and N are the input matrix dimensions.\n",
      "To use the future default and silence this warning we advise to pass `rcond=None`, to keep using the old, explicitly pass `rcond=-1`.\n",
      "  \"\"\"Entry point for launching an IPython kernel.\n"
     ]
    }
   ],
   "source": [
    "coef, resid, _, _ = np.linalg.lstsq(X, y)\n",
    "print(coef)\n",
    "print(\"------------------------------------\")\n",
    "\n",
    "coef = pd.Series(coef.squeeze(), index = X.design_info.column_names)\n",
    "print(coef)\n",
    "print(\"------------------------------------\")"
   ]
  },
  {
   "cell_type": "markdown",
   "id": "mexican-attribute",
   "metadata": {},
   "source": [
    "#### 13.2.1 Patsy 용법으로 데이터 변환하기"
   ]
  },
  {
   "cell_type": "code",
   "execution_count": 16,
   "id": "innocent-watts",
   "metadata": {},
   "outputs": [
    {
     "name": "stdout",
     "output_type": "stream",
     "text": [
      "[[1.         1.         0.00995033]\n",
      " [1.         2.         0.00995033]\n",
      " [1.         3.         0.22314355]\n",
      " [1.         4.         1.62924054]\n",
      " [1.         5.         0.        ]]\n",
      "------------------------------------\n",
      "[[ 1.         -1.41421356  0.78      ]\n",
      " [ 1.         -0.70710678  0.76      ]\n",
      " [ 1.          0.          1.02      ]\n",
      " [ 1.          0.70710678 -3.33      ]\n",
      " [ 1.          1.41421356  0.77      ]]\n",
      "------------------------------------\n",
      "[DesignMatrix with shape (4, 3)\n",
      "  Intercept  standardize(x0)  center(x1)\n",
      "          1          2.12132        3.87\n",
      "          1          2.82843        0.27\n",
      "          1          3.53553        0.77\n",
      "          1          4.24264        3.07\n",
      "  Terms:\n",
      "    'Intercept' (column 0)\n",
      "    'standardize(x0)' (column 1)\n",
      "    'center(x1)' (column 2)]\n",
      "------------------------------------\n",
      "DesignInfo(['Intercept', 'I(x0 + x1)'],\n",
      "           factor_infos={EvalFactor('I(x0 + x1)'): FactorInfo(factor=EvalFactor('I(x0 + x1)'),\n",
      "                                    type='numerical',\n",
      "                                    state=<factor state>,\n",
      "                                    num_columns=1)},\n",
      "           term_codings=OrderedDict([(Term([]),\n",
      "                                      [SubtermInfo(factors=(),\n",
      "                                                   contrast_matrices={},\n",
      "                                                   num_columns=1)]),\n",
      "                                     (Term([EvalFactor('I(x0 + x1)')]),\n",
      "                                      [SubtermInfo(factors=(EvalFactor('I(x0 + x1)'),),\n",
      "                                                   contrast_matrices={},\n",
      "                                                   num_columns=1)])]))\n",
      "------------------------------------\n"
     ]
    }
   ],
   "source": [
    "y, X = patsy.dmatrices('y ~ x0 + np.log(np.abs(x1) + 1)', data)\n",
    "print(X)\n",
    "print(\"------------------------------------\")\n",
    "\n",
    "# 표준화(평균0, 분산1), 센터링(평균값을 뺌) - standardize(), center()\n",
    "y, X = patsy.dmatrices('y ~ standardize(x0) + center(x1)', data)\n",
    "print(X)\n",
    "print(\"------------------------------------\")\n",
    "\n",
    "# patsy.build_design_matrices() - 입력으로 사용되는 원본 데이터셋에서 저장한 정보를 사용해서 출력 데이터를 만들어내는 변환에 적용\n",
    "new_data = pd.DataFrame({\n",
    "    'x0' : [6,7,8,9],\n",
    "    'x1' : [3.1, -0.5, 0, 2.3],\n",
    "    'y' : [1,2,3,4]})\n",
    "\n",
    "new_X = patsy.build_design_matrices([X.design_info], new_data) # design_info - 모델 메타 데이터\n",
    "print(new_X)\n",
    "print(\"------------------------------------\")\n",
    "\n",
    "# I() - 데이터셋에서 이름으로 컬럼을 추가\n",
    "y, X = patsy.dmatrices('y ~ I(x0 + x1)', data)\n",
    "print(X.design_info)\n",
    "print(\"------------------------------------\")"
   ]
  },
  {
   "cell_type": "markdown",
   "id": "committed-print",
   "metadata": {},
   "source": [
    "#### 13.2.2 범주형 데이터와 Patsy"
   ]
  },
  {
   "cell_type": "code",
   "execution_count": 29,
   "id": "bottom-patient",
   "metadata": {},
   "outputs": [
    {
     "name": "stdout",
     "output_type": "stream",
     "text": [
      "DesignInfo(['Intercept', 'key1[T.b]'],\n",
      "           factor_infos={EvalFactor('key1'): FactorInfo(factor=EvalFactor('key1'),\n",
      "                                    type='categorical',\n",
      "                                    state=<factor state>,\n",
      "                                    categories=('a', 'b'))},\n",
      "           term_codings=OrderedDict([(Term([]),\n",
      "                                      [SubtermInfo(factors=(),\n",
      "                                                   contrast_matrices={},\n",
      "                                                   num_columns=1)]),\n",
      "                                     (Term([EvalFactor('key1')]),\n",
      "                                      [SubtermInfo(factors=(EvalFactor('key1'),),\n",
      "                                                   contrast_matrices={EvalFactor('key1'): ContrastMatrix(array([[0.],\n",
      "                                                                                            [1.]]),\n",
      "                                                                                     ['[T.b]'])},\n",
      "                                                   num_columns=1)])]))\n",
      "------------------------------------\n",
      "DesignInfo(['key1[a]', 'key1[b]'],\n",
      "           factor_infos={EvalFactor('key1'): FactorInfo(factor=EvalFactor('key1'),\n",
      "                                    type='categorical',\n",
      "                                    state=<factor state>,\n",
      "                                    categories=('a', 'b'))},\n",
      "           term_codings=OrderedDict([(Term([EvalFactor('key1')]),\n",
      "                                      [SubtermInfo(factors=(EvalFactor('key1'),),\n",
      "                                                   contrast_matrices={EvalFactor('key1'): ContrastMatrix(array([[1., 0.],\n",
      "                                                                                            [0., 1.]]),\n",
      "                                                                                     ['[a]',\n",
      "                                                                                      '[b]'])},\n",
      "                                                   num_columns=2)])]))\n",
      "------------------------------------\n",
      "DesignInfo(['Intercept', 'C(key2)[T.1]'],\n",
      "           factor_infos={EvalFactor('C(key2)'): FactorInfo(factor=EvalFactor('C(key2)'),\n",
      "                                    type='categorical',\n",
      "                                    state=<factor state>,\n",
      "                                    categories=(0, 1))},\n",
      "           term_codings=OrderedDict([(Term([]),\n",
      "                                      [SubtermInfo(factors=(),\n",
      "                                                   contrast_matrices={},\n",
      "                                                   num_columns=1)]),\n",
      "                                     (Term([EvalFactor('C(key2)')]),\n",
      "                                      [SubtermInfo(factors=(EvalFactor('C(key2)'),),\n",
      "                                                   contrast_matrices={EvalFactor('C(key2)'): ContrastMatrix(array([[0.],\n",
      "                                                                                            [1.]]),\n",
      "                                                                                     ['[T.1]'])},\n",
      "                                                   num_columns=1)])]))\n",
      "------------------------------------\n"
     ]
    }
   ],
   "source": [
    "data = pd.DataFrame({\n",
    "    'key1' : ['a','a','b','b','a','b','a','b'],\n",
    "    'key2' : [0,1,0,1,0,1,0,0],\n",
    "    'v1' : [1,2,3,4,5,6,7,8],\n",
    "    'v2' : [-1, 0, 2.5, -0.5, 4.0, -1.2, 0.2, -1.7]\n",
    "})\n",
    "\n",
    "y, X = patsy.dmatrices('v2 ~ key1', data)\n",
    "print(X.design_info)\n",
    "print(\"------------------------------------\")\n",
    "\n",
    "y, X = patsy.dmatrices('v2 ~ key1 +0', data)\n",
    "print(X.design_info)\n",
    "print(\"------------------------------------\")\n",
    "\n",
    "# C() -산술 컬럼을 범주형으로 해석\n",
    "y, X = patsy.dmatrices('v2 ~ C(key2)', data)\n",
    "print(X.design_info)\n",
    "print(\"------------------------------------\")"
   ]
  },
  {
   "cell_type": "code",
   "execution_count": 30,
   "id": "dated-champion",
   "metadata": {},
   "outputs": [
    {
     "data": {
      "text/plain": [
       "DesignMatrix with shape (8, 3)\n",
       "  Intercept  key1[T.b]  key2[T.zero]\n",
       "          1          0             1\n",
       "          1          0             0\n",
       "          1          1             1\n",
       "          1          1             0\n",
       "          1          0             1\n",
       "          1          1             0\n",
       "          1          0             1\n",
       "          1          1             1\n",
       "  Terms:\n",
       "    'Intercept' (column 0)\n",
       "    'key1' (column 1)\n",
       "    'key2' (column 2)"
      ]
     },
     "execution_count": 30,
     "metadata": {},
     "output_type": "execute_result"
    }
   ],
   "source": [
    "data['key2'] = data['key2'].map({0:'zero', 1:'one'})\n",
    "y, X = patsy.dmatrices('v2 ~ key1 + key2', data)\n",
    "X"
   ]
  },
  {
   "cell_type": "code",
   "execution_count": 32,
   "id": "copyrighted-handle",
   "metadata": {},
   "outputs": [
    {
     "data": {
      "text/plain": [
       "DesignMatrix with shape (8, 4)\n",
       "  Intercept  key1[T.b]  key2[T.zero]  key1[T.b]:key2[T.zero]\n",
       "          1          0             1                       0\n",
       "          1          0             0                       0\n",
       "          1          1             1                       1\n",
       "          1          1             0                       0\n",
       "          1          0             1                       0\n",
       "          1          1             0                       0\n",
       "          1          0             1                       0\n",
       "          1          1             1                       1\n",
       "  Terms:\n",
       "    'Intercept' (column 0)\n",
       "    'key1' (column 1)\n",
       "    'key2' (column 2)\n",
       "    'key1:key2' (column 3)"
      ]
     },
     "execution_count": 32,
     "metadata": {},
     "output_type": "execute_result"
    }
   ],
   "source": [
    "y, X = patsy.dmatrices('v2 ~ key1 + key2 + key1:key2', data)\n",
    "X"
   ]
  },
  {
   "cell_type": "markdown",
   "id": "saved-display",
   "metadata": {},
   "source": [
    "### 13.3 statsmodels 소개\n",
    "#### - statsmodels는 다양한 종류의 통계 모델 피팅, 통계 테스트 수행, 데이터 탐색, 시각화를 위한 라이브러리\n",
    "#### - 선형모델, 일반선형모델, 로버스트선형모델, 선형복합효과모델, 아노바 메서드, 시계열 처리 및 상태 공간 모델, 일반적률추정법"
   ]
  },
  {
   "cell_type": "markdown",
   "id": "white-shame",
   "metadata": {},
   "source": [
    "#### 13.3.1 선형 모델 예측하기"
   ]
  },
  {
   "cell_type": "code",
   "execution_count": 34,
   "id": "interested-extra",
   "metadata": {},
   "outputs": [],
   "source": [
    "import statsmodels.api as sm\n",
    "import statsmodels.formula.api as smf\n",
    "import numpy as np\n",
    "import pandas as pd"
   ]
  },
  {
   "cell_type": "code",
   "execution_count": 37,
   "id": "express-accuracy",
   "metadata": {},
   "outputs": [],
   "source": [
    "def dnorm(mean, variance, size = 1):\n",
    "    if isinstance(size, int):\n",
    "        size = size,\n",
    "    return mean + np.sqrt(variance) * np.random.randn(*size)\n",
    "\n",
    "np.random.randn(12345)\n",
    "N = 100\n",
    "X = np.c_[dnorm(0, 0.4, size = N),\n",
    "         dnorm(0, 0.6, size = N), \n",
    "         dnorm(0, 0.2, size = N)]\n",
    "eps = dnorm(0, 0.1, size = N)\n",
    "beta = [0.1, 0.3, 0.5]\n",
    "\n",
    "y = np.dot(X, beta) + eps"
   ]
  },
  {
   "cell_type": "code",
   "execution_count": 38,
   "id": "alive-myanmar",
   "metadata": {},
   "outputs": [
    {
     "name": "stdout",
     "output_type": "stream",
     "text": [
      "[[ 0.41330133 -0.72103493 -0.62054437]\n",
      " [-0.1775228  -0.77948667 -0.20781845]\n",
      " [ 1.1802563  -0.59658076  0.18706073]\n",
      " [ 0.64533176 -0.81869486  0.05192086]\n",
      " [ 0.95312359  0.02255852 -0.06609892]]\n",
      "------------------------------------\n",
      "[-0.74360246 -0.44509569 -0.08059897 -0.5200937   0.24126448]\n",
      "------------------------------------\n"
     ]
    }
   ],
   "source": [
    "print(X[:5])\n",
    "print(\"------------------------------------\")\n",
    "\n",
    "print(y[:5])\n",
    "print(\"------------------------------------\")"
   ]
  },
  {
   "cell_type": "code",
   "execution_count": 39,
   "id": "global-imaging",
   "metadata": {},
   "outputs": [
    {
     "name": "stdout",
     "output_type": "stream",
     "text": [
      "[[ 1.          0.41330133 -0.72103493 -0.62054437]\n",
      " [ 1.         -0.1775228  -0.77948667 -0.20781845]\n",
      " [ 1.          1.1802563  -0.59658076  0.18706073]\n",
      " [ 1.          0.64533176 -0.81869486  0.05192086]\n",
      " [ 1.          0.95312359  0.02255852 -0.06609892]]\n",
      "------------------------------------\n"
     ]
    }
   ],
   "source": [
    "# sm.add_constant() - intercetp와 함께 피팅\n",
    "X_model = sm.add_constant(X)\n",
    "print(X_model[:5])\n",
    "print(\"------------------------------------\")"
   ]
  },
  {
   "cell_type": "code",
   "execution_count": 40,
   "id": "successful-dressing",
   "metadata": {},
   "outputs": [
    {
     "name": "stdout",
     "output_type": "stream",
     "text": [
      "[0.11509916 0.33325065 0.60303137]\n",
      "------------------------------------\n",
      "                                 OLS Regression Results                                \n",
      "=======================================================================================\n",
      "Dep. Variable:                      y   R-squared (uncentered):                   0.507\n",
      "Model:                            OLS   Adj. R-squared (uncentered):              0.492\n",
      "Method:                 Least Squares   F-statistic:                              33.26\n",
      "Date:                Thu, 03 Jun 2021   Prob (F-statistic):                    7.19e-15\n",
      "Time:                        21:58:59   Log-Likelihood:                         -38.750\n",
      "No. Observations:                 100   AIC:                                      83.50\n",
      "Df Residuals:                      97   BIC:                                      91.32\n",
      "Df Model:                           3                                                  \n",
      "Covariance Type:            nonrobust                                                  \n",
      "==============================================================================\n",
      "                 coef    std err          t      P>|t|      [0.025      0.975]\n",
      "------------------------------------------------------------------------------\n",
      "x1             0.1151      0.051      2.249      0.027       0.014       0.217\n",
      "x2             0.3333      0.049      6.734      0.000       0.235       0.431\n",
      "x3             0.6030      0.089      6.803      0.000       0.427       0.779\n",
      "==============================================================================\n",
      "Omnibus:                        0.156   Durbin-Watson:                   2.306\n",
      "Prob(Omnibus):                  0.925   Jarque-Bera (JB):                0.156\n",
      "Skew:                          -0.086   Prob(JB):                        0.925\n",
      "Kurtosis:                       2.913   Cond. No.                         1.81\n",
      "==============================================================================\n",
      "\n",
      "Notes:\n",
      "[1] R² is computed without centering (uncentered) since the model does not contain a constant.\n",
      "[2] Standard Errors assume that the covariance matrix of the errors is correctly specified.\n",
      "------------------------------------\n"
     ]
    }
   ],
   "source": [
    "# sm.OLS 클래스 - 최소자승 선형회귀 피팅\n",
    "model = sm.OLS(y, X)\n",
    "results = model.fit()\n",
    "print(results.params)\n",
    "print(\"------------------------------------\")\n",
    "\n",
    "print(results.summary())\n",
    "print(\"------------------------------------\")"
   ]
  },
  {
   "cell_type": "code",
   "execution_count": 41,
   "id": "lovely-domain",
   "metadata": {},
   "outputs": [
    {
     "name": "stdout",
     "output_type": "stream",
     "text": [
      "       col0      col1      col2         y\n",
      "0  0.413301 -0.721035 -0.620544 -0.743602\n",
      "1 -0.177523 -0.779487 -0.207818 -0.445096\n",
      "2  1.180256 -0.596581  0.187061 -0.080599\n",
      "3  0.645332 -0.818695  0.051921 -0.520094\n",
      "4  0.953124  0.022559 -0.066099  0.241264\n",
      "------------------------------------\n"
     ]
    }
   ],
   "source": [
    "data = pd.DataFrame(X, columns = ['col0', 'col1', 'col2'])\n",
    "data['y'] = y\n",
    "print(data[:5])\n",
    "print(\"------------------------------------\")"
   ]
  },
  {
   "cell_type": "code",
   "execution_count": 43,
   "id": "disturbed-belfast",
   "metadata": {},
   "outputs": [
    {
     "name": "stdout",
     "output_type": "stream",
     "text": [
      "Intercept    0.023453\n",
      "col0         0.112212\n",
      "col1         0.334259\n",
      "col2         0.600675\n",
      "dtype: float64\n",
      "------------------------------------\n",
      "Intercept    0.642201\n",
      "col0         2.177975\n",
      "col1         6.730378\n",
      "col2         6.750415\n",
      "dtype: float64\n",
      "------------------------------------\n",
      "0   -0.543928\n",
      "1   -0.381849\n",
      "2    0.068842\n",
      "3   -0.146602\n",
      "4    0.098241\n",
      "dtype: float64\n",
      "------------------------------------\n"
     ]
    }
   ],
   "source": [
    "results = smf.ols('y ~ col0 + col1 + col2', data = data).fit()\n",
    "print(results.params)\n",
    "print(\"------------------------------------\")\n",
    "\n",
    "print(results.tvalues)\n",
    "print(\"------------------------------------\")\n",
    "\n",
    "print(results.predict(data[:5]))\n",
    "print(\"------------------------------------\")"
   ]
  },
  {
   "cell_type": "markdown",
   "id": "respective-reggae",
   "metadata": {},
   "source": [
    "#### 13.3.2 시계열 처리 예측"
   ]
  },
  {
   "cell_type": "code",
   "execution_count": 45,
   "id": "secondary-business",
   "metadata": {},
   "outputs": [
    {
     "name": "stdout",
     "output_type": "stream",
     "text": [
      "[-0.00687915  0.81400155 -0.39092489 -0.02428872  0.01236633  0.00517477]\n",
      "------------------------------------\n"
     ]
    },
    {
     "name": "stderr",
     "output_type": "stream",
     "text": [
      "/Users/qook/Python/3.6/venv/lib/python3.6/site-packages/statsmodels/tsa/ar_model.py:791: FutureWarning: \n",
      "statsmodels.tsa.AR has been deprecated in favor of statsmodels.tsa.AutoReg and\n",
      "statsmodels.tsa.SARIMAX.\n",
      "\n",
      "AutoReg adds the ability to specify exogenous variables, include time trends,\n",
      "and add seasonal dummies. The AutoReg API differs from AR since the model is\n",
      "treated as immutable, and so the entire specification including the lag\n",
      "length must be specified when creating the model. This change is too\n",
      "substantial to incorporate into the existing AR api. The function\n",
      "ar_select_order performs lag length selection for AutoReg models.\n",
      "\n",
      "AutoReg only estimates parameters using conditional MLE (OLS). Use SARIMAX to\n",
      "estimate ARX and related models using full MLE via the Kalman Filter.\n",
      "\n",
      "To silence this warning and continue using AR until it is removed, use:\n",
      "\n",
      "import warnings\n",
      "warnings.filterwarnings('ignore', 'statsmodels.tsa.ar_model.AR', FutureWarning)\n",
      "\n",
      "  warnings.warn(AR_DEPRECATION_WARN, FutureWarning)\n"
     ]
    }
   ],
   "source": [
    "init_x = 4\n",
    "\n",
    "import random \n",
    "values = [init_x, init_x]\n",
    "N = 1000\n",
    "\n",
    "b0 = 0.8\n",
    "b1 = -0.4\n",
    "noise = dnorm(0, 0.1, N)\n",
    "for i in range(N):\n",
    "    new_x = values[-1] * b0 + values[-2] * b1 + noise[i]\n",
    "    values.append(new_x)\n",
    "\n",
    "MAXLAGS = 5\n",
    "model = sm.tsa.AR(values)\n",
    "results = model.fit(MAXLAGS)\n",
    "print(results.params)\n",
    "print(\"------------------------------------\")"
   ]
  },
  {
   "cell_type": "markdown",
   "id": "healthy-economics",
   "metadata": {},
   "source": [
    "### 13.4 scikit-learn 소개 - 다른 책을 활용하여 정리 예정\n",
    "#### - 가장 널리 쓰이는 파이썬 머신러닝 툴\n",
    "#### - 지도학습, 비지도학습을 포함 / 모델 선택, 평가, 데이터 변형, 데이터 적재, 모델 유지 및 기타 적업들을 위한 도구들을 제공"
   ]
  }
 ],
 "metadata": {
  "kernelspec": {
   "display_name": "Python 3",
   "language": "python",
   "name": "python3"
  },
  "language_info": {
   "codemirror_mode": {
    "name": "ipython",
    "version": 3
   },
   "file_extension": ".py",
   "mimetype": "text/x-python",
   "name": "python",
   "nbconvert_exporter": "python",
   "pygments_lexer": "ipython3",
   "version": "3.6.8"
  }
 },
 "nbformat": 4,
 "nbformat_minor": 5
}
